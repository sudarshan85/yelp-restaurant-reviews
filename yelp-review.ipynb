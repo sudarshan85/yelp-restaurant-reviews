{
 "cells": [
  {
   "cell_type": "markdown",
   "metadata": {},
   "source": [
    "# Modern NLP Tutorial\n",
    "This notebook is following the tutorial from PyData 2016 by Patrick Harrision titled \"Modern NLP in Python\". It involves processing Yelp restaurant reviews, modeling topics from them, visualizing the topics, and creating and visualizing word vectors. The original notebook can be found [here](https://github.com/skipgram/modern-nlp-in-python/blob/master/executable/Modern_NLP_in_Python.ipynb). The accompanying video from PyData can be found [here](https://youtu.be/6zm9NC9uRkk). The academic dataset used in the notebook can be downloaded from [here](https://app.dominodatalab.com/mtldata/yackathon/browse/yelp_dataset_challenge_academic_dataset). The entire Yelp dataset can be found [here](https://www.yelp.com/dataset)."
   ]
  },
  {
   "cell_type": "markdown",
   "metadata": {},
   "source": [
    "## Imports and Data Preparation"
   ]
  },
  {
   "cell_type": "markdown",
   "metadata": {},
   "source": [
    "### Import Packages and set data directory paths"
   ]
  },
  {
   "cell_type": "code",
   "execution_count": 5,
   "metadata": {
    "ExecuteTime": {
     "end_time": "2018-03-12T20:28:56.915803Z",
     "start_time": "2018-03-12T20:28:56.890209Z"
    }
   },
   "outputs": [],
   "source": [
    "import os\n",
    "import codecs\n",
    "import pandas as pd\n",
    "import itertools as it\n",
    "import numpy as np\n",
    "import json\n",
    "import pickle\n",
    "\n",
    "from gensim.models import Phrases\n",
    "from gensim.models.word2vec import LineSentence\n",
    "from gensim.corpora import Dictionary, MmCorpus\n",
    "from gensim.models.ldamulticore import LdaMulticore\n",
    "from gensim.models import Word2Vec\n",
    "\n",
    "from sklearn.manifold import TSNE\n",
    "\n",
    "import pyLDAvis\n",
    "import pyLDAvis.gensim\n",
    "\n",
    "import warnings\n",
    "warnings.filterwarnings('ignore')\n",
    "\n",
    "import spacy\n",
    "from spacy.lang.en.stop_words import STOP_WORDS"
   ]
  },
  {
   "cell_type": "code",
   "execution_count": 2,
   "metadata": {
    "ExecuteTime": {
     "end_time": "2018-03-12T20:28:24.988483Z",
     "start_time": "2018-03-12T20:28:24.953499Z"
    }
   },
   "outputs": [],
   "source": [
    "# Toggle this variable to choose between the full and academic yelp datasets\n",
    "academic = False\n",
    "prefix = 'yelp_academic_dataset_' if academic else ''\n",
    "folder = 'yelp-academic' if academic else 'yelp-full'\n",
    "\n",
    "data_directory = os.path.join('/mnt/Data/ml/datasets/yelp-dataset/' + folder)\n",
    "businesses_filepath = os.path.join(data_directory, prefix + 'business.json')\n",
    "review_json_filepath = os.path.join(data_directory, prefix + 'review.json')\n",
    "intermediate_directory = os.path.join(data_directory, 'intermediate')\n",
    "\n",
    "review_txt_filepath = os.path.join(intermediate_directory, 'review_text_all.txt')\n",
    "unigram_sentences_filepath = os.path.join(intermediate_directory, 'unigram_sentences_all.txt')\n",
    "bigram_model_filepath = os.path.join(intermediate_directory, 'bigram_model_all')\n",
    "bigram_sentences_filepath = os.path.join(intermediate_directory, 'bigram_sentences_all.txt')\n",
    "trigram_model_filepath = os.path.join(intermediate_directory, 'trigram_model_all')\n",
    "trigram_sentences_filepath = os.path.join(intermediate_directory, 'trigram_sentences_all.txt')\n",
    "trigram_reviews_filepath = os.path.join(intermediate_directory, 'trigram_transformed_reviews_all.txt')\n",
    "\n",
    "trigram_dictionary_filepath = os.path.join(intermediate_directory, 'trigram_dict_all.dict')\n",
    "trigram_bow_filepath = os.path.join(intermediate_directory, 'trigram_bow_corpus_all.mm')\n",
    "lda_model_filepath = os.path.join(intermediate_directory, 'lda_model_all')\n",
    "LDAvis_data_filepath = os.path.join(intermediate_directory, 'ldavis_prepared.pkl')\n",
    "\n",
    "word2vec_filepath = os.path.join(intermediate_directory, 'word2vec_model_all')\n",
    "tsne_filepath = os.path.join(intermediate_directory, 'tsne_model')\n",
    "tsne_vectors_filepath = os.path.join(intermediate_directory, 'tsne_vectors.npy')"
   ]
  },
  {
   "cell_type": "markdown",
   "metadata": {
    "heading_collapsed": true
   },
   "source": [
    "### Write out the review file (once)"
   ]
  },
  {
   "cell_type": "markdown",
   "metadata": {
    "hidden": true
   },
   "source": [
    "Read in the business json file and go through each business. Count how many restaurants are present and get their ids.\n",
    "\n",
    "Total number of restaurants in yelp-academic: 21,892\n",
    "\n",
    "Total number of restaurants in yelp-full: 54,618"
   ]
  },
  {
   "cell_type": "code",
   "execution_count": null,
   "metadata": {
    "ExecuteTime": {
     "end_time": "2018-03-07T12:47:34.679558Z",
     "start_time": "2018-03-07T12:47:28.072380Z"
    },
    "hidden": true
   },
   "outputs": [],
   "source": [
    "from helper_fns import get_restaurant_ids\n",
    "    \n",
    "restaurant_ids = get_restaurant_ids(businesses_filepath)\n",
    "print(f'{len(restaurant_ids)} restaurants in the dataset')"
   ]
  },
  {
   "cell_type": "markdown",
   "metadata": {
    "hidden": true
   },
   "source": [
    "Write out the reviews of each restaurant **ONE LINE PER REVIEW** into the reviews file. This is done by escaping the newline character and replacing it with raw '\\n' and adding a '\\n' at the end to specify a newline\n",
    "\n",
    "Number of reviews in yelp-academic: 990,627\n",
    "\n",
    "Number of reviews in yelp-full: 3,221,419"
   ]
  },
  {
   "cell_type": "code",
   "execution_count": null,
   "metadata": {
    "ExecuteTime": {
     "end_time": "2018-03-07T12:46:15.627899Z",
     "start_time": "2018-03-07T12:45:09.565543Z"
    },
    "code_folding": [],
    "hidden": true,
    "scrolled": true
   },
   "outputs": [],
   "source": [
    "from helper_fns import write_review_file\n",
    "\n",
    "review_count = write_review_file(review_txt_filepath, review_json_filepath, restaurant_ids)\n",
    "print(f'Text from {review_count} reviews written to new txt file')"
   ]
  },
  {
   "cell_type": "markdown",
   "metadata": {
    "heading_collapsed": true
   },
   "source": [
    "## SpaCy Text Processing"
   ]
  },
  {
   "cell_type": "code",
   "execution_count": null,
   "metadata": {
    "ExecuteTime": {
     "end_time": "2018-03-09T00:29:33.553286Z",
     "start_time": "2018-03-09T00:29:15.112127Z"
    },
    "hidden": true,
    "scrolled": true
   },
   "outputs": [],
   "source": [
    "nlp = spacy.load('en_default')"
   ]
  },
  {
   "cell_type": "markdown",
   "metadata": {
    "hidden": true
   },
   "source": [
    "### Sample Review\n",
    "Grab a sample review and analyze various aspects of SpaCy using it."
   ]
  },
  {
   "cell_type": "code",
   "execution_count": null,
   "metadata": {
    "ExecuteTime": {
     "end_time": "2018-03-08T02:49:15.994373Z",
     "start_time": "2018-03-08T02:49:15.292064Z"
    },
    "hidden": true
   },
   "outputs": [],
   "source": [
    "import itertools as it\n",
    "\n",
    "with codecs.open(review_txt_filepath, encoding='utf_8') as f:\n",
    "    sample_review = list(it.islice(f, 8, 9))[0]\n",
    "    sample_reveiw = sample_review.replace('\\\\n', '\\n')\n",
    "    \n",
    "parsed_review = nlp(sample_review)"
   ]
  },
  {
   "cell_type": "code",
   "execution_count": null,
   "metadata": {
    "ExecuteTime": {
     "end_time": "2018-03-08T02:26:27.996891Z",
     "start_time": "2018-03-08T02:26:27.986659Z"
    },
    "hidden": true
   },
   "outputs": [],
   "source": [
    "for num, sentence in enumerate(parsed_review.sents):\n",
    "    print(f'Sentence {num+1}:')\n",
    "    print(sentence)"
   ]
  },
  {
   "cell_type": "code",
   "execution_count": null,
   "metadata": {
    "ExecuteTime": {
     "end_time": "2018-03-08T02:27:34.344465Z",
     "start_time": "2018-03-08T02:27:34.337516Z"
    },
    "hidden": true,
    "scrolled": true
   },
   "outputs": [],
   "source": [
    "for num, entity in enumerate(parsed_review.ents):\n",
    "    print(f'Entity {num+1}: {entity} - {entity.label_}')"
   ]
  },
  {
   "cell_type": "code",
   "execution_count": null,
   "metadata": {
    "ExecuteTime": {
     "end_time": "2018-03-08T02:51:19.540873Z",
     "start_time": "2018-03-08T02:51:19.472426Z"
    },
    "hidden": true,
    "scrolled": false
   },
   "outputs": [],
   "source": [
    "token_attrs = [(token.text,\n",
    "                token.pos_,\n",
    "                token.lemma_,\n",
    "                token.shape_,\n",
    "                token.prob,\n",
    "                token.text in STOP_WORDS,\n",
    "                token.is_punct,\n",
    "                token.is_space,\n",
    "                token.like_num,\n",
    "                token.is_oov)\n",
    "                for token in parsed_review]\n",
    "\n",
    "df = pd.DataFrame(token_attrs, columns=['text', 'pos', 'lemma', 'shape', 'log_prob',\n",
    "                                       'stop?', 'punct?', 'whitespace?', 'number?',\n",
    "                                        'out of vocab?'])\n",
    "df.loc[:, 'stop?':'out of vocab?'] = (df.loc[:, 'stop?':'out of vocab?']\n",
    "                                     .applymap(lambda x: u'Yes' if x else u''))\n",
    "df"
   ]
  },
  {
   "cell_type": "markdown",
   "metadata": {
    "heading_collapsed": true
   },
   "source": [
    "## Phrase Modeling"
   ]
  },
  {
   "cell_type": "markdown",
   "metadata": {
    "heading_collapsed": true,
    "hidden": true
   },
   "source": [
    "### Unigram"
   ]
  },
  {
   "cell_type": "markdown",
   "metadata": {
    "hidden": true
   },
   "source": [
    "#### Unigram write file (once)\n",
    "Get sentences from each review and write out the unigram file. This should be done only once.\n",
    "\n",
    "Number of sentences in yelp-academic: 10,146,794  \n",
    "Time taken to process yelp-academic: 5h 34m 46s\n",
    "\n",
    "Number of sentences in yelp-full: 30,392,900  \n",
    "Time taken to process yelp-full: 16h 1m 53s"
   ]
  },
  {
   "cell_type": "code",
   "execution_count": null,
   "metadata": {
    "ExecuteTime": {
     "end_time": "2018-03-07T22:16:34.525401Z",
     "start_time": "2018-03-07T16:41:48.872601Z"
    },
    "hidden": true,
    "scrolled": true
   },
   "outputs": [],
   "source": [
    "from helper_fns import write_unigram_sents\n",
    "\n",
    "sentence_count = write_unigram_sents(unigram_sentences_filepath, review_txt_filepath, nlp)\n",
    "print(f'{sentence_count} sentences written to {unigram_sentences_filepath} file')        "
   ]
  },
  {
   "cell_type": "code",
   "execution_count": null,
   "metadata": {
    "ExecuteTime": {
     "end_time": "2018-03-08T02:52:45.313094Z",
     "start_time": "2018-03-08T02:52:45.309400Z"
    },
    "hidden": true
   },
   "outputs": [],
   "source": [
    "unigram_sentences = LineSentence(unigram_sentences_filepath)"
   ]
  },
  {
   "cell_type": "code",
   "execution_count": null,
   "metadata": {
    "ExecuteTime": {
     "end_time": "2018-03-08T02:53:20.636728Z",
     "start_time": "2018-03-08T02:53:20.602844Z"
    },
    "hidden": true,
    "scrolled": true
   },
   "outputs": [],
   "source": [
    "for unigram_sentence in it.islice(unigram_sentences, 230, 240):\n",
    "    print(u' '.join(unigram_sentence))"
   ]
  },
  {
   "cell_type": "markdown",
   "metadata": {
    "hidden": true
   },
   "source": [
    "#### Unigram Sentences Example"
   ]
  },
  {
   "cell_type": "code",
   "execution_count": null,
   "metadata": {
    "ExecuteTime": {
     "end_time": "2018-03-08T16:31:51.551923Z",
     "start_time": "2018-03-08T16:31:51.548675Z"
    },
    "hidden": true
   },
   "outputs": [],
   "source": [
    "unigram_sentences = LineSentence(unigram_sentences_filepath)"
   ]
  },
  {
   "cell_type": "code",
   "execution_count": null,
   "metadata": {
    "ExecuteTime": {
     "end_time": "2018-03-08T16:32:15.630048Z",
     "start_time": "2018-03-08T16:32:15.621292Z"
    },
    "hidden": true
   },
   "outputs": [],
   "source": [
    "for unigram_sentence in it.islice(unigram_sentences, 230, 240):\n",
    "    print(u' '.join(unigram_sentence))    "
   ]
  },
  {
   "cell_type": "markdown",
   "metadata": {
    "hidden": true
   },
   "source": [
    "### Bigram"
   ]
  },
  {
   "cell_type": "markdown",
   "metadata": {
    "hidden": true
   },
   "source": [
    "#### Bigram Phrase model create and save (once)\n",
    "We learn a phrase model that will link individual words into two-word phrases. The model is saved after generation.\n",
    "\n",
    "Time taken to generate yelp-academic bigram model: 4m 3s  \n",
    "\n",
    "Time taken to generate yelp-full bigram model: 13m 17s"
   ]
  },
  {
   "cell_type": "code",
   "execution_count": null,
   "metadata": {
    "ExecuteTime": {
     "end_time": "2018-03-08T12:44:52.784268Z",
     "start_time": "2018-03-08T12:44:52.780429Z"
    },
    "hidden": true
   },
   "outputs": [],
   "source": [
    "unigram_sentences = LineSentence(unigram_sentences_filepath)"
   ]
  },
  {
   "cell_type": "code",
   "execution_count": null,
   "metadata": {
    "ExecuteTime": {
     "end_time": "2018-03-08T12:58:27.334648Z",
     "start_time": "2018-03-08T12:45:10.287325Z"
    },
    "hidden": true
   },
   "outputs": [],
   "source": [
    "bigram_model = Phrases(unigram_sentences)\n",
    "bigram_model.save(bigram_model_filepath)"
   ]
  },
  {
   "cell_type": "markdown",
   "metadata": {
    "hidden": true
   },
   "source": [
    "#### Bigram sentences write file (once)\n",
    "After learning the bigram phrase model, we feed in the individual sentences from unigram_sentences to find possible bigram phrases. If found, gensim will automatically join them with an underscore."
   ]
  },
  {
   "cell_type": "code",
   "execution_count": null,
   "metadata": {
    "ExecuteTime": {
     "end_time": "2018-03-08T16:05:31.895533Z",
     "start_time": "2018-03-08T16:05:26.892574Z"
    },
    "hidden": true
   },
   "outputs": [],
   "source": [
    "unigram_sentences = LineSentence(unigram_sentences_filepath)\n",
    "bigram_model = Phrases.load(bigram_model_filepath)"
   ]
  },
  {
   "cell_type": "markdown",
   "metadata": {
    "hidden": true
   },
   "source": [
    "Write out the bigram sentences to disk.\n",
    "\n",
    "Number of sentences in yelp-academic: 10,109,973  \n",
    "Time taken to process yelp-academic: 12m 45s\n",
    "\n",
    "Number of sentences in yelp-full: 30,301,195  \n",
    "Time taken to process yelp-full: 36m 7s"
   ]
  },
  {
   "cell_type": "code",
   "execution_count": null,
   "metadata": {
    "ExecuteTime": {
     "end_time": "2018-03-08T16:18:16.922145Z",
     "start_time": "2018-03-08T16:05:31.896940Z"
    },
    "hidden": true
   },
   "outputs": [],
   "source": [
    "from helper_fns import write_sents\n",
    "\n",
    "sentence_count = write_sents(bigram_sentences_filepath, unigram_sentences, bigram_model)\n",
    "print(f'{sentence_count} sentences written to {bigram_sentences_filepath}')"
   ]
  },
  {
   "cell_type": "markdown",
   "metadata": {
    "hidden": true
   },
   "source": [
    "#### Bigram Sentences Example"
   ]
  },
  {
   "cell_type": "code",
   "execution_count": null,
   "metadata": {
    "ExecuteTime": {
     "end_time": "2018-03-08T16:33:56.758162Z",
     "start_time": "2018-03-08T16:33:56.755535Z"
    },
    "hidden": true
   },
   "outputs": [],
   "source": [
    "bigram_sentences = LineSentence(bigram_sentences_filepath)"
   ]
  },
  {
   "cell_type": "code",
   "execution_count": null,
   "metadata": {
    "ExecuteTime": {
     "end_time": "2018-03-08T16:34:31.379629Z",
     "start_time": "2018-03-08T16:34:31.371560Z"
    },
    "hidden": true,
    "scrolled": true
   },
   "outputs": [],
   "source": [
    "for bigram_sentence in it.islice(bigram_sentences, 230, 240):\n",
    "    print(u' '.join(bigram_sentence))"
   ]
  },
  {
   "cell_type": "markdown",
   "metadata": {
    "heading_collapsed": true,
    "hidden": true
   },
   "source": [
    "### Trigram"
   ]
  },
  {
   "cell_type": "markdown",
   "metadata": {
    "hidden": true
   },
   "source": [
    "#### Trigram Phrase model create and save (once)\n",
    "We learn a phrase model that will link individual words into three-word phrases based on the input from bigram sentences. The model is saved after generation.\n",
    "\n",
    "Time taken to generate yelp-academic bigram model: 4m 35s \n",
    "\n",
    "Time taken to generate yelp-full bigram model: 12m 14s"
   ]
  },
  {
   "cell_type": "code",
   "execution_count": null,
   "metadata": {
    "ExecuteTime": {
     "end_time": "2018-03-08T17:26:27.495322Z",
     "start_time": "2018-03-08T17:26:27.491511Z"
    },
    "hidden": true
   },
   "outputs": [],
   "source": [
    "bigram_sentences = LineSentence(bigram_sentences_filepath)"
   ]
  },
  {
   "cell_type": "code",
   "execution_count": null,
   "metadata": {
    "ExecuteTime": {
     "end_time": "2018-03-08T17:38:41.404243Z",
     "start_time": "2018-03-08T17:26:27.496573Z"
    },
    "hidden": true
   },
   "outputs": [],
   "source": [
    "trigram_model = Phrases(bigram_sentences)\n",
    "trigram_model.save(trigram_model_filepath)"
   ]
  },
  {
   "cell_type": "markdown",
   "metadata": {
    "hidden": true
   },
   "source": [
    "#### Trigram sentences write file (once)\n",
    "After learning the trigram phrase model, we feed in the individual sentences from bigram_sentences to find possible triigram phrases. If found, gensim will automatically join them with an underscore."
   ]
  },
  {
   "cell_type": "code",
   "execution_count": null,
   "metadata": {
    "ExecuteTime": {
     "end_time": "2018-03-08T19:39:48.582668Z",
     "start_time": "2018-03-08T19:39:42.963523Z"
    },
    "hidden": true
   },
   "outputs": [],
   "source": [
    "bigram_sentences = LineSentence(bigram_sentences_filepath)\n",
    "trigram_model = Phrases.load(trigram_model_filepath)"
   ]
  },
  {
   "cell_type": "markdown",
   "metadata": {
    "hidden": true
   },
   "source": [
    "Write out the trigram sentences to disk.\n",
    "\n",
    "Number of sentences in yelp-academic: 10,109,973  \n",
    "Time taken to process yelp-academic: 11m 54s\n",
    "\n",
    "Number of sentences in yelp-full: 30,301,195  \n",
    "Time taken to process yelp-full: 35m 22s"
   ]
  },
  {
   "cell_type": "code",
   "execution_count": null,
   "metadata": {
    "ExecuteTime": {
     "end_time": "2018-03-08T19:51:42.088160Z",
     "start_time": "2018-03-08T19:39:48.584521Z"
    },
    "hidden": true
   },
   "outputs": [],
   "source": [
    "from helper_fns import write_sents\n",
    "\n",
    "sentence_count = write_sents(trigram_sentences_filepath, bigram_sentences, trigram_model)\n",
    "print(f'{sentence_count} sentences written to {trigram_sentences_filepath}')"
   ]
  },
  {
   "cell_type": "markdown",
   "metadata": {
    "heading_collapsed": true,
    "hidden": true
   },
   "source": [
    "#### Trigram Sentences Example"
   ]
  },
  {
   "cell_type": "code",
   "execution_count": null,
   "metadata": {
    "ExecuteTime": {
     "end_time": "2018-03-08T20:45:15.016247Z",
     "start_time": "2018-03-08T20:45:15.014275Z"
    },
    "hidden": true
   },
   "outputs": [],
   "source": [
    "trigram_sentences = LineSentence(trigram_sentences_filepath)"
   ]
  },
  {
   "cell_type": "code",
   "execution_count": null,
   "metadata": {
    "ExecuteTime": {
     "end_time": "2018-03-08T20:46:19.149285Z",
     "start_time": "2018-03-08T20:46:19.143003Z"
    },
    "hidden": true,
    "scrolled": true
   },
   "outputs": [],
   "source": [
    "for trigram_sentence in it.islice(trigram_sentences, 300, 350):\n",
    "    print(u' '.join(trigram_sentence))"
   ]
  },
  {
   "cell_type": "markdown",
   "metadata": {
    "heading_collapsed": true
   },
   "source": [
    "## Generating full reviews file\n",
    "\n",
    "Now we will generate the full complete text of reviews which would have normalized text, no stopwords, and second order phrases (trigram).\n"
   ]
  },
  {
   "cell_type": "code",
   "execution_count": null,
   "metadata": {
    "ExecuteTime": {
     "end_time": "2018-03-09T00:29:46.083706Z",
     "start_time": "2018-03-09T00:29:35.102697Z"
    },
    "hidden": true
   },
   "outputs": [],
   "source": [
    "bigram_model = Phrases.load(bigram_model_filepath)\n",
    "trigram_model = Phrases.load(trigram_model_filepath)"
   ]
  },
  {
   "cell_type": "markdown",
   "metadata": {
    "hidden": true
   },
   "source": [
    "Number of reviews in yelp-academic: 991,714  \n",
    "Time taken to write reviews in yelp-academic: 5h 48m 52s  \n",
    "The number of reviews in the original reviews file is 990,627. The trigram transformed reviews have 1,087 reviews more than the original reviews. I am not sure where the increased number of reviews came from.\n",
    "\n",
    "Number of reviews in yelp-full: 3,223,214  \n",
    "Time taken to write reviews in yelp-full: 16h 55m 33s  \n",
    "The number of reviews in the original reviews file is 3,221,419. The trigram transformed reviews have 1,795 reviews more than the original reviews. I am not sure where the increased number of reviews came from."
   ]
  },
  {
   "cell_type": "code",
   "execution_count": null,
   "metadata": {
    "ExecuteTime": {
     "end_time": "2018-03-09T06:18:39.829342Z",
     "start_time": "2018-03-09T00:29:47.671374Z"
    },
    "hidden": true,
    "scrolled": true
   },
   "outputs": [],
   "source": [
    "from helper_fns import write_trigram_review\n",
    "\n",
    "review_count = write_trigram_review(trigram_reviews_filepath, review_txt_filepath, bigram_model, trigram_model,\n",
    "                                   nlp)\n",
    "print(f'{review_count} reviews written to {trigram_reviews_filepath}')"
   ]
  },
  {
   "cell_type": "markdown",
   "metadata": {
    "hidden": true
   },
   "source": [
    "### Review File example"
   ]
  },
  {
   "cell_type": "code",
   "execution_count": null,
   "metadata": {
    "ExecuteTime": {
     "end_time": "2018-03-10T13:11:13.234149Z",
     "start_time": "2018-03-10T13:11:13.074638Z"
    },
    "hidden": true,
    "scrolled": true
   },
   "outputs": [],
   "source": [
    "from helper_fns import line_review\n",
    "\n",
    "print(\"Original:\")\n",
    "print()\n",
    "\n",
    "for review in it.islice(line_review(review_txt_filepath), 4352, 4353):\n",
    "    print(review)\n",
    "\n",
    "print(\"----\")\n",
    "print()\n",
    "print(\"Transformed:\")\n",
    "print()\n",
    "\n",
    "with codecs.open(trigram_reviews_filepath, encoding='utf_8') as f:\n",
    "    for review in it.islice(f, 4352, 4353):\n",
    "        print(review)"
   ]
  },
  {
   "cell_type": "markdown",
   "metadata": {},
   "source": [
    "## Topic Modeling with Latent Dirichlet Allocation (_LDA_)\n",
    "\n",
    "We want to put the reviews into different representing different things. The groups are essentially the topics."
   ]
  },
  {
   "cell_type": "markdown",
   "metadata": {},
   "source": [
    "#### Generate Dictionary file"
   ]
  },
  {
   "cell_type": "markdown",
   "metadata": {},
   "source": [
    "First we create a full vocabulary of the corpus to be modeled using gensim's [**Dictionary**](https://radimrehurek.com/gensim/corpora/dictionary.html)  class.\n",
    "\n",
    "Time taken to create yelp-academic dictionary: 1m 12.5s \n",
    "\n",
    "Time taken to create yelp-full dictionary: 3m 5s "
   ]
  },
  {
   "cell_type": "code",
   "execution_count": null,
   "metadata": {
    "ExecuteTime": {
     "end_time": "2018-03-10T13:39:17.992065Z",
     "start_time": "2018-03-10T13:35:27.833811Z"
    }
   },
   "outputs": [],
   "source": [
    "trigram_reviews = LineSentence(trigram_reviews_filepath)\n",
    "\n",
    "# learn the dictionary by iterating over all of the reviews\n",
    "trigram_dictionary = Dictionary(trigram_reviews)\n",
    "\n",
    "# filter tokens that are very rare or too common from\n",
    "# the dictionary (filter_extremes) and reassign integer ids (compactify)\n",
    "trigram_dictionary.filter_extremes(no_below=10, no_above=0.4)\n",
    "trigram_dictionary.compactify()\n",
    "\n",
    "trigram_dictionary.save(trigram_dictionary_filepath)"
   ]
  },
  {
   "cell_type": "markdown",
   "metadata": {},
   "source": [
    "#### Generate bag-of-words model\n",
    "\n",
    "Using the dictionary created above (which is just a mapping of words to integer ID's we create a bag-of-words model where each review is represented by the coutns of distinct terms in it.\n",
    "\n",
    "Time taken to create and save yelp-academic BOW model: 2m 22s \n",
    "\n",
    "Time taken to create and save yelp-full BOW model: 6m 34s"
   ]
  },
  {
   "cell_type": "code",
   "execution_count": null,
   "metadata": {
    "ExecuteTime": {
     "end_time": "2018-03-10T18:01:41.644051Z",
     "start_time": "2018-03-10T18:01:41.611417Z"
    }
   },
   "outputs": [],
   "source": [
    "# load the finished dictionary from disk\n",
    "trigram_dictionary = Dictionary.load(trigram_dictionary_filepath)"
   ]
  },
  {
   "cell_type": "code",
   "execution_count": null,
   "metadata": {
    "ExecuteTime": {
     "end_time": "2018-03-10T14:06:30.015973Z",
     "start_time": "2018-03-10T13:59:55.637781Z"
    }
   },
   "outputs": [],
   "source": [
    "from helper_fns import trigram_bow_generator\n",
    "    \n",
    "# load the finished dictionary from disk\n",
    "trigram_dictionary = Dictionary.load(trigram_dictionary_filepath)\n",
    "\n",
    "MmCorpus.serialize(trigram_bow_filepath,\n",
    "                   trigram_bow_generator(trigram_reviews_filepath, trigram_dictionary))"
   ]
  },
  {
   "cell_type": "markdown",
   "metadata": {},
   "source": [
    "### LDA Model Generation\n",
    "\n",
    "Create a LDA model with 50 topics.\n",
    "\n",
    "Time taken to create and save yelp-academic LDA model: 18m 51s \n",
    "\n",
    "Time taken to create and save yelp-full LDA model: 54m 1s"
   ]
  },
  {
   "cell_type": "code",
   "execution_count": null,
   "metadata": {
    "ExecuteTime": {
     "end_time": "2018-03-10T15:57:04.064390Z",
     "start_time": "2018-03-10T15:03:02.685878Z"
    }
   },
   "outputs": [],
   "source": [
    "# load the finished bag-of-words corpus from disk\n",
    "trigram_bow_corpus = MmCorpus(trigram_bow_filepath)\n",
    "\n",
    "with warnings.catch_warnings():\n",
    "        warnings.simplefilter('ignore')\n",
    "        \n",
    "        # workers => sets the parallelism, and should be\n",
    "        # set to your number of physical cores minus one\n",
    "        lda = LdaMulticore(trigram_bow_corpus,\n",
    "                           num_topics=50,\n",
    "                           id2word=trigram_dictionary,\n",
    "                           workers=3)\n",
    "    \n",
    "lda.save(lda_model_filepath)"
   ]
  },
  {
   "cell_type": "markdown",
   "metadata": {},
   "source": [
    "#### Explore the topics"
   ]
  },
  {
   "cell_type": "markdown",
   "metadata": {},
   "source": [
    "The yelp-academic dataset did not have a common theme within the topics but the yelp-full had one. This indicates as always more data is better!"
   ]
  },
  {
   "cell_type": "code",
   "execution_count": null,
   "metadata": {
    "ExecuteTime": {
     "end_time": "2018-03-10T16:18:35.160022Z",
     "start_time": "2018-03-10T16:18:35.004823Z"
    }
   },
   "outputs": [],
   "source": [
    "from helper_fns import explore_topic\n",
    "\n",
    "# load the finished LDA model from disk\n",
    "lda = LdaMulticore.load(lda_model_filepath)"
   ]
  },
  {
   "cell_type": "code",
   "execution_count": null,
   "metadata": {
    "ExecuteTime": {
     "end_time": "2018-03-10T16:22:04.896016Z",
     "start_time": "2018-03-10T16:22:04.880567Z"
    },
    "scrolled": false
   },
   "outputs": [],
   "source": [
    "explore_topic(lda, topic_number=np.random.randint(50))"
   ]
  },
  {
   "cell_type": "markdown",
   "metadata": {
    "heading_collapsed": true
   },
   "source": [
    "### Topic visualization with pyLDvis\n",
    "Prepare the visualization file.\n",
    "\n",
    "Time taken to prepare yelp-academic viz file:\n",
    "\n",
    "Time taken to prepare yelp-ful viz file: 2h 29m 30s"
   ]
  },
  {
   "cell_type": "code",
   "execution_count": null,
   "metadata": {
    "ExecuteTime": {
     "end_time": "2018-03-11T13:14:15.783770Z",
     "start_time": "2018-03-11T13:14:15.301999Z"
    },
    "hidden": true
   },
   "outputs": [],
   "source": [
    "# load the finished dictionary from disk\n",
    "trigram_dictionary = Dictionary.load(trigram_dictionary_filepath)\n",
    "\n",
    "# load the finished bag-of-words corpus from disk\n",
    "trigram_bow_corpus = MmCorpus(trigram_bow_filepath)\n",
    "\n",
    "# load the finished LDA model from disk\n",
    "lda = LdaMulticore.load(lda_model_filepath)"
   ]
  },
  {
   "cell_type": "code",
   "execution_count": null,
   "metadata": {
    "ExecuteTime": {
     "end_time": "2018-03-11T15:43:47.880348Z",
     "start_time": "2018-03-11T13:14:17.493451Z"
    },
    "hidden": true,
    "scrolled": true
   },
   "outputs": [],
   "source": [
    "LDAvis_prepared = pyLDAvis.gensim.prepare(lda, trigram_bow_corpus, trigram_dictionary)\n",
    "\n",
    "# save a pickle file of ldavis object\n",
    "with open(LDAvis_data_filepath_pkl, 'wb') as f:\n",
    "    pickle.dump(LDAvis_prepared, f)"
   ]
  },
  {
   "cell_type": "code",
   "execution_count": null,
   "metadata": {
    "ExecuteTime": {
     "end_time": "2018-03-11T16:08:04.725668Z",
     "start_time": "2018-03-11T16:08:04.674270Z"
    },
    "hidden": true,
    "scrolled": false
   },
   "outputs": [],
   "source": [
    "with open(LDAvis_data_filepath, 'rb') as f:\n",
    "    LDAvis_prepared = pickle.load(f)\n",
    "\n",
    "pyLDAvis.display(LDAvis_prepared)"
   ]
  },
  {
   "cell_type": "markdown",
   "metadata": {
    "heading_collapsed": true
   },
   "source": [
    "### Testing the LDA Model"
   ]
  },
  {
   "cell_type": "code",
   "execution_count": null,
   "metadata": {
    "ExecuteTime": {
     "end_time": "2018-03-11T16:55:12.650480Z",
     "start_time": "2018-03-11T16:54:31.809680Z"
    },
    "hidden": true
   },
   "outputs": [],
   "source": [
    "nlp = spacy.load('en_default')\n",
    "bigram_model = Phrases.load(bigram_model_filepath)\n",
    "trigram_model = Phrases.load(trigram_model_filepath)\n",
    "\n",
    "# load the finished dictionary from disk\n",
    "trigram_dictionary = Dictionary.load(trigram_dictionary_filepath)\n",
    "\n",
    "# load the finished bag-of-words corpus from disk\n",
    "trigram_bow_corpus = MmCorpus(trigram_bow_filepath)\n",
    "\n",
    "# load the finished LDA model from disk\n",
    "lda = LdaMulticore.load(lda_model_filepath)"
   ]
  },
  {
   "cell_type": "code",
   "execution_count": null,
   "metadata": {
    "ExecuteTime": {
     "end_time": "2018-03-11T16:56:02.711154Z",
     "start_time": "2018-03-11T16:56:02.666394Z"
    },
    "hidden": true
   },
   "outputs": [],
   "source": [
    "from helper_fns import line_review, punct_space\n",
    "\n",
    "def get_sample_review(review_txt_filepath, review_number):\n",
    "    \"\"\"\n",
    "    retrieve a particular review index\n",
    "    from the reviews file and return it\n",
    "    \"\"\"\n",
    "    \n",
    "    return list(it.islice(line_review(review_txt_filepath), review_number, review_number+1))[0]\n",
    "\n",
    "def lda_description(review_text, min_topic_freq=0.05):\n",
    "    \"\"\"\n",
    "    accept the original text of a review and (1) parse it with spaCy,\n",
    "    (2) apply text pre-proccessing steps, (3) create a bag-of-words\n",
    "    representation, (4) create an LDA representation, and\n",
    "    (5) print a sorted list of the top topics in the LDA representation\n",
    "    \"\"\"\n",
    "    \n",
    "    # parse the review text with spaCy\n",
    "    parsed_review = nlp(review_text)\n",
    "    \n",
    "    # lemmatize the text and remove punctuation and whitespace\n",
    "    unigram_review = [token.lemma_ for token in parsed_review\n",
    "                      if not punct_space(token)]\n",
    "    \n",
    "    # apply the first-order and secord-order phrase models\n",
    "    bigram_review = bigram_model[unigram_review]\n",
    "    trigram_review = trigram_model[bigram_review]\n",
    "    \n",
    "    # remove any remaining stopwords\n",
    "    trigram_review = [term for term in trigram_review\n",
    "                      if not term in STOP_WORDS]\n",
    "    \n",
    "    # create a bag-of-words representation\n",
    "    review_bow = trigram_dictionary.doc2bow(trigram_review)\n",
    "    \n",
    "    # create an LDA representation\n",
    "    review_lda = lda[review_bow]\n",
    "    \n",
    "    # sort with the most highly related topics first\n",
    "#     review_lda = sorted(review_lda, key=lambda (topic_number, freq): -freq)\n",
    "    \n",
    "    for topic_number, freq in review_lda:\n",
    "        if freq < min_topic_freq:\n",
    "            break\n",
    "            \n",
    "        # print the most highly related topic names and frequencies\n",
    "        print('{} {}'.format(topic_number, round(freq, 3)))"
   ]
  },
  {
   "cell_type": "code",
   "execution_count": null,
   "metadata": {
    "ExecuteTime": {
     "end_time": "2018-03-11T16:55:25.884720Z",
     "start_time": "2018-03-11T16:55:25.877827Z"
    },
    "hidden": true
   },
   "outputs": [],
   "source": [
    "sample_review = get_sample_review(review_txt_filepath, review_number=50)\n",
    "print(sample_review)"
   ]
  },
  {
   "cell_type": "code",
   "execution_count": null,
   "metadata": {
    "ExecuteTime": {
     "end_time": "2018-03-11T16:56:04.603092Z",
     "start_time": "2018-03-11T16:56:04.575447Z"
    },
    "hidden": true,
    "scrolled": true
   },
   "outputs": [],
   "source": [
    "lda_description(sample_review)"
   ]
  },
  {
   "cell_type": "markdown",
   "metadata": {},
   "source": [
    "## Word Vector Embedding with word2vec\n",
    "\n",
    "Training the word vectors from the trigram_sentences"
   ]
  },
  {
   "cell_type": "code",
   "execution_count": null,
   "metadata": {
    "ExecuteTime": {
     "end_time": "2018-03-12T15:14:27.751441Z",
     "start_time": "2018-03-12T13:44:49.402051Z"
    }
   },
   "outputs": [],
   "source": [
    "trigram_sentences = LineSentence(trigram_sentences_filepath)\n",
    "\n",
    "# initiate the model and perform the first epoch of training\n",
    "food2vec = Word2Vec(trigram_sentences, size=100, window=5, min_count=20, sg=1, workers=4, iter=11)\n",
    "\n",
    "food2vec.save(word2vec_filepath)"
   ]
  },
  {
   "cell_type": "code",
   "execution_count": 3,
   "metadata": {
    "ExecuteTime": {
     "end_time": "2018-03-12T20:28:32.604781Z",
     "start_time": "2018-03-12T20:28:31.720405Z"
    }
   },
   "outputs": [
    {
     "name": "stdout",
     "output_type": "stream",
     "text": [
      "11 training epochs so far.\n"
     ]
    }
   ],
   "source": [
    "# load the finished model from disk\n",
    "food2vec = Word2Vec.load(word2vec_filepath)\n",
    "food2vec.init_sims()\n",
    "\n",
    "print(u'{} training epochs so far.'.format(food2vec.epochs))"
   ]
  },
  {
   "cell_type": "code",
   "execution_count": null,
   "metadata": {
    "ExecuteTime": {
     "end_time": "2018-03-12T20:28:33.851216Z",
     "start_time": "2018-03-12T20:28:33.526668Z"
    }
   },
   "outputs": [],
   "source": [
    "# build a list of the terms, integer indices,\n",
    "# and term counts from the food2vec model vocabulary\n",
    "ordered_vocab = [(term, voc.index, voc.count) for term, voc in food2vec.wv.vocab.items()]\n",
    "\n",
    "# sort by the term counts, so the most common terms appear first\n",
    "ordered_vocab = sorted(ordered_vocab, key=lambda x : -x[2])\n",
    "\n",
    "# unzip the terms, integer indices, and counts into separate lists\n",
    "ordered_terms, term_indices, term_counts = zip(*ordered_vocab)\n",
    "\n",
    "# create a DataFrame with the food2vec vectors as data,\n",
    "# and the terms as row labels\n",
    "word_vectors = pd.DataFrame(food2vec.wv.syn0norm[term_indices, :], index=ordered_terms)"
   ]
  },
  {
   "cell_type": "code",
   "execution_count": null,
   "metadata": {
    "ExecuteTime": {
     "end_time": "2018-03-12T19:41:36.850144Z",
     "start_time": "2018-03-12T19:41:36.843936Z"
    }
   },
   "outputs": [],
   "source": [
    "def get_related_terms(token, topn=25):\n",
    "    \"\"\"\n",
    "    look up the topn most similar terms to token\n",
    "    and print them as a formatted list\n",
    "    \"\"\"\n",
    "\n",
    "    for word, similarity in food2vec.most_similar(positive=[token], topn=topn):\n",
    "\n",
    "        print(u'{:20} {}'.format(word, round(similarity, 3)))"
   ]
  },
  {
   "cell_type": "code",
   "execution_count": null,
   "metadata": {
    "ExecuteTime": {
     "end_time": "2018-03-12T19:48:25.227090Z",
     "start_time": "2018-03-12T19:48:25.218009Z"
    }
   },
   "outputs": [],
   "source": [
    "get_related_terms(u'veggie')"
   ]
  },
  {
   "cell_type": "markdown",
   "metadata": {},
   "source": [
    "### Word Algebra!"
   ]
  },
  {
   "cell_type": "code",
   "execution_count": null,
   "metadata": {
    "ExecuteTime": {
     "end_time": "2018-03-12T19:44:52.136762Z",
     "start_time": "2018-03-12T19:44:52.128798Z"
    }
   },
   "outputs": [],
   "source": [
    "def word_algebra(add=[], subtract=[], topn=1):\n",
    "    \"\"\"\n",
    "    combine the vectors associated with the words provided\n",
    "    in add= and subtract=, look up the topn most similar\n",
    "    terms to the combined vector, and print the result(s)\n",
    "    \"\"\"\n",
    "    answers = food2vec.most_similar(positive=add, negative=subtract, topn=topn)\n",
    "    \n",
    "    for term, similarity in answers:\n",
    "        print(term)"
   ]
  },
  {
   "cell_type": "code",
   "execution_count": null,
   "metadata": {
    "ExecuteTime": {
     "end_time": "2018-03-12T20:23:31.435114Z",
     "start_time": "2018-03-12T20:23:31.424482Z"
    }
   },
   "outputs": [],
   "source": [
    "# word_algebra(add=[u'breakfast', u'lunch'])\n",
    "# word_algebra(add=[u'lunch', u'night'], subtract=[u'day'])\n",
    "word_algebra(add=[u'taco', u'chinese'], subtract=[u'mexican'])\n",
    "# word_algebra(add=[u'bun', u'mexican'], subtract=[u'american'])\n",
    "# word_algebra(add=[u'filet_mignon', u'seafood'], subtract=[u'beef'])\n",
    "# word_algebra(add=[u'coffee', u'snack'], subtract=[u'drink'])\n",
    "# word_algebra(add=[u'bk', u'fine_dining'])\n",
    "# word_algebra(add=[u\"denny_'s\", u'fine_dining'])\n",
    "# word_algebra(add=[u\"applebee_'s\", u'italian'])\n",
    "# word_algebra(add=[u\"veggie\", u'pizza'])"
   ]
  },
  {
   "cell_type": "markdown",
   "metadata": {},
   "source": [
    "### Word Vector Visualization with t-SNE"
   ]
  },
  {
   "cell_type": "code",
   "execution_count": 6,
   "metadata": {
    "ExecuteTime": {
     "end_time": "2018-03-12T20:29:02.260211Z",
     "start_time": "2018-03-12T20:29:02.205460Z"
    }
   },
   "outputs": [],
   "source": [
    "tsne_input = word_vectors.drop(STOP_WORDS, errors=u'ignore')\n",
    "tsne_input = tsne_input.head(5000)"
   ]
  },
  {
   "cell_type": "code",
   "execution_count": null,
   "metadata": {
    "ExecuteTime": {
     "end_time": "2018-03-12T20:30:54.441844Z",
     "start_time": "2018-03-12T20:29:06.038046Z"
    }
   },
   "outputs": [],
   "source": [
    "tsne = TSNE()\n",
    "tsne_vectors = tsne.fit_transform(tsne_input.values)"
   ]
  },
  {
   "cell_type": "code",
   "execution_count": 13,
   "metadata": {
    "ExecuteTime": {
     "end_time": "2018-03-12T20:32:40.460949Z",
     "start_time": "2018-03-12T20:32:40.453309Z"
    }
   },
   "outputs": [],
   "source": [
    "with open(tsne_filepath, 'wb') as f:\n",
    "    pickle.dump(tsne, f)\n",
    "\n",
    "pd.np.save(tsne_vectors_filepath, tsne_vectors)"
   ]
  },
  {
   "cell_type": "code",
   "execution_count": 14,
   "metadata": {
    "ExecuteTime": {
     "end_time": "2018-03-12T20:32:44.368609Z",
     "start_time": "2018-03-12T20:32:44.364934Z"
    }
   },
   "outputs": [],
   "source": [
    "with open(tsne_filepath, 'rb') as f:\n",
    "    tsne = pickle.load(f)"
   ]
  },
  {
   "cell_type": "code",
   "execution_count": 15,
   "metadata": {
    "ExecuteTime": {
     "end_time": "2018-03-12T20:32:52.232225Z",
     "start_time": "2018-03-12T20:32:52.212748Z"
    }
   },
   "outputs": [],
   "source": [
    "tsne_vectors = pd.np.load(tsne_vectors_filepath)\n",
    "tsne_vectors = pd.DataFrame(tsne_vectors, index=pd.Index(tsne_input.index), columns=[u'x_coord', u'y_coord'])"
   ]
  },
  {
   "cell_type": "code",
   "execution_count": 16,
   "metadata": {
    "ExecuteTime": {
     "end_time": "2018-03-12T20:33:03.659692Z",
     "start_time": "2018-03-12T20:33:03.650801Z"
    }
   },
   "outputs": [
    {
     "data": {
      "text/html": [
       "<div>\n",
       "<style scoped>\n",
       "    .dataframe tbody tr th:only-of-type {\n",
       "        vertical-align: middle;\n",
       "    }\n",
       "\n",
       "    .dataframe tbody tr th {\n",
       "        vertical-align: top;\n",
       "    }\n",
       "\n",
       "    .dataframe thead th {\n",
       "        text-align: right;\n",
       "    }\n",
       "</style>\n",
       "<table border=\"1\" class=\"dataframe\">\n",
       "  <thead>\n",
       "    <tr style=\"text-align: right;\">\n",
       "      <th></th>\n",
       "      <th>x_coord</th>\n",
       "      <th>y_coord</th>\n",
       "    </tr>\n",
       "  </thead>\n",
       "  <tbody>\n",
       "    <tr>\n",
       "      <th>-PRON-</th>\n",
       "      <td>53.542549</td>\n",
       "      <td>38.720715</td>\n",
       "    </tr>\n",
       "    <tr>\n",
       "      <th>good</th>\n",
       "      <td>8.609921</td>\n",
       "      <td>-18.904041</td>\n",
       "    </tr>\n",
       "    <tr>\n",
       "      <th>food</th>\n",
       "      <td>-27.901876</td>\n",
       "      <td>0.234978</td>\n",
       "    </tr>\n",
       "    <tr>\n",
       "      <th>place</th>\n",
       "      <td>-31.400242</td>\n",
       "      <td>15.676832</td>\n",
       "    </tr>\n",
       "    <tr>\n",
       "      <th>order</th>\n",
       "      <td>41.760548</td>\n",
       "      <td>-34.778618</td>\n",
       "    </tr>\n",
       "  </tbody>\n",
       "</table>\n",
       "</div>"
      ],
      "text/plain": [
       "          x_coord    y_coord\n",
       "-PRON-  53.542549  38.720715\n",
       "good     8.609921 -18.904041\n",
       "food   -27.901876   0.234978\n",
       "place  -31.400242  15.676832\n",
       "order   41.760548 -34.778618"
      ]
     },
     "execution_count": 16,
     "metadata": {},
     "output_type": "execute_result"
    }
   ],
   "source": [
    "tsne_vectors.head()"
   ]
  },
  {
   "cell_type": "code",
   "execution_count": 18,
   "metadata": {
    "ExecuteTime": {
     "end_time": "2018-03-12T20:33:17.769008Z",
     "start_time": "2018-03-12T20:33:17.764451Z"
    }
   },
   "outputs": [],
   "source": [
    "tsne_vectors[u'word'] = tsne_vectors.index"
   ]
  },
  {
   "cell_type": "code",
   "execution_count": 20,
   "metadata": {
    "ExecuteTime": {
     "end_time": "2018-03-12T20:33:32.582958Z",
     "start_time": "2018-03-12T20:33:32.573134Z"
    }
   },
   "outputs": [
    {
     "name": "stdout",
     "output_type": "stream",
     "text": [
      "<class 'pandas.core.frame.DataFrame'>\n",
      "Index: 5000 entries, -PRON- to flake\n",
      "Data columns (total 3 columns):\n",
      "x_coord    5000 non-null float32\n",
      "y_coord    5000 non-null float32\n",
      "word       5000 non-null object\n",
      "dtypes: float32(2), object(1)\n",
      "memory usage: 117.2+ KB\n"
     ]
    }
   ],
   "source": [
    "tsne_vectors.info()"
   ]
  },
  {
   "cell_type": "markdown",
   "metadata": {},
   "source": [
    "### Plotting with Bokeh"
   ]
  },
  {
   "cell_type": "code",
   "execution_count": 21,
   "metadata": {
    "ExecuteTime": {
     "end_time": "2018-03-12T20:34:47.844917Z",
     "start_time": "2018-03-12T20:34:47.451350Z"
    }
   },
   "outputs": [
    {
     "data": {
      "text/html": [
       "\n",
       "    <div class=\"bk-root\">\n",
       "        <a href=\"https://bokeh.pydata.org\" target=\"_blank\" class=\"bk-logo bk-logo-small bk-logo-notebook\"></a>\n",
       "        <span id=\"263d3daa-b529-4559-aad4-0737bdf2582c\">Loading BokehJS ...</span>\n",
       "    </div>"
      ]
     },
     "metadata": {},
     "output_type": "display_data"
    },
    {
     "data": {
      "application/javascript": [
       "\n",
       "(function(root) {\n",
       "  function now() {\n",
       "    return new Date();\n",
       "  }\n",
       "\n",
       "  var force = true;\n",
       "\n",
       "  if (typeof (root._bokeh_onload_callbacks) === \"undefined\" || force === true) {\n",
       "    root._bokeh_onload_callbacks = [];\n",
       "    root._bokeh_is_loading = undefined;\n",
       "  }\n",
       "\n",
       "  var JS_MIME_TYPE = 'application/javascript';\n",
       "  var HTML_MIME_TYPE = 'text/html';\n",
       "  var EXEC_MIME_TYPE = 'application/vnd.bokehjs_exec.v0+json';\n",
       "  var CLASS_NAME = 'output_bokeh rendered_html';\n",
       "\n",
       "  /**\n",
       "   * Render data to the DOM node\n",
       "   */\n",
       "  function render(props, node) {\n",
       "    var script = document.createElement(\"script\");\n",
       "    node.appendChild(script);\n",
       "  }\n",
       "\n",
       "  /**\n",
       "   * Handle when an output is cleared or removed\n",
       "   */\n",
       "  function handleClearOutput(event, handle) {\n",
       "    var cell = handle.cell;\n",
       "\n",
       "    var id = cell.output_area._bokeh_element_id;\n",
       "    var server_id = cell.output_area._bokeh_server_id;\n",
       "    // Clean up Bokeh references\n",
       "    if (id !== undefined) {\n",
       "      Bokeh.index[id].model.document.clear();\n",
       "      delete Bokeh.index[id];\n",
       "    }\n",
       "\n",
       "    if (server_id !== undefined) {\n",
       "      // Clean up Bokeh references\n",
       "      var cmd = \"from bokeh.io.state import curstate; print(curstate().uuid_to_server['\" + server_id + \"'].get_sessions()[0].document.roots[0]._id)\";\n",
       "      cell.notebook.kernel.execute(cmd, {\n",
       "        iopub: {\n",
       "          output: function(msg) {\n",
       "            var element_id = msg.content.text.trim();\n",
       "            Bokeh.index[element_id].model.document.clear();\n",
       "            delete Bokeh.index[element_id];\n",
       "          }\n",
       "        }\n",
       "      });\n",
       "      // Destroy server and session\n",
       "      var cmd = \"import bokeh.io.notebook as ion; ion.destroy_server('\" + server_id + \"')\";\n",
       "      cell.notebook.kernel.execute(cmd);\n",
       "    }\n",
       "  }\n",
       "\n",
       "  /**\n",
       "   * Handle when a new output is added\n",
       "   */\n",
       "  function handleAddOutput(event, handle) {\n",
       "    var output_area = handle.output_area;\n",
       "    var output = handle.output;\n",
       "\n",
       "    // limit handleAddOutput to display_data with EXEC_MIME_TYPE content only\n",
       "    if ((output.output_type != \"display_data\") || (!output.data.hasOwnProperty(EXEC_MIME_TYPE))) {\n",
       "      return\n",
       "    }\n",
       "\n",
       "    var toinsert = output_area.element.find(\".\" + CLASS_NAME.split(' ')[0]);\n",
       "\n",
       "    if (output.metadata[EXEC_MIME_TYPE][\"id\"] !== undefined) {\n",
       "      toinsert[0].firstChild.textContent = output.data[JS_MIME_TYPE];\n",
       "      // store reference to embed id on output_area\n",
       "      output_area._bokeh_element_id = output.metadata[EXEC_MIME_TYPE][\"id\"];\n",
       "    }\n",
       "    if (output.metadata[EXEC_MIME_TYPE][\"server_id\"] !== undefined) {\n",
       "      var bk_div = document.createElement(\"div\");\n",
       "      bk_div.innerHTML = output.data[HTML_MIME_TYPE];\n",
       "      var script_attrs = bk_div.children[0].attributes;\n",
       "      for (var i = 0; i < script_attrs.length; i++) {\n",
       "        toinsert[0].firstChild.setAttribute(script_attrs[i].name, script_attrs[i].value);\n",
       "      }\n",
       "      // store reference to server id on output_area\n",
       "      output_area._bokeh_server_id = output.metadata[EXEC_MIME_TYPE][\"server_id\"];\n",
       "    }\n",
       "  }\n",
       "\n",
       "  function register_renderer(events, OutputArea) {\n",
       "\n",
       "    function append_mime(data, metadata, element) {\n",
       "      // create a DOM node to render to\n",
       "      var toinsert = this.create_output_subarea(\n",
       "        metadata,\n",
       "        CLASS_NAME,\n",
       "        EXEC_MIME_TYPE\n",
       "      );\n",
       "      this.keyboard_manager.register_events(toinsert);\n",
       "      // Render to node\n",
       "      var props = {data: data, metadata: metadata[EXEC_MIME_TYPE]};\n",
       "      render(props, toinsert[0]);\n",
       "      element.append(toinsert);\n",
       "      return toinsert\n",
       "    }\n",
       "\n",
       "    /* Handle when an output is cleared or removed */\n",
       "    events.on('clear_output.CodeCell', handleClearOutput);\n",
       "    events.on('delete.Cell', handleClearOutput);\n",
       "\n",
       "    /* Handle when a new output is added */\n",
       "    events.on('output_added.OutputArea', handleAddOutput);\n",
       "\n",
       "    /**\n",
       "     * Register the mime type and append_mime function with output_area\n",
       "     */\n",
       "    OutputArea.prototype.register_mime_type(EXEC_MIME_TYPE, append_mime, {\n",
       "      /* Is output safe? */\n",
       "      safe: true,\n",
       "      /* Index of renderer in `output_area.display_order` */\n",
       "      index: 0\n",
       "    });\n",
       "  }\n",
       "\n",
       "  // register the mime type if in Jupyter Notebook environment and previously unregistered\n",
       "  if (root.Jupyter !== undefined) {\n",
       "    var events = require('base/js/events');\n",
       "    var OutputArea = require('notebook/js/outputarea').OutputArea;\n",
       "\n",
       "    if (OutputArea.prototype.mime_types().indexOf(EXEC_MIME_TYPE) == -1) {\n",
       "      register_renderer(events, OutputArea);\n",
       "    }\n",
       "  }\n",
       "\n",
       "  \n",
       "  if (typeof (root._bokeh_timeout) === \"undefined\" || force === true) {\n",
       "    root._bokeh_timeout = Date.now() + 5000;\n",
       "    root._bokeh_failed_load = false;\n",
       "  }\n",
       "\n",
       "  var NB_LOAD_WARNING = {'data': {'text/html':\n",
       "     \"<div style='background-color: #fdd'>\\n\"+\n",
       "     \"<p>\\n\"+\n",
       "     \"BokehJS does not appear to have successfully loaded. If loading BokehJS from CDN, this \\n\"+\n",
       "     \"may be due to a slow or bad network connection. Possible fixes:\\n\"+\n",
       "     \"</p>\\n\"+\n",
       "     \"<ul>\\n\"+\n",
       "     \"<li>re-rerun `output_notebook()` to attempt to load from CDN again, or</li>\\n\"+\n",
       "     \"<li>use INLINE resources instead, as so:</li>\\n\"+\n",
       "     \"</ul>\\n\"+\n",
       "     \"<code>\\n\"+\n",
       "     \"from bokeh.resources import INLINE\\n\"+\n",
       "     \"output_notebook(resources=INLINE)\\n\"+\n",
       "     \"</code>\\n\"+\n",
       "     \"</div>\"}};\n",
       "\n",
       "  function display_loaded() {\n",
       "    var el = document.getElementById(\"263d3daa-b529-4559-aad4-0737bdf2582c\");\n",
       "    if (el != null) {\n",
       "      el.textContent = \"BokehJS is loading...\";\n",
       "    }\n",
       "    if (root.Bokeh !== undefined) {\n",
       "      if (el != null) {\n",
       "        el.textContent = \"BokehJS \" + root.Bokeh.version + \" successfully loaded.\";\n",
       "      }\n",
       "    } else if (Date.now() < root._bokeh_timeout) {\n",
       "      setTimeout(display_loaded, 100)\n",
       "    }\n",
       "  }\n",
       "\n",
       "\n",
       "  function run_callbacks() {\n",
       "    try {\n",
       "      root._bokeh_onload_callbacks.forEach(function(callback) { callback() });\n",
       "    }\n",
       "    finally {\n",
       "      delete root._bokeh_onload_callbacks\n",
       "    }\n",
       "    console.info(\"Bokeh: all callbacks have finished\");\n",
       "  }\n",
       "\n",
       "  function load_libs(js_urls, callback) {\n",
       "    root._bokeh_onload_callbacks.push(callback);\n",
       "    if (root._bokeh_is_loading > 0) {\n",
       "      console.log(\"Bokeh: BokehJS is being loaded, scheduling callback at\", now());\n",
       "      return null;\n",
       "    }\n",
       "    if (js_urls == null || js_urls.length === 0) {\n",
       "      run_callbacks();\n",
       "      return null;\n",
       "    }\n",
       "    console.log(\"Bokeh: BokehJS not loaded, scheduling load and callback at\", now());\n",
       "    root._bokeh_is_loading = js_urls.length;\n",
       "    for (var i = 0; i < js_urls.length; i++) {\n",
       "      var url = js_urls[i];\n",
       "      var s = document.createElement('script');\n",
       "      s.src = url;\n",
       "      s.async = false;\n",
       "      s.onreadystatechange = s.onload = function() {\n",
       "        root._bokeh_is_loading--;\n",
       "        if (root._bokeh_is_loading === 0) {\n",
       "          console.log(\"Bokeh: all BokehJS libraries loaded\");\n",
       "          run_callbacks()\n",
       "        }\n",
       "      };\n",
       "      s.onerror = function() {\n",
       "        console.warn(\"failed to load library \" + url);\n",
       "      };\n",
       "      console.log(\"Bokeh: injecting script tag for BokehJS library: \", url);\n",
       "      document.getElementsByTagName(\"head\")[0].appendChild(s);\n",
       "    }\n",
       "  };var element = document.getElementById(\"263d3daa-b529-4559-aad4-0737bdf2582c\");\n",
       "  if (element == null) {\n",
       "    console.log(\"Bokeh: ERROR: autoload.js configured with elementid '263d3daa-b529-4559-aad4-0737bdf2582c' but no matching script tag was found. \")\n",
       "    return false;\n",
       "  }\n",
       "\n",
       "  var js_urls = [\"https://cdn.pydata.org/bokeh/release/bokeh-0.12.14.min.js\", \"https://cdn.pydata.org/bokeh/release/bokeh-widgets-0.12.14.min.js\", \"https://cdn.pydata.org/bokeh/release/bokeh-tables-0.12.14.min.js\", \"https://cdn.pydata.org/bokeh/release/bokeh-gl-0.12.14.min.js\"];\n",
       "\n",
       "  var inline_js = [\n",
       "    function(Bokeh) {\n",
       "      Bokeh.set_log_level(\"info\");\n",
       "    },\n",
       "    \n",
       "    function(Bokeh) {\n",
       "      \n",
       "    },\n",
       "    function(Bokeh) {\n",
       "      console.log(\"Bokeh: injecting CSS: https://cdn.pydata.org/bokeh/release/bokeh-0.12.14.min.css\");\n",
       "      Bokeh.embed.inject_css(\"https://cdn.pydata.org/bokeh/release/bokeh-0.12.14.min.css\");\n",
       "      console.log(\"Bokeh: injecting CSS: https://cdn.pydata.org/bokeh/release/bokeh-widgets-0.12.14.min.css\");\n",
       "      Bokeh.embed.inject_css(\"https://cdn.pydata.org/bokeh/release/bokeh-widgets-0.12.14.min.css\");\n",
       "      console.log(\"Bokeh: injecting CSS: https://cdn.pydata.org/bokeh/release/bokeh-tables-0.12.14.min.css\");\n",
       "      Bokeh.embed.inject_css(\"https://cdn.pydata.org/bokeh/release/bokeh-tables-0.12.14.min.css\");\n",
       "    }\n",
       "  ];\n",
       "\n",
       "  function run_inline_js() {\n",
       "    \n",
       "    if ((root.Bokeh !== undefined) || (force === true)) {\n",
       "      for (var i = 0; i < inline_js.length; i++) {\n",
       "        inline_js[i].call(root, root.Bokeh);\n",
       "      }if (force === true) {\n",
       "        display_loaded();\n",
       "      }} else if (Date.now() < root._bokeh_timeout) {\n",
       "      setTimeout(run_inline_js, 100);\n",
       "    } else if (!root._bokeh_failed_load) {\n",
       "      console.log(\"Bokeh: BokehJS failed to load within specified timeout.\");\n",
       "      root._bokeh_failed_load = true;\n",
       "    } else if (force !== true) {\n",
       "      var cell = $(document.getElementById(\"263d3daa-b529-4559-aad4-0737bdf2582c\")).parents('.cell').data().cell;\n",
       "      cell.output_area.append_execute_result(NB_LOAD_WARNING)\n",
       "    }\n",
       "\n",
       "  }\n",
       "\n",
       "  if (root._bokeh_is_loading === 0) {\n",
       "    console.log(\"Bokeh: BokehJS loaded, going straight to plotting\");\n",
       "    run_inline_js();\n",
       "  } else {\n",
       "    load_libs(js_urls, function() {\n",
       "      console.log(\"Bokeh: BokehJS plotting callback run at\", now());\n",
       "      run_inline_js();\n",
       "    });\n",
       "  }\n",
       "}(window));"
      ],
      "application/vnd.bokehjs_load.v0+json": "\n(function(root) {\n  function now() {\n    return new Date();\n  }\n\n  var force = true;\n\n  if (typeof (root._bokeh_onload_callbacks) === \"undefined\" || force === true) {\n    root._bokeh_onload_callbacks = [];\n    root._bokeh_is_loading = undefined;\n  }\n\n  \n\n  \n  if (typeof (root._bokeh_timeout) === \"undefined\" || force === true) {\n    root._bokeh_timeout = Date.now() + 5000;\n    root._bokeh_failed_load = false;\n  }\n\n  var NB_LOAD_WARNING = {'data': {'text/html':\n     \"<div style='background-color: #fdd'>\\n\"+\n     \"<p>\\n\"+\n     \"BokehJS does not appear to have successfully loaded. If loading BokehJS from CDN, this \\n\"+\n     \"may be due to a slow or bad network connection. Possible fixes:\\n\"+\n     \"</p>\\n\"+\n     \"<ul>\\n\"+\n     \"<li>re-rerun `output_notebook()` to attempt to load from CDN again, or</li>\\n\"+\n     \"<li>use INLINE resources instead, as so:</li>\\n\"+\n     \"</ul>\\n\"+\n     \"<code>\\n\"+\n     \"from bokeh.resources import INLINE\\n\"+\n     \"output_notebook(resources=INLINE)\\n\"+\n     \"</code>\\n\"+\n     \"</div>\"}};\n\n  function display_loaded() {\n    var el = document.getElementById(\"263d3daa-b529-4559-aad4-0737bdf2582c\");\n    if (el != null) {\n      el.textContent = \"BokehJS is loading...\";\n    }\n    if (root.Bokeh !== undefined) {\n      if (el != null) {\n        el.textContent = \"BokehJS \" + root.Bokeh.version + \" successfully loaded.\";\n      }\n    } else if (Date.now() < root._bokeh_timeout) {\n      setTimeout(display_loaded, 100)\n    }\n  }\n\n\n  function run_callbacks() {\n    try {\n      root._bokeh_onload_callbacks.forEach(function(callback) { callback() });\n    }\n    finally {\n      delete root._bokeh_onload_callbacks\n    }\n    console.info(\"Bokeh: all callbacks have finished\");\n  }\n\n  function load_libs(js_urls, callback) {\n    root._bokeh_onload_callbacks.push(callback);\n    if (root._bokeh_is_loading > 0) {\n      console.log(\"Bokeh: BokehJS is being loaded, scheduling callback at\", now());\n      return null;\n    }\n    if (js_urls == null || js_urls.length === 0) {\n      run_callbacks();\n      return null;\n    }\n    console.log(\"Bokeh: BokehJS not loaded, scheduling load and callback at\", now());\n    root._bokeh_is_loading = js_urls.length;\n    for (var i = 0; i < js_urls.length; i++) {\n      var url = js_urls[i];\n      var s = document.createElement('script');\n      s.src = url;\n      s.async = false;\n      s.onreadystatechange = s.onload = function() {\n        root._bokeh_is_loading--;\n        if (root._bokeh_is_loading === 0) {\n          console.log(\"Bokeh: all BokehJS libraries loaded\");\n          run_callbacks()\n        }\n      };\n      s.onerror = function() {\n        console.warn(\"failed to load library \" + url);\n      };\n      console.log(\"Bokeh: injecting script tag for BokehJS library: \", url);\n      document.getElementsByTagName(\"head\")[0].appendChild(s);\n    }\n  };var element = document.getElementById(\"263d3daa-b529-4559-aad4-0737bdf2582c\");\n  if (element == null) {\n    console.log(\"Bokeh: ERROR: autoload.js configured with elementid '263d3daa-b529-4559-aad4-0737bdf2582c' but no matching script tag was found. \")\n    return false;\n  }\n\n  var js_urls = [\"https://cdn.pydata.org/bokeh/release/bokeh-0.12.14.min.js\", \"https://cdn.pydata.org/bokeh/release/bokeh-widgets-0.12.14.min.js\", \"https://cdn.pydata.org/bokeh/release/bokeh-tables-0.12.14.min.js\", \"https://cdn.pydata.org/bokeh/release/bokeh-gl-0.12.14.min.js\"];\n\n  var inline_js = [\n    function(Bokeh) {\n      Bokeh.set_log_level(\"info\");\n    },\n    \n    function(Bokeh) {\n      \n    },\n    function(Bokeh) {\n      console.log(\"Bokeh: injecting CSS: https://cdn.pydata.org/bokeh/release/bokeh-0.12.14.min.css\");\n      Bokeh.embed.inject_css(\"https://cdn.pydata.org/bokeh/release/bokeh-0.12.14.min.css\");\n      console.log(\"Bokeh: injecting CSS: https://cdn.pydata.org/bokeh/release/bokeh-widgets-0.12.14.min.css\");\n      Bokeh.embed.inject_css(\"https://cdn.pydata.org/bokeh/release/bokeh-widgets-0.12.14.min.css\");\n      console.log(\"Bokeh: injecting CSS: https://cdn.pydata.org/bokeh/release/bokeh-tables-0.12.14.min.css\");\n      Bokeh.embed.inject_css(\"https://cdn.pydata.org/bokeh/release/bokeh-tables-0.12.14.min.css\");\n    }\n  ];\n\n  function run_inline_js() {\n    \n    if ((root.Bokeh !== undefined) || (force === true)) {\n      for (var i = 0; i < inline_js.length; i++) {\n        inline_js[i].call(root, root.Bokeh);\n      }if (force === true) {\n        display_loaded();\n      }} else if (Date.now() < root._bokeh_timeout) {\n      setTimeout(run_inline_js, 100);\n    } else if (!root._bokeh_failed_load) {\n      console.log(\"Bokeh: BokehJS failed to load within specified timeout.\");\n      root._bokeh_failed_load = true;\n    } else if (force !== true) {\n      var cell = $(document.getElementById(\"263d3daa-b529-4559-aad4-0737bdf2582c\")).parents('.cell').data().cell;\n      cell.output_area.append_execute_result(NB_LOAD_WARNING)\n    }\n\n  }\n\n  if (root._bokeh_is_loading === 0) {\n    console.log(\"Bokeh: BokehJS loaded, going straight to plotting\");\n    run_inline_js();\n  } else {\n    load_libs(js_urls, function() {\n      console.log(\"Bokeh: BokehJS plotting callback run at\", now());\n      run_inline_js();\n    });\n  }\n}(window));"
     },
     "metadata": {},
     "output_type": "display_data"
    }
   ],
   "source": [
    "from bokeh.plotting import figure, show, output_notebook\n",
    "from bokeh.models import HoverTool, ColumnDataSource, value\n",
    "\n",
    "output_notebook()"
   ]
  },
  {
   "cell_type": "code",
   "execution_count": 25,
   "metadata": {
    "ExecuteTime": {
     "end_time": "2018-03-12T20:36:46.980471Z",
     "start_time": "2018-03-12T20:36:46.869115Z"
    }
   },
   "outputs": [
    {
     "data": {
      "text/html": [
       "\n",
       "<div class=\"bk-root\">\n",
       "    <div class=\"bk-plotdiv\" id=\"ca7fcc51-7ba3-43f6-82c6-cc916b86b493\"></div>\n",
       "</div>"
      ]
     },
     "metadata": {},
     "output_type": "display_data"
    },
    {
     "data": {
      "application/javascript": [
       "(function(root) {\n",
       "  function embed_document(root) {\n",
       "    \n",
       "  var docs_json = {\"957df177-1425-4b27-9a9d-cf33a56d3c99\":{\"roots\":{\"references\":[{\"attributes\":{},\"id\":\"68ffd098-97f7-46fc-aa3e-ab470c76760c\",\"type\":\"WheelZoomTool\"},{\"attributes\":{\"overlay\":{\"id\":\"886590b7-4dbf-4355-9b4c-3c754d476308\",\"type\":\"BoxAnnotation\"}},\"id\":\"464ca215-e95a-4063-bf14-24dfdc13f8c9\",\"type\":\"BoxZoomTool\"},{\"attributes\":{\"callback\":null,\"overlay\":{\"id\":\"edf1a122-b936-4325-b7a2-6c9c35d8cf81\",\"type\":\"BoxAnnotation\"},\"renderers\":[{\"id\":\"c07e794d-75e0-4971-b69c-23aab5f3abce\",\"type\":\"GlyphRenderer\"}]},\"id\":\"707daa51-cb38-497c-a452-693be6a09dce\",\"type\":\"BoxSelectTool\"},{\"attributes\":{},\"id\":\"d0aa3498-9015-436a-9dec-39c492ad4b38\",\"type\":\"BasicTickFormatter\"},{\"attributes\":{},\"id\":\"d29cdd84-66f9-49eb-a61b-87f43237bb3a\",\"type\":\"ResetTool\"},{\"attributes\":{\"plot\":null,\"text\":\"t-SNE Word Embeddings\",\"text_font_size\":{\"value\":\"16pt\"}},\"id\":\"b2ff3647-5597-4f23-834a-938337f5a4fa\",\"type\":\"Title\"},{\"attributes\":{\"data_source\":{\"id\":\"b09be1b4-03ed-4da2-9b33-85f9cdd0c875\",\"type\":\"ColumnDataSource\"},\"glyph\":{\"id\":\"3f1b9077-7ec1-47e5-88ce-6b425ce910bc\",\"type\":\"Circle\"},\"hover_glyph\":{\"id\":\"43990c5a-30f7-4f11-b190-731c5d5f52fa\",\"type\":\"Circle\"},\"muted_glyph\":null,\"nonselection_glyph\":{\"id\":\"0500fef8-f7f8-4ab9-8f85-b5049ab5b9fd\",\"type\":\"Circle\"},\"selection_glyph\":null,\"view\":{\"id\":\"3b25d21c-8ba7-41b9-be11-e390edc1f0a6\",\"type\":\"CDSView\"}},\"id\":\"c07e794d-75e0-4971-b69c-23aab5f3abce\",\"type\":\"GlyphRenderer\"},{\"attributes\":{\"callback\":null},\"id\":\"cf9b034c-d205-48d9-9bb9-f857b3da343b\",\"type\":\"DataRange1d\"},{\"attributes\":{\"source\":{\"id\":\"b09be1b4-03ed-4da2-9b33-85f9cdd0c875\",\"type\":\"ColumnDataSource\"}},\"id\":\"3b25d21c-8ba7-41b9-be11-e390edc1f0a6\",\"type\":\"CDSView\"},{\"attributes\":{\"active_drag\":\"auto\",\"active_inspect\":\"auto\",\"active_scroll\":{\"id\":\"68ffd098-97f7-46fc-aa3e-ab470c76760c\",\"type\":\"WheelZoomTool\"},\"active_tap\":\"auto\",\"tools\":[{\"id\":\"72dde4f0-8801-4b77-bab4-17d9fe449bcb\",\"type\":\"PanTool\"},{\"id\":\"68ffd098-97f7-46fc-aa3e-ab470c76760c\",\"type\":\"WheelZoomTool\"},{\"id\":\"464ca215-e95a-4063-bf14-24dfdc13f8c9\",\"type\":\"BoxZoomTool\"},{\"id\":\"707daa51-cb38-497c-a452-693be6a09dce\",\"type\":\"BoxSelectTool\"},{\"id\":\"d29cdd84-66f9-49eb-a61b-87f43237bb3a\",\"type\":\"ResetTool\"},{\"id\":\"755853d0-cbe1-45ff-a560-332ad40f3d77\",\"type\":\"HoverTool\"}]},\"id\":\"8d4bb6d5-aa24-4f0a-8e32-87b0c48f7958\",\"type\":\"Toolbar\"},{\"attributes\":{\"bottom_units\":\"screen\",\"fill_alpha\":{\"value\":0.5},\"fill_color\":{\"value\":\"lightgrey\"},\"left_units\":\"screen\",\"level\":\"overlay\",\"line_alpha\":{\"value\":1.0},\"line_color\":{\"value\":\"black\"},\"line_dash\":[4,4],\"line_width\":{\"value\":2},\"plot\":null,\"render_mode\":\"css\",\"right_units\":\"screen\",\"top_units\":\"screen\"},\"id\":\"edf1a122-b936-4325-b7a2-6c9c35d8cf81\",\"type\":\"BoxAnnotation\"},{\"attributes\":{\"fill_alpha\":{\"value\":0.1},\"fill_color\":{\"value\":\"#1f77b4\"},\"line_alpha\":{\"value\":0.1},\"line_color\":{\"value\":\"#1f77b4\"},\"size\":{\"units\":\"screen\",\"value\":10},\"x\":{\"field\":\"x_coord\"},\"y\":{\"field\":\"y_coord\"}},\"id\":\"0500fef8-f7f8-4ab9-8f85-b5049ab5b9fd\",\"type\":\"Circle\"},{\"attributes\":{\"fill_color\":{\"value\":\"#1f77b4\"},\"size\":{\"units\":\"screen\",\"value\":10},\"x\":{\"field\":\"x_coord\"},\"y\":{\"field\":\"y_coord\"}},\"id\":\"43990c5a-30f7-4f11-b190-731c5d5f52fa\",\"type\":\"Circle\"},{\"attributes\":{},\"id\":\"9cabbeb4-db08-4f44-b2cc-005081ebfe16\",\"type\":\"LinearScale\"},{\"attributes\":{\"callback\":null},\"id\":\"1740c44b-946a-4485-b30e-2d3496c417e0\",\"type\":\"DataRange1d\"},{\"attributes\":{\"formatter\":{\"id\":\"d0aa3498-9015-436a-9dec-39c492ad4b38\",\"type\":\"BasicTickFormatter\"},\"plot\":{\"id\":\"032dc53e-c75e-483d-87db-9809f6d7763f\",\"subtype\":\"Figure\",\"type\":\"Plot\"},\"ticker\":{\"id\":\"bb3439c3-df0c-457b-a377-a33363e1dd40\",\"type\":\"BasicTicker\"},\"visible\":false},\"id\":\"fef380cc-a3e9-45cc-897a-d5e73a833d89\",\"type\":\"LinearAxis\"},{\"attributes\":{},\"id\":\"b684cf43-2f20-4d98-8260-975ad207753a\",\"type\":\"LinearScale\"},{\"attributes\":{\"grid_line_color\":{\"value\":null},\"plot\":{\"id\":\"032dc53e-c75e-483d-87db-9809f6d7763f\",\"subtype\":\"Figure\",\"type\":\"Plot\"},\"ticker\":{\"id\":\"3953e69c-13ae-40a9-a099-acc16f91287a\",\"type\":\"BasicTicker\"}},\"id\":\"181f3a72-4db0-4595-8544-86a58ee3e4ca\",\"type\":\"Grid\"},{\"attributes\":{\"formatter\":{\"id\":\"c1a47086-fc33-4ba6-9544-aedbcbfd55e4\",\"type\":\"BasicTickFormatter\"},\"plot\":{\"id\":\"032dc53e-c75e-483d-87db-9809f6d7763f\",\"subtype\":\"Figure\",\"type\":\"Plot\"},\"ticker\":{\"id\":\"3953e69c-13ae-40a9-a099-acc16f91287a\",\"type\":\"BasicTicker\"},\"visible\":false},\"id\":\"5b3a6442-a138-4561-97db-5158d3eba46b\",\"type\":\"LinearAxis\"},{\"attributes\":{\"below\":[{\"id\":\"5b3a6442-a138-4561-97db-5158d3eba46b\",\"type\":\"LinearAxis\"}],\"left\":[{\"id\":\"fef380cc-a3e9-45cc-897a-d5e73a833d89\",\"type\":\"LinearAxis\"}],\"outline_line_color\":{\"value\":null},\"plot_height\":800,\"plot_width\":800,\"renderers\":[{\"id\":\"5b3a6442-a138-4561-97db-5158d3eba46b\",\"type\":\"LinearAxis\"},{\"id\":\"181f3a72-4db0-4595-8544-86a58ee3e4ca\",\"type\":\"Grid\"},{\"id\":\"fef380cc-a3e9-45cc-897a-d5e73a833d89\",\"type\":\"LinearAxis\"},{\"id\":\"1c35081e-de57-4046-9681-ef0589d53022\",\"type\":\"Grid\"},{\"id\":\"886590b7-4dbf-4355-9b4c-3c754d476308\",\"type\":\"BoxAnnotation\"},{\"id\":\"edf1a122-b936-4325-b7a2-6c9c35d8cf81\",\"type\":\"BoxAnnotation\"},{\"id\":\"c07e794d-75e0-4971-b69c-23aab5f3abce\",\"type\":\"GlyphRenderer\"}],\"title\":{\"id\":\"b2ff3647-5597-4f23-834a-938337f5a4fa\",\"type\":\"Title\"},\"toolbar\":{\"id\":\"8d4bb6d5-aa24-4f0a-8e32-87b0c48f7958\",\"type\":\"Toolbar\"},\"x_range\":{\"id\":\"cf9b034c-d205-48d9-9bb9-f857b3da343b\",\"type\":\"DataRange1d\"},\"x_scale\":{\"id\":\"9cabbeb4-db08-4f44-b2cc-005081ebfe16\",\"type\":\"LinearScale\"},\"y_range\":{\"id\":\"1740c44b-946a-4485-b30e-2d3496c417e0\",\"type\":\"DataRange1d\"},\"y_scale\":{\"id\":\"b684cf43-2f20-4d98-8260-975ad207753a\",\"type\":\"LinearScale\"}},\"id\":\"032dc53e-c75e-483d-87db-9809f6d7763f\",\"subtype\":\"Figure\",\"type\":\"Plot\"},{\"attributes\":{\"fill_alpha\":{\"value\":0.1},\"fill_color\":{\"value\":\"blue\"},\"line_alpha\":{\"value\":0.2},\"line_color\":{\"value\":\"blue\"},\"size\":{\"units\":\"screen\",\"value\":10},\"x\":{\"field\":\"x_coord\"},\"y\":{\"field\":\"y_coord\"}},\"id\":\"3f1b9077-7ec1-47e5-88ce-6b425ce910bc\",\"type\":\"Circle\"},{\"attributes\":{},\"id\":\"3953e69c-13ae-40a9-a099-acc16f91287a\",\"type\":\"BasicTicker\"},{\"attributes\":{\"callback\":null,\"column_names\":[\"x_coord\",\"y_coord\",\"word\",\"index\"],\"data\":{\"index\":[\"-PRON-\",\"good\",\"food\",\"place\",\"order\",\"great\",\"come\",\"like\",\"service\",\"time\",\"try\",\"restaurant\",\"eat\",\"love\",\"chicken\",\"menu\",\"nice\",\"wait\",\"delicious\",\"table\",\"want\",\"price\",\"taste\",\"drink\",\"think\",\"fry\",\"little\",\"'s\",\"look\",\"pizza\",\"definitely\",\"ask\",\"friendly\",\"meal\",\"sauce\",\"dish\",\"know\",\"pretty\",\"staff\",\"fresh\",\"amazing\",\"burger\",\"thing\",\"$\",\"people\",\"server\",\"bar\",\"lunch\",\"salad\",\"bad\",\"friend\",\"find\",\"experience\",\"dinner\",\"way\",\"serve\",\"cheese\",\"small\",\"sandwich\",\"bit\",\"feel\",\"right\",\"2\",\"enjoy\",\"tell\",\"meat\",\"flavor\",\"day\",\"lot\",\"sure\",\"sit\",\"visit\",\"location\",\"night\",\"need\",\"big\",\"3\",\"review\",\"leave\",\"sushi\",\"special\",\"tasty\",\"beer\",\"area\",\"excellent\",\"favorite\",\"work\",\"worth\",\"quality\",\"bring\",\"long\",\"recommend\",\"rice\",\"seat\",\"use\",\"atmosphere\",\"cook\",\"check\",\"awesome\",\"customer\",\"breakfast\",\"dessert\",\"hot\",\"star\",\"steak\",\"walk\",\"new\",\"super\",\"soup\",\"waitress\",\"portion\",\"plate\",\"large\",\"roll\",\"different\",\"expect\",\"taco\",\"start\",\"spot\",\"4\",\"bread\",\"option\",\"ok\",\"end\",\"overall\",\"open\",\"vegas\",\"sweet\",\"perfect\",\"pay\",\"spicy\",\"decide\",\"stop\",\"fish\",\"busy\",\"item\",\"probably\",\"5\",\"home\",\"selection\",\"offer\",\"shrimp\",\"waiter\",\"huge\",\"clean\",\"close\",\"year\",\"kind\",\"beef\",\"appetizer\",\"family\",\"half\",\"maybe\",\"fast\",\"actually\",\"inside\",\"hour\",\"coffee\",\"husband\",\"decent\",\"egg\",\"return\",\"let\",\"add\",\"buffet\",\"choice\",\"wine\",\"away\",\"water\",\"line\",\"1\",\"usually\",\"owner\",\"quick\",\"manager\",\"high\",\"arrive\",\"outside\",\"couple\",\"house\",\"cold\",\"noodle\",\"point\",\"hard\",\"town\",\"old\",\"happy\",\"fantastic\",\"chip\",\"guy\",\"group\",\"grill\",\"far\",\"10\",\"especially\",\"wing\",\"piece\",\"attentive\",\"bite\",\"share\",\"wife\",\"pork\",\"finally\",\"fun\",\"bacon\",\"cool\",\"extra\",\"party\",\"second\",\"absolutely\",\"cheap\",\"include\",\"choose\",\"wrong\",\"bowl\",\"kid\",\"decor\",\"fill\",\"dry\",\"week\",\"wonderful\",\"fan\",\"stuff\",\"okay\",\"live\",\"pick\",\"free\",\"change\",\"wish\",\"run\",\"instead\",\"finish\",\"bbq\",\"potato\",\"disappoint\",\"hear\",\"slow\",\"chef\",\"veggie\",\"entree\",\"reservation\",\"crispy\",\"pasta\",\"mexican\",\"care\",\"stay\",\"mean\",\"regular\",\"room\",\"money\",\"minute\",\"chinese\",\"reason\",\"yummy\",\"course\",\"warm\",\"business\",\"deal\",\"happy_hour\",\"highly_recommend\",\"kitchen\",\"today\",\"local\",\"help\",\"size\",\"thank\",\"light\",\"yelp\",\"miss\",\"glass\",\"extremely\",\"italian\",\"salsa\",\"bill\",\"yes\",\"thai\",\"slice\",\"style\",\"patio\",\"strip\",\"real\",\"charge\",\"brunch\",\"burrito\",\"oh\",\"tender\",\"ingredient\",\"plus\",\"bartender\",\"type\",\"talk\",\"cut\",\"person\",\"watch\",\"variety\",\"white\",\"forget\",\"tip\",\"bland\",\"6\",\"guess\",\"die\",\"seafood\",\"drive\",\"onion\",\"stand\",\"average\",\"hand\",\"remember\",\"street\",\"expensive\",\"red\",\"reasonable\",\"fine\",\"tomato\",\"chocolate\",\"quickly\",\"able\",\"later\",\"flavorful\",\"disappointed\",\"salmon\",\"lack\",\"green\",\"hit\",\"garlic\",\"cocktail\",\"authentic\",\"ambiance\",\"turn\",\"mention\",\"girl\",\"better\",\"spend\",\"fact\",\"pho\",\"weekend\",\"tea\",\"curry\",\"receive\",\"soon\",\"read\",\"happen\",\"door\",\"notice\",\"topping\",\"helpful\",\"cake\",\"problem\",\"music\",\"counter\",\"employee\",\"boyfriend\",\"5_star\",\"hungry\",\"list\",\"terrible\",\"twice\",\"perfectly\",\"impressed\",\"trip\",\"base\",\"date\",\"simple\",\"mind\",\"lobster\",\"believe\",\"salty\",\"consider\",\"horrible\",\"mushroom\",\"mix\",\"sausage\",\"plenty\",\"joint\",\"ready\",\"evening\",\"treat\",\"vegetarian\",\"bean\",\"head\",\"late\",\"wow\",\"20\",\"man\",\"birthday\",\"glad\",\"ice_cream\",\"easy\",\"main\",\"hostess\",\"past\",\"rude\",\"crowd\",\"beautiful\",\"set\",\"butter\",\"etc\",\"refill\",\"wrap\",\"grab\",\"las_vegas\",\"mouth\",\"soft\",\"pancake\",\"pricey\",\"rest\",\"unique\",\"wall\",\"spice\",\"pack\",\"hotel\",\"buy\",\"hope\",\"stick\",\"early\",\"entire\",\"space\",\"lady\",\"combo\",\"greet\",\"unfortunately\",\"crust\",\"cup\",\"job\",\"vegetable\",\"totally\",\"loud\",\"bottle\",\"8\",\"standard\",\"play\",\"deliver\",\"waffle\",\"game\",\"seriously\",\"vegan\",\"complaint\",\"seating\",\"available\",\"cost\",\"write\",\"bun\",\"issue\",\"view\",\"near\",\"compare\",\"rib\",\"salt\",\"literally\",\"parking\",\"meet\",\"7\",\"flavour\",\"month\",\"pass\",\"life\",\"dining\",\"broth\",\"delivery\",\"cute\",\"healthy\",\"shop\",\"interesting\",\"sign\",\"honestly\",\"prepare\",\"pepper\",\"locate\",\"suggest\",\"completely\",\"note\",\"value\",\"mediocre\",\"speak\",\"mac\",\"thick\",\"establishment\",\"outstanding\",\"dip\",\"greasy\",\"sunday\",\"+\",\"store\",\"understand\",\"juicy\",\"chance\",\"pleasant\",\"excited\",\"corn\",\"poor\",\"raman\",\"disappointing\",\"vibe\",\"margarita\",\"texture\",\"immediately\",\"melt\",\"rush\",\"solid\",\"explain\",\"homemade\",\"smell\",\"french\",\"cream\",\"request\",\"plan\",\"world\",\"city\",\"prefer\",\"chain\",\"medium\",\"sorry\",\"provide\",\"asian\",\"cafe\",\"slightly\",\"crave\",\"sound\",\"typical\",\"idea\",\"japanese\",\"complain\",\"tiny\",\"mom\",\"smile\",\"15\",\"lol\",\"avocado\",\"phoenix\",\"short\",\"simply\",\"creamy\",\"tonight\",\"indian\",\"dressing\",\"word\",\"morning\",\"incredible\",\"split\",\"diner\",\"welcome\",\"traditional\",\"cover\",\"toast\",\"exactly\",\"10_minute\",\"season\",\"lamb\",\"hang\",\"sort\",\"throw\",\"pie\",\"suppose\",\"lovely\",\"recently\",\"smoke\",\"accommodate\",\"basically\",\"guest\",\"casual\",\"touch\",\"recommendation\",\"truly\",\"korean\",\"brisket\",\"ton\",\"burn\",\"best\",\"crepe\",\"low\",\"toronto\",\"surprise\",\"chili\",\"dollar\",\"number\",\"appreciate\",\"12\",\"fruit\",\"send\",\"thin\",\"crab\",\"dirty\",\"box\",\"certainly\",\"realize\",\"picture\",\"phone\",\"15_minute\",\"window\",\"remind\",\"face\",\"level\",\"oyster\",\"comfortable\",\"club\",\"opinion\",\"break\",\"fancy\",\"drop\",\"tofu\",\"neighborhood\",\"yum\",\"calamari\",\"weird\",\"fairly\",\"hold\",\"downtown\",\"figure\",\"booth\",\"rich\",\"usual\",\"crazy\",\"und\",\"presentation\",\"perfection\",\"combination\",\"look_forward\",\"question\",\"gravy\",\"total\",\"save\",\"hop\",\"dog\",\"fair\",\"soggy\",\"dark\",\"app\",\"kinda\",\"case\",\"buck\",\"rock\",\"tuna\",\"surprised\",\"waste\",\"son\",\"sample\",\"desert\",\"turkey\",\"daughter\",\"sad\",\"sweet_potato\",\"normally\",\"whatev\",\"rating\",\"management\",\"n\",\"generous\",\"despite\",\"pop\",\"easily\",\"20_minute\",\"classic\",\"sashimi\",\"floor\",\"awful\",\"tv\",\"din\",\"ice\",\"dine\",\"beat\",\"sell\",\"middle\",\"avoid\",\"state\",\"mess\",\"crisp\",\"scallop\",\"heat\",\"shot\",\"meatball\",\"fall\",\"corner\",\"attitude\",\"platter\",\"greek\",\"lose\",\"lettuce\",\"fix\",\"pickle\",\"guacamole\",\"pad_thai\",\"bathroom\",\"barely\",\"sour\",\"eye\",\"saturday\",\"matter\",\"duck\",\"attention\",\"girlfriend\",\"cozy\",\"tasting\",\"original\",\"dumpling\",\"strong\",\"bone\",\"kick\",\"agree\",\"plain\",\"true\",\"continue\",\"spinach\",\"similar\",\"dining_experience\",\"9\",\"longer\",\"gyro\",\"heavy\",\"addition\",\"book\",\"conversation\",\"30\",\"suck\",\"environment\",\"catch\",\"bother\",\"hate\",\"mistake\",\"cookie\",\"casino\",\"tap\",\"opt\",\"allow\",\"follow\",\"lemon\",\"incredibly\",\"round\",\"ambience\",\"obviously\",\"clearly\",\"quiet\",\"summer\",\"car\",\"favourite\",\"prepared\",\"clear\",\"crunchy\",\"50\",\"chewy\",\"interior\",\"fabulous\",\"bag\",\"30_minute\",\"friday\",\"shake\",\"cashier\",\"pastry\",\"raw\",\"poutine\",\"overpriced\",\"apparently\",\"cash\",\"patron\",\"woman\",\"satisfied\",\"portion_size\",\"modern\",\"host\",\"american\",\"hummus\",\"pull\",\"fat\",\"double\",\"basic\",\"non\",\"section\",\"bagel\",\"forever\",\"seasoning\",\"update\",\"tough\",\"chipotle\",\"expectation\",\"normal\",\"nicely\",\"biscuit\",\"pull_pork\",\"tortilla\",\"la\",\"moist\",\"filling\",\"sub\",\"popular\",\"disappointment\",\"charlotte\",\"friday_night\",\"bunch\",\"boy\",\"polite\",\"top_notch\",\"soda\",\"pittsburgh\",\"answer\",\"chair\",\"montreal\",\"hand_down\",\"scottsdale\",\"saturday_night\",\"comment\",\"pour\",\"begin\",\"black\",\"year_ago\",\"hubby\",\"personally\",\"oil\",\"s\",\"coupon\",\"appear\",\"apologize\",\"juice\",\"gluten_free\",\"event\",\"french_toast\",\"sister\",\"gross\",\"mood\",\"dim_sum\",\"post\",\"strawberry\",\"affordable\",\"meh\",\"multiple\",\"damn\",\"park\",\"overcook\",\"step\",\"cuisine\",\"gem\",\"card\",\"concept\",\"describe\",\"version\",\"prime_rib\",\"patty\",\"delish\",\"100\",\"alright\",\"skip\",\"mango\",\"spring_roll\",\"suggestion\",\"efficient\",\"surprisingly\",\"limited\",\"reasonably_price\",\"pork_belly\",\"bake\",\"refreshing\",\"somewhat\",\"pleased\",\"overly\",\"young\",\"snack\",\"negative\",\"station\",\"exceptional\",\"imagine\",\"omg\",\"nearby\",\"odd\",\"coconut\",\"tuesday\",\"deserve\",\"pita\",\"wonder\",\"rare\",\"folk\",\"ball\",\"orange\",\"online\",\"prompt\",\"vietnamese\",\"onion_ring\",\"handle\",\"phenomenal\",\"donut\",\"difficult\",\"building\",\"frozen\",\"moment\",\"hot_dog\",\"takeout\",\"late_night\",\"leftover\",\"professional\",\"consistent\",\"present\",\"sized\",\"valley\",\"mash_potato\",\"enchilada\",\"actual\",\"honey\",\"hype\",\"knowledgeable\",\"cucumber\",\"ham\",\"baby\",\"mayo\",\"consistently\",\"cheesecake\",\"single\",\"batter\",\"u\",\"specialty\",\"25\",\"roast\",\"possible\",\"correct\",\"heart\",\"anymore\",\"child\",\"ayce\",\"create\",\"apple\",\"positive\",\"11\",\"ridiculous\",\"future\",\"assume\",\"grow\",\"filet\",\"cook_perfectly\",\"yeah\",\"load\",\"pub\",\"1/2\",\"nearly\",\"yesterday\",\"crowded\",\"pair\",\"promptly\",\"particular\",\"frequent\",\"enter\",\"complimentary\",\"mixed\",\"groupon\",\"chunk\",\"dining_room\",\"honest\",\"range\",\"slider\",\"country\",\"lover\",\"impressive\",\"funny\",\"parking_lot\",\"chop\",\"chill\",\"pepperoni\",\"celebrate\",\"craving\",\"hole\",\"disgusting\",\"complete\",\"starter\",\"generally\",\"tend\",\"heaven\",\"convenient\",\"bomb\",\"next_door\",\"enjoyable\",\"sugar\",\"worker\",\"separate\",\"deep_fry\",\"joke\",\"manage\",\"company\",\"w\",\"afternoon\",\"quesadilla\",\"doubt\",\"alcohol\",\"cleveland\",\"nachos\",\"medium_rare\",\"pineapple\",\"omelet\",\"bf\",\"tasteless\",\"particularly\",\"straight\",\"sick\",\"pool\",\"fire\",\"p.m.\",\"steam\",\"rave_about\",\"travel\",\"arizona\",\"sadly\",\"omelette\",\"mother\",\"hell\",\"carry\",\"broccoli\",\"sense\",\"teriyaki\",\"truffle\",\"learn\",\"mini\",\"highlight\",\"banana\",\"ahead\",\"40\",\"smoothie\",\"tempura\",\"chat\",\"pricing\",\"w/\",\"main_course\",\"mild\",\"ignore\",\"savory\",\"superb\",\"regret\",\"feeling\",\"fit\",\"inform\",\"win\",\"five_star\",\"offering\",\"upscale\",\"willing\",\"pleasantly_surprised\",\"drive_thru\",\"hey\",\"carne_asada\",\"build\",\"detail\",\"eggplant\",\"discount\",\"cooking\",\"deli\",\"gelato\",\"basil\",\"=\",\"purchase\",\"satisfy\",\"steakhouse\",\"rate\",\"california\",\"impress\",\"ginger\",\"fail\",\"nacho\",\"awhile\",\"stomach\",\"mussel\",\"dress\",\"pre\",\"market\",\"balance\",\"blow\",\"feature\",\"anyways\",\"packed\",\"bright\",\"spectacular\",\"additional\",\"airport\",\"fare\",\"45_minute\",\"creative\",\"dough\",\"improve\",\"typically\",\"shell\",\"general\",\"product\",\"signature\",\"feed\",\"fluffy\",\"beverage\",\"strange\",\"finger\",\"buffalo\",\"term\",\"compliment\",\"spaghetti\",\"bakery\",\"certain\",\"personal\",\"short_rib\",\"hat\",\"dozen\",\"ruin\",\"freeze\",\"search\",\"lucky\",\"aside\",\"lay\",\"chorizo\",\"ranch\",\"giant\",\"hopefully\",\"carrot\",\"goat_cheese\",\"extensive\",\"relax\",\"discover\",\"parent\",\"chicago\",\"mozzarella\",\"mac_n_cheese\",\"olive\",\"skin\",\"napkin\",\"coleslaw\",\"possibly\",\"madison\",\"photo\",\"depend\",\"serving\",\"der\",\"par\",\"roasted\",\"dad\",\"memorable\",\"asparagus\",\"tad\",\"admit\",\"accompany\",\"fatty\",\"shame\",\"pesto\",\"website\",\"lounge\",\"oily\",\"ketchup\",\"cheesy\",\"brother\",\"monday\",\"luckily\",\"comfort\",\"unlike\",\"important\",\"mark\",\"movie\",\"trust\",\"attempt\",\"anything_else\",\"difference\",\"wise\",\"match\",\"naan\",\"consist\",\"scoop\",\"wear\",\"weather\",\"south\",\"setting\",\"weekday\",\"blend\",\"peanut\",\"famous\",\"fault\",\"de\",\"trendy\",\"mustard\",\"delightful\",\"repeat\",\"brown\",\"excuse\",\"venue\",\"picky\",\"hair\",\"paper\",\"center\",\"fork\",\"freshly\",\"hamburger\",\"quantity\",\"listen\",\"gourmet\",\"needless\",\"consistency\",\"crunch\",\"welcoming\",\"jalapeno\",\"entrance\",\"starve\",\"register\",\"wine_list\",\"falafel\",\"situation\",\"likely\",\"das\",\"az\",\"protein\",\"earlier\",\"occasion\",\"milk\",\"flight\",\"cilantro\",\"sake\",\"king\",\"green_tea\",\"hint\",\"courteous\",\"upstairs\",\"container\",\"previous\",\"somewhere_else\",\"drunk\",\"goodness\",\"cheddar\",\"design\",\"martini\",\"process\",\"parmesan\",\"coworker\",\"jerk\",\"crab_leg\",\"prior\",\"classy\",\"pretzel\",\"luck\",\"caesar_salad\",\"replace\",\"syrup\",\"story\",\"stale\",\"baked\",\"romantic\",\"west\",\"annoying\",\"cabbage\",\"office\",\"flavourful\",\"grit\",\"2nd\",\"spread\",\"oven\",\"act\",\"fly\",\"warn\",\"desire\",\"adult\",\"flat\",\"relatively\",\"overprice\",\"ribeye\",\"limit\",\"live_music\",\"effort\",\"pricy\",\"theme\",\"new_york\",\"hash_brown\",\"risotto\",\"laugh\",\"daily\",\"team\",\"bed\",\"support\",\"skewer\",\"road\",\"strip_mall\",\"latte\",\"def\",\"remove\",\"count\",\"acknowledge\",\"hawaiian\",\"shawarma\",\"board\",\"pot\",\"mall\",\"crap\",\"secret\",\"thought\",\"every_single\",\"reviewer\",\"dance\",\"bloody_mary\",\"properly\",\"lime\",\"art\",\"tax\",\"fajita\",\"truck\",\"favor\",\"ice_tea\",\"smooth\",\"settle\",\"subway\",\"rat\",\"black_bean\",\"crab_cake\",\"wash\",\"restroom\",\"guac\",\"yell\",\"pan\",\"nasty\",\"terrific\",\"scene\",\"intimate\",\"sour_cream\",\"blue\",\"spacious\",\"hide\",\"foot\",\"color\",\"ravioli\",\"lead\",\"worry\",\"brew\",\"mediterranean\",\"till\",\"croissant\",\"massive\",\"upset\",\"age\",\"pound\",\"y\",\"proceed\",\"patient\",\"promise\",\"haha\",\"le\",\"machine\",\"refuse\",\"constantly\",\"inexpensive\",\"sangria\",\"ticket\",\"cajun\",\"select\",\"blue_cheese\",\"comp\",\"kimchi\",\"gnocchi\",\"block\",\"hide_gem\",\"lie\",\"mushy\",\"flavorless\",\"appetite\",\"grease\",\"form\",\"thin_crust\",\"sooo\",\"layer\",\"judge\",\"staple\",\"buttery\",\"invite\",\"knock\",\"recipe\",\"bruschetta\",\"kill\",\"court\",\"soooo\",\"equally\",\"apology\",\"example\",\"partner\",\"slaw\",\"clam\",\"claim\",\"eater\",\"cooked\",\"relaxed\",\"hearty\",\"marinate\",\"cater\",\"north\",\"liking\",\"tray\",\"lasagna\",\"gentleman\",\"hurry\",\"dream\",\"hip\",\"pink\",\"boring\",\"decision\",\"fried\",\"condiment\",\"espresso\",\"push\",\"coffee_shop\",\"miso_soup\",\"uncomfortable\",\"east\",\"result\",\"receipt\",\"sweetness\",\"herb\",\"class\",\"co_worker\",\"eventually\",\"ago\",\"english\",\"anniversary\",\"tart\",\"waitstaff\",\"introduce\",\"milkshake\",\"gf\",\"tired\",\"frequently\",\"boba\",\"ny\",\"approach\",\"toss\",\"dipping_sauce\",\"philly\",\"pro\",\"outdoor_seating\",\"green_bean\",\"pile\",\"per_person\",\"opportunity\",\"basket\",\"everyday\",\"filet_mignon\",\"et\",\"taste_bud\",\"rarely\",\"cheeseburger\",\"personable\",\"poke\",\"plaza\",\"soak\",\"major\",\"nigiri\",\"regularly\",\"ring\",\"tiramisu\",\"bellagio\",\"ist\",\"attend\",\"air\",\"a.m.\",\"foodie\",\"response\",\"awkward\",\"octopus\",\"mile\",\"random\",\"highly\",\"tempe\",\"char\",\"law\",\"mimosa\",\"regardless\",\"twist\",\"interested\",\"quaint\",\"organic\",\"focus\",\"gorgeous\",\"edible\",\"egg_benedict\",\"noisy\",\"lighting\",\"watery\",\"fine_dining\",\"mint\",\"steal\",\"specifically\",\"feta\",\"dead\",\"un\",\"fries\",\"nyc\",\"lemonade\",\"raise\",\"overwhelming\",\"reserve\",\"ceviche\",\"eatery\",\"plentiful\",\"someone_else\",\"display\",\"remain\",\"impeccable\",\"generous_portion\",\"refund\",\"pork_chop\",\"flatbread\",\"pitcher\",\"ass\",\"credit\",\"1st\",\"blow_away\",\"absolute\",\"microwave\",\"edge\",\"hash\",\"train\",\"screw\",\"anywhere_else\",\"venture\",\"description\",\"olive_oil\",\"winter\",\"safe\",\"satisfying\",\"sip\",\"cinnamon\",\"buddy\",\"fusion\",\"switch\",\"messy\",\"zucchini\",\"substitute\",\"thursday\",\"sampler\",\"ground\",\"write_home\",\"spoon\",\"potential\",\"panini\",\"overpower\",\"hardly\",\"bonus\",\"ein\",\"wednesday\",\"hipster\",\"credit_card\",\"concern\",\"pastrami\",\"recent\",\"sport\",\"opening\",\"mainly\",\"b\",\"brownie\",\"mcdonald_'s\",\"sport_bar\",\"exception\",\"special_occasion\",\"stack\",\"dig\",\"alternative\",\"vacation\",\"system\",\"surround\",\"macaroni\",\"stellar\",\"advice\",\"delight\",\"force\",\"wonton\",\"overlook\",\"fountain\",\"soy_sauce\",\"con\",\"combine\",\"shit\",\"draw\",\"trouble\",\"neat\",\"amazingly\",\"tacos\",\"familiar\",\"bitter\",\"barbecue\",\"boil\",\"winner\",\"chicken_breast\",\"advance\",\"spicy_tuna\",\"zero\",\"draft\",\"15_min\",\"contain\",\"btw\",\"call_ahead\",\"fav\",\"ramen\",\"old_school\",\"reach\",\"originally\",\"veal\",\"tourist\",\"above_average\",\"advertise\",\"tapa\",\"80\",\"10_min\",\"foie_gra\",\"minute_later\",\"require\",\"vinegar\",\"regard\",\"divine\",\"individual\",\"confused\",\"30_min\",\"swear\",\"hello\",\"4/5\",\"aware\",\"arugula\",\"dude\",\"tangy\",\"mit\",\"band\",\"5/5\",\"coke\",\"reply\",\"craft_beer\",\"scratch\",\"pint\",\"appeal\",\"holiday\",\"garden\",\"ridiculously\",\"temperature\",\"numerous\",\"god\",\"charming\",\"crappy\",\"whip_cream\",\"weak\",\"caramel\",\"prosciutto\",\"vodka\",\"obvious\",\"peanut_butter\",\"pleasure\",\"grocery_store\",\"southern\",\"self\",\"square\",\"pm\",\"stock\",\"left\",\"crack\",\"wedding\",\"squid\",\"freshness\",\"vanilla\",\"ordering\",\"chew\",\"cornbread\",\"upgrade\",\"champagne\",\"starbucks\",\"hire\",\"bistro\",\"3.5_star\",\"confirm\",\"tequila\",\"minus\",\"20_min\",\"bet\",\"40_minute\",\"rib_eye\",\"seasonal\",\"wasabi\",\"ya\",\"stir_fry\",\"cart\",\"comparison\",\"fool\",\"war\",\"ratio\",\"legit\",\"meaty\",\"sub_par\",\"spanish\",\"blt\",\"college\",\"italy\",\"blueberry\",\"heck\",\"package\",\"nicht\",\"score\",\"carnita\",\"alot\",\"raspberry\",\"got\",\"dj\",\"inviting\",\"memory\",\"drive_through\",\"jam\",\"caesar\",\"sesame\",\"inedible\",\"outdoor\",\"tab\",\"muffin\",\"shred\",\"everytime\",\"layout\",\"argue\",\"sticky\",\"plastic\",\"downstairs\",\"beware\",\"undercook\",\"beginning\",\"decorate\",\"proper\",\"hibachi\",\"wet\",\"careful\",\"leg\",\"thankfully\",\"pic\",\"benedict\",\"scream\",\"devour\",\"sun\",\"accept\",\"wood\",\"father\",\"lastly\",\"personality\",\"fully\",\"exciting\",\"killer\",\"acceptable\",\"tho\",\"pig\",\"belly\",\"farm\",\"25_minute\",\"handful\",\"veg\",\"disappear\",\"nope\",\"comparable\",\"$_14\",\"auch\",\"knife\",\"industry\",\"cleanliness\",\"bread_pudding\",\"heavenly\",\"noon\",\"fall_apart\",\"soul\",\"fave\",\"edamame\",\"katsu\",\"specific\",\"beet\",\"tamale\",\"insist\",\"initially\",\"lazy\",\"chinatown\",\"calzone\",\"nonetheless\",\"kabob\",\"dive\",\"prime\",\"drizzle\",\"annoyed\",\"address\",\"decoration\",\"sunday_brunch\",\"bottom_line\",\"cupcake\",\"song\",\"bc\",\"bulgogi\",\"high_expectation\",\"allergy\",\"fight\",\"cousin\",\"deep\",\"daily_special\",\"cherry\",\"site\",\"improvement\",\"wanna\",\"period\",\"accord\",\"tapas\",\"challenge\",\"slight\",\"silverware\",\"trash\",\"pip_hot\",\"meeting\",\"assortment\",\"berry\",\"apart\",\"es\",\"garnish\",\"encounter\",\"thumb_up\",\"only_downside\",\"stew\",\"sliced\",\"eh\",\"pudding\",\"jalape\\u00f1o\",\"nut\",\"cole_slaw\",\"ensure\",\"neighbourhood\",\"fake\",\"shopping\",\"advise\",\"row\",\"queso\",\"grant\",\"filipino\",\"soy\",\"texas\",\"island\",\"german\",\"popcorn\",\"eating\",\"cauliflower\",\"exist\",\"school\",\"sprinkle\",\"recall\",\"udon\",\"week_ago\",\"authentic_mexican\",\"blame\",\"steep\",\"sing\",\"18\",\"coat\",\"wynn\",\"min\",\"brussel_sprout\",\"rubbery\",\"diet\",\"almond\",\"preparation\",\"join\",\"yogurt\",\"everybody\",\"korean_bbq\",\"rule\",\"hot_pot\",\"express\",\"taco_bell\",\"miso\",\"o\",\"ordinary\",\"fianc\\u00e9\",\"chocolate_cake\",\"calorie\",\"mad\",\"impression\",\"sea_bass\",\"ricotta\",\"email\",\"indoor\",\"roast_beef\",\"smoky\",\"pace\",\"unbelievable\",\"shout\",\"creme_brulee\",\"corned_beef\",\"artichoke\",\"cuz\",\"fiance\",\"christmas\",\"$_13\",\"jump\",\"ich\",\"nutella\",\"meatloaf\",\"confusing\",\"yellow\",\"rack\",\"colleague\",\"blast\",\"custard\",\"da\",\"lv\",\"scramble_egg\",\"henderson\",\"member\",\"well_seasoned\",\"afraid\",\"strike\",\"aber\",\"lively\",\"al\",\"craft\",\"smother\",\"noise\",\"expand\",\"respond\",\"premium\",\"wtf\",\"month_ago\",\"jack\",\"understand_why\",\"catfish\",\"brand\",\"budget\",\"underwhelming\",\"um\",\"3rd\",\"wide_variety\",\"respect\",\"cheese_curd\",\"pea\",\"driver\",\"16\",\"trio\",\"first_impression\",\"roti\",\"cramped\",\"halibut\",\"skillet\",\"palate\",\"tight\",\"worthy\",\"14\",\"earn\",\"anytime\",\"control\",\"earth\",\"bang\",\"peach\",\"consume\",\"cancel\",\"energy\",\"90\",\"pride\",\"companion\",\"common\",\"denny_'s\",\"complement\",\"student\",\"outdoor_patio\",\"empanada\",\"unprofessional\",\"stupid\",\"drinks\",\"breading\",\"previously\",\"most_likely\",\"charm\",\"downhill\",\"cod\",\"elegant\",\"drinking\",\"brown_rice\",\"brie\",\"sirloin\",\"community\",\"entertainment\",\"happily\",\"land\",\"french_onion\",\"wallet\",\"bear\",\"grilled\",\"mixture\",\"yelper\",\"garbage\",\"spill\",\"crew\",\"entirely\",\"walnut\",\"kale\",\"scramble\",\"client\",\"skeptical\",\"ceiling\",\"hurt\",\"contact\",\"smoke_salmon\",\"key\",\"lukewarm\",\"d\\u00e9cor\",\"smokey\",\"la_carte\",\"and/or\",\"overwhelmed\",\"directly\",\"sunday_morning\",\"oxtail\",\"mill\",\"appropriate\",\"$_16\",\"relaxing\",\"training\",\"mojito\",\"staff_member\",\"appetizing\",\"alfredo\",\"shock\",\"candy\",\"weekly\",\"preference\",\"dump\",\"baguette\",\"take_advantage\",\"blah\",\"lean\",\"pain\",\"mcdonalds\",\"surprising\",\"assure\",\"runny\",\"yay\",\"flaky\",\"lobster_bisque\",\"japan\",\"fishy\",\"inspire\",\"oz\",\"explore\",\"cappuccino\",\"traffic\",\"produce\",\"sooooo\",\"utensil\",\"shape\",\"brewery\",\"caf\\u00e9\",\"edinburgh\",\"3.5\",\"reheat\",\"ill\",\"lightly\",\"unusual\",\"bubble_tea\",\"unlimited\",\"correctly\",\"essentially\",\"$_18\",\"poisoning\",\"speed\",\"pay_attention\",\"gyoza\",\"ish\",\"background\",\"squeeze\",\"mash\",\"majority\",\"ugh\",\"pretentious\",\"crawfish\",\"70\",\"adequate\",\"shocked\",\"hook\",\"thursday_night\",\"franchise\",\"delectable\",\"rosemary\",\"sear\",\"pumpkin\",\"competition\",\"karaoke\",\"female\",\"impossible\",\"uni\",\"21\",\"subpar\",\"snob\",\"seasoned\",\"baked_potato\",\"quarter\",\"semi\",\"bourbon\",\"quinoa\",\"poorly\",\"funky\",\"convince\",\"buzz\",\"deliciousness\",\"tongue\",\"skimp\",\"banh_mi\",\"macaron\",\"ten_minute\",\"page\",\"study\",\"drench\",\"corporate\",\"practically\",\"resort\",\"60\",\"lately\",\"flag\",\"cause\",\"warning\",\"tour\",\"monday_night\",\"punch\",\"recognize\",\"indulge\",\"shift\",\"plantain\",\"valet\",\"tuck_away\",\"bank\",\"irish\",\"c\",\"direction\",\"adventurous\",\"tomorrow\",\"scale\",\"diverse\",\"hawaii\",\"complex\",\"test\",\"golden\",\"adorable\",\"13\",\"occupy\",\"press\",\"customize\",\"soo\",\"entr\\u00e9e\",\"ideal\",\"thoroughly_enjoy\",\"reuben\",\"old_fashioned\",\"sea\",\"apologetic\",\"terribly\",\"beautifully\",\"washroom\",\"rustic\",\"minimal\",\"delicate\",\"ayce_sushi\",\"pita_bread\",\"ps\",\"justify\",\"power\",\"prove\",\"chandler\",\"fridge\",\"decadent\",\"aspect\",\"guarantee\",\"whiskey\",\"sale\",\"china\",\"grandma\",\"below_average\",\"kudo\",\"necessary\",\"fyi\",\"scrumptious\",\"exceed\",\"bento_box\",\"spice_level\",\"tot\",\"hh\",\"minimum\",\"liquor\",\"3/5\",\"private\",\"paris\",\"five_minute\",\"benefit\",\"pure\",\"wild\",\"hi\",\"wave\",\"factor\",\"baklava\",\"yuck\",\"wheat\",\"suit\",\"tear\",\"stone\",\"venetian\",\"screen\",\"currently\",\"lobby\",\"sight\",\"lil\",\"honor\",\"struggle\",\"chilli\",\"smash\",\"carb\",\"ride\",\"aioli\",\"cheer\",\"rip_off\",\"7_p.m.\",\"mgm\",\"deep_dish\",\"inconsistent\",\"bummer\",\"dense\",\"watermelon\",\"resto\",\"knowledge\",\"history\",\"ipa\",\"6_p.m.\",\"middle_eastern\",\"pear\",\"report\",\"body\",\"delay\",\"final\",\"spring\",\"thanksgiving\",\"character\",\"gooey\",\"custom\",\"succulent\",\"marinara\",\"hospitality\",\"skill\",\"volume\",\"boss\",\"maintain\",\"amazed\",\"clientele\",\"couch\",\"angry\",\"msg\",\"comfy\",\"m\",\"aka\",\"text\",\"cannoli\",\"chris\",\"spoil\",\"destination\",\"iced_tea\",\"slide\",\"news\",\"generic\",\"concerned\",\"entertaining\",\"mesa\",\"eel\",\"spiciness\",\"fried_rice\",\"wipe\",\"grub\",\"surely\",\"sundays\",\"decline\",\"insane\",\"knowledgable\",\"feast\",\"confuse\",\"wonderfully\",\"hangover\",\"milk_tea\",\"pistachio\",\"east_coast\",\"stumble_upon\",\"gift_card\",\"samosa\",\"natural\",\"appearance\",\"curious\",\"cheesesteak\",\"policy\",\"slam\",\"gal\",\"enormous\",\"fondue\",\"jar\",\"straw\",\"garlic_knot\",\"8_p.m.\",\"california_roll\",\"rough\",\"execute\",\"culinary\",\"voice\",\"worried\",\"hotdog\",\"pasty\",\"genuine\",\"manner\",\"eclectic\",\"lettuce_wrap\",\"canada\",\"stage\",\"indicate\",\"midnight\",\"filthy\",\"freak\",\"zu\",\"seven\",\"current\",\"perfectly_cooked\",\"flow\",\"occasionally\",\"slowly\",\"splurge\",\"bone_marrow\",\"increase\",\"necessarily\",\"5_min\",\"satay\",\"drown\",\"sunday_afternoon\",\"culture\",\"barista\",\"hesitant\",\"candle\",\"oh_yeah\",\"ample\",\"fee\",\"unfortunate\",\"aroma\",\"imo\",\"operate\",\"print\",\"cons\",\"canadian\",\"closer\",\"horchata\",\"inch\",\"homey\",\"horseradish\",\"sum\",\"visitor\",\"concert\",\"chic\",\"eine\",\"citrus\",\"whatsoever\",\"aria\",\"olive_garden\",\"seaweed\",\"refer\",\"shopping_center\",\"leaf\",\"tone\",\"infuse\",\"thi\",\"cranberry\",\"lunchtime\",\"sucker\",\"male\",\"quote\",\"reflect\",\"skinny\",\"arm\",\"setup\",\"instantly\",\"draft_beer\",\"9_p.m.\",\"church\",\"shrimp_tempura\",\"chow_mein\",\"corn_tortilla\",\"price_tag\",\"flour\",\"unacceptable\",\"understaffed\",\"anticipate\",\"southwest\",\"tandoori\",\"yelpers\",\"clam_chowder\",\"tall\",\"loaf\",\"demand\",\"ground_beef\",\"45_min\",\"albeit\",\"subtle\",\"spit\",\"cure\",\"quiche\",\"attach\",\"a+\",\"encourage\",\"noodles\",\"congee\",\"dislike\",\"lake\",\"booze\",\"ahi_tuna\",\"trick\",\"convenience\",\"eager\",\"shortly_after\",\"creation\",\"informative\",\"content\",\"green_chili\",\"worth_every_penny\",\"vary\",\"essen\",\"gut\",\"i.e.\",\"hesitate\",\"vinaigrette\",\"scone\",\"ppl\",\"redeem\",\"wednesday_night\",\"oppose\",\"exceptionally\",\"batch\",\"downside\",\"paint\",\"shoot\",\"les\",\"10_p.m.\",\"wings\",\"mike\",\"\\u00e0\",\"bus\",\"des\",\"float\",\"gladly\",\"pocket\",\"fortunately\",\"paella\",\"polenta\",\"sooner\",\"pretty_darn\",\"lamb_chop\",\"action\",\"faster\",\"anytime_soon\",\"cracker\",\"involve\",\"sleep\",\"front_desk\",\"glaze\",\"flag_down\",\"bug\",\"nothing_spectacular\",\"bean_sprout\",\"smart\",\"seek\",\"genuinely\",\"jalape\\u00f1os\",\"doughy\",\"overdone\",\"personal_favorite\",\"~\",\"exterior\",\"red_pepper\",\"ribs\",\"yellowtail\",\"frustrating\",\"resist\",\"concoction\",\"24_hour\",\"saturday_morning\",\"waiting\",\"tummy\",\"lackluster\",\"health\",\"byob\",\"joe\",\"mid\",\"boot\",\"d\",\"purpose\",\"john\",\"uptown\",\"unpleasant\",\"mexico\",\"neighbor\",\"expert\",\"$_60\",\"insanely\",\"lame\",\"lick\",\"cry\",\"prawn\",\"cuban\",\"explanation\",\"den\",\"success\",\"bench\",\"central\",\"wie\",\"timing\",\"gumbo\",\"$_35\",\"shirt\",\"torta\",\"green_chile\",\"inconvenience\",\"$_17\",\"orange_juice\",\"joe_'s\",\"suspect\",\"exact\",\"politely\",\"elevator\",\"suffer\",\"jelly\",\"magic\",\"unfriendly\",\"attractive\",\"bump\",\"freaking\",\"goody\",\"ihop\",\"gilbert\",\"undercooked\",\"definately\",\"pecan\",\"liquid\",\"sich\",\"furniture\",\"label\",\"mountain\",\"thanks\",\"wifi\",\"grand\",\"lo_mein\",\"flan\",\"polish\",\"saturday_afternoon\",\"pickup\",\"day_ago\",\"initial\",\"spin\",\"rum\",\"nugget\",\"burst\",\"kalbi\",\"timely_manner\",\"whip\",\"previous_review\",\"greeting\",\"catering\",\"frankly\",\"cross\",\"deliciously\",\"endless\",\"unhappy\",\"churro\",\"standout\",\"hub\",\"young_lady\",\"gigantic\",\"closed\",\"en\",\"hangout\",\"t\",\"squash\",\"whim\",\"stuffed\",\"lobster_tail\",\"pizzeria\",\"markham\",\"maple\",\"pizza_hut\",\"cali\",\"rid\",\"alas\",\"information\",\"inquire\",\"skimpy\",\"wide\",\"max\",\"tree\",\"calm\",\"stair\",\"direct\",\"security\",\"varied\",\"hassle\",\"vanilla_ice_cream\",\"tower\",\"entertain\",\"prep\",\"dare\",\"gripe\",\"boat\",\"crumble\",\"vermicelli\",\"e\",\"doughnut\",\"chicken_parm\",\"san_diego\",\"crouton\",\"dance_floor\",\"afford\",\"nail\",\"unable\",\"million\",\"macaroon\",\"accurate\",\"wander\",\"category\",\"message\",\"san\",\"sriracha\",\"five_guy\",\"firm\",\"discuss\",\"schedule\",\"sweat\",\"cheesecake_factory\",\"closing\",\"tater_tot\",\"america\",\"exquisite\",\"reputation\",\"flat_bread\",\"marinara_sauce\",\"tempt\",\"stretch\",\"exotic\",\"tortilla_chip\",\"most_importantly\",\"plat\",\"resemble\",\"interest\",\"al_dente\",\"chips\",\"hunger\",\"opposite\",\"kung_pao\",\"toilet\",\"panera\",\"bargain\",\"rub\",\"bucket\",\"beet_salad\",\"separately\",\"sticky_rice\",\"pot_pie\",\"kebab\",\"few_week_ago\",\"rose\",\"clothe\",\"caramelized_onion\",\"dive_bar\",\"array\",\"save_room\",\"flower\",\"silly\",\"upbeat\",\"specialize\",\"mole\",\"zero_star\",\"understandable\",\"hooked\",\"al_pastor\",\"sandwhich\",\"accent\",\"escargot\",\"unexpected\",\"resturant\",\"error\",\"ale\",\"wedge\",\"kfc\",\"sizzling\",\"uber\",\"rise\",\"tradition\",\"grocery\",\"stingy\",\"bold\",\"gold\",\"gracious\",\"airy\",\"frite\",\"adventure\",\"fear\",\"chunky\",\"pleasant_surprise\",\"sorbet\",\"panda_express\",\"cheerful\",\"thoroughly\",\"passion\",\"dim\",\"hunt\",\"element\",\"risk\",\"kink\",\"contrast\",\"flip\",\"waren\",\"theater\",\"4th\",\"duty\",\"vip\",\"intend\",\"conclusion\",\"don't\",\"vs\",\"yep\",\"eye_contact\",\"grain\",\"apply\",\"sexy\",\"definite\",\"hookah\",\"okra\",\"mug\",\"matt\",\"4.5_star\",\"rain\",\"schnitzel\",\"animal\",\"equal\",\"facility\",\"lemongrass\",\"darn\",\"b_c\",\"wide_selection\",\"slip\",\"bibimbap\",\"sloppy\",\"cashew\",\"track\",\"kobe\",\"forth\",\"trek\",\"drag\",\"mississauga\",\"grade\",\"-the\",\"execution\",\"authenticity\",\"badly\",\"wake_up\",\"fig\",\"tooth\",\"gamble\",\"saucy\",\"colorful\",\"mind_blow\",\"kindly\",\"tune\",\"seaweed_salad\",\"balsamic\",\"summerlin\",\"free_wifi\",\"earl\",\"cat\",\"oder\",\"noch\",\"western\",\"17\",\"sink\",\"mongolian_beef\",\"thank_goodness\",\"joy\",\"defiantly\",\"cafeteria\",\"matcha\",\"cider\",\"outrageous\",\"beach\",\"tie\",\"butt\",\"sigh\",\"cone\",\"mr.\",\"swing\",\"rotate\",\"taiwanese\",\"unbelievably\",\"ahi\",\"rank\",\"celebration\",\"mmm\",\"border\",\"11_a.m.\",\"upon_enter\",\"gorgonzola\",\"mocha\",\"=)\",\"wonton_soup\",\"maple_syrup\",\"remodel\",\"arrival\",\"replacement\",\"keg\",\"chimichanga\",\"garlic_naan\",\"thrill\",\"biryani\",\"toddler\",\"anybody\",\"$_2.50\",\"gta\",\"maki\",\"rudely\",\"bay\",\"san_francisco\",\"paste\",\"norm\",\"variation\",\"eggs_benedict\",\"noise_level\",\"luke_warm\",\"lentil\",\"wicked_spoon\",\"high_school\",\"pairing\",\"sketchy\",\"carrot_cake\",\"inattentive\",\"appealing\",\"witness\",\"approximately\",\"wonder_why\",\"low_key\",\"soft_shell_crab\",\"cab\",\"superior\",\"runner\",\"additionally\",\"dust\",\"truth\",\"hush_puppy\",\"patience\",\"speedy\",\"i'm\",\"ultimate\",\"fuck\",\"sunset\",\"drip\",\"chile\",\"lousy\",\"swim\",\"rave_review\",\"duck_confit\",\"i.\",\"football\",\"exit\",\"ultimately\",\"adjust\",\"lock\",\"shade\",\"bread_basket\",\"supposedly\",\"young_man\",\"rip\",\"cube\",\"gratuity\",\"proud\",\"auf\",\"native\",\"kobe_beef\",\"first_timer\",\"celery\",\":d\",\"paradise\",\"ipad\",\"absolute_favorite\",\"kale_salad\",\"incorrect\",\"access\",\"bao\",\"no_frill\",\"lineup\",\"los_angeles\",\"til\",\"social\",\"embarrassed\",\"upon_arrival\",\"prix_fixe\",\"mmmm\",\"operation\",\"grape\",\"reasonably\",\"peak\",\"p.s.\",\"picky_eater\",\"nose\",\"etwas\",\"gift\",\"breadstick\",\"somebody\",\"sind\",\"attract\",\"branch\",\"pico_de_gallo\",\"import\",\"lower\",\"hoagie\",\"underneath\",\"drool\",\"conference\",\"outlet\",\"open_24_hour\",\"que\",\"eggs\",\"wooden\",\"busser\",\"difference_between\",\"holy\",\"sunny\",\"f\\u00fcr\",\"chopstick\",\"hardly_any\",\"rio\",\"pretend\",\"fruity\",\"fourth\",\"sundae\",\"crush\",\"depth\",\"tostada\",\"cinnamon_roll\",\"queen\",\"sat\",\"self_serve\",\"record\",\"fellow\",\"scallion\",\"yellow_curry\",\"assorted\",\"fuss\",\"sage\",\"bird\",\"cosmo\",\"dang\",\"guide\",\"spirit\",\"blacken\",\"enthusiastic\",\"sheet\",\"wendy_'s\",\"naturally\",\"trout\",\"limp\",\"industrial\",\"praise\",\"planet_hollywood\",\"cash_register\",\"escape\",\"corned_beef_hash\",\"voucher\",\"breath\",\"metal\",\"stool\",\"saturday_evening\",\"sprout\",\"distance\",\"warrant\",\"ounce\",\"prop\",\"5-star\",\"relative\",\"down_hill\",\"lettuce_tomato\",\"mission\",\"disaster\",\"tuesdays\",\"connoisseur\",\"reminiscent\",\"beg\",\"nervous\",\"lucky_enough\",\"$_22\",\"flour_tortilla\",\"measure\",\"account\",\"stress\",\"property\",\"dipping\",\"creme_br\\u00fbl\\u00e9e\",\"dragon\",\"ethiopian\",\"tex_mex\",\"store_buy\",\"10/10\",\"smoking\",\"sweet_tooth\",\"shoe\",\"weight\",\"confusion\",\"pathetic\",\"ha\",\"tuck\",\"successful\",\"campus\",\"canned\",\"cardboard\",\"persian\",\"crab_rangoon\",\"allergic\",\"public\",\"chicken_tikka_masala\",\"savoury\",\"thrilled\",\"hood\",\"room_temperature\",\"ability\",\"$_1.50\",\"bake_bean\",\"basement\",\"freakin\",\"decade\",\"tavern\",\"engage\",\"annoy\",\"following\",\"connect\",\"teach\",\"payment\",\"glove\",\"weeknight\",\"aunt\",\"effect\",\"compete\",\"cosmopolitan\",\"dosa\",\"ur\",\"research\",\"obnoxious\",\"mayonnaise\",\"ear\",\"chilly\",\"souvlaki\",\"overrated\",\"brick\",\"salami\",\"dice\",\"supply\",\"english_muffin\",\"assist\",\"addictive\",\"boston\",\"revisit\",\"goat\",\"family_member\",\"\\u00a3\",\"interact\",\"enhance\",\"gin\",\"potsticker\",\"wind\",\"tony\",\"survive\",\"oatmeal\",\"f\",\"savor\",\"penne\",\"hashbrown\",\"mashed_potato\",\"extraordinary\",\"feedback\",\"seemingly\",\"entry\",\"bday\",\"mahi_mahi\",\"chick\",\"wir\",\"french_dip\",\"hall\",\"snap\",\"gesture\",\"mister\",\"surf\",\"reliable\",\"habit\",\"circle\",\"bouncer\",\"michael\",\"university\",\"fold\",\"narrow\",\"perfectly_seasoned\",\"phx\",\"caviar\",\"vintage\",\"timely\",\"slab\",\"arepa\",\"poach_egg\",\"boneless\",\"wisconsin\",\"id\",\"thank_god\",\"source\",\"comforting\",\"zum\",\"cow\",\"summary\",\"brilliant\",\"hollandaise_sauce\",\"computer\",\"braise\",\"burrata\",\"dining_companion\",\"mal\",\"peel\",\"edit\",\"fillet\",\"renovation\",\"von\",\"tasteful\",\"shoulder\",\"promotion\",\"spell\",\"accidentally\",\"addict\",\"provolone\",\"roughly\",\"oh_my\",\"ranch_dressing\",\"award\",\"radish\",\"hier\",\"idiot\",\"delighted\",\"relate\",\"enchiladas\",\"overbearing\",\"substitution\",\"teppanyaki\",\"filler\",\"deck\",\"bottomless\",\"brand_new\",\"proportion\",\"india\",\"contemporary\",\"brioche\",\"frustrated\",\"frank\",\"35\",\"sauteed\",\"shut\",\"rainbow\",\"portions\",\"grand_opening\",\"tao\",\"reality\",\"department\",\"cobb_salad\",\"rave\",\"linger\",\"crusty\",\"valentine_'s_day\",\"significant\",\"mandalay_bay\",\"black_pepper\",\"bell_pepper\",\"shower\",\"button\",\"waffles\",\"bloody\",\"ah\",\"sommelier\",\"nicely_decorate\",\"crumb\",\"innovative\",\"freezer\",\"garlicky\",\"bouchon\",\"substantial\",\"relish\",\"hilarious\",\"breast\",\"omakase\",\"component\",\"insult\",\"truffle_oil\",\"hazelnut\",\"automatically\",\"unassuming\",\"commercial\",\"supreme\",\"horrendous\",\"gluten\",\"est\",\"minor\",\"distinct\",\"35_minute\",\"costco\",\"$_3.50\",\"asap\",\"spiced\",\"fireplace\",\"cheat\",\"du\",\"ac\",\"tacky\",\"shitty\",\"caper\",\"rent\",\"dave\",\"shake_shack\",\"caprese\",\"pot_sticker\",\"associate\",\"0\",\"stumble\",\"grandmother\",\"supermarket\",\"gather\",\"specially\",\"july\",\"unsure\",\"google\",\"scrap\",\"coconut_milk\",\"mousse\",\"manhattan\",\"devil_egg\",\"gas_station\",\"intense\",\"admittedly\",\"au\",\"network\",\"flavoring\",\"festival\",\"obsess\",\"rabbit\",\"friday_evening\",\"cap\",\"mama\",\"understanding\",\"liver\",\"remake\",\"miserable\",\"triple\",\"dairy\",\"steamed\",\"addicting\",\"tastebud\",\"chase\",\"situate\",\"roof\",\"jambalaya\",\"sourdough\",\"jason\",\"irritated\",\"block_away\",\"bummed\",\"adore\",\"bell\",\"thirsty\",\"master\",\"aus\",\"represent\",\"practice\",\"turf\",\"stuffy\",\"heavily\",\"thumb\",\"atop\",\"das_essen\",\"brussels_sprout\",\"rotation\",\"chive\",\"magical\",\"icing\",\"randomly\",\"mixed_green\",\"flame\",\"hallway\",\"gordon_ramsay\",\"yonge\",\"marshmallow\",\"caribbean\",\"complementary\",\"exchange\",\"creativity\",\"1/4\",\"reduce\",\"no_clue\",\"banchan\",\"taro\",\"hollandaise\",\"notch\",\"tvs\",\"conveniently_locate\",\"slap\",\"beignet\",\"shortly\",\"linguine\",\"l\",\"epic\",\"thigh\",\"ohio\",\"unimpressed\",\"accompaniment\",\"bubble\",\"distract\",\"6:30\",\"hmmm\",\"bolognese\",\"presence\",\"gm\",\"forgettable\",\"mush\",\"yea\",\"outback\",\"scarborough\",\"reward\",\"handmade\",\"save_grace\",\"hidden\",\"munch\",\"trend\",\"root\",\"treatment\",\"st\",\"spotty\",\"wine_pairing\",\"powder\",\"baja\",\"new_york_style\",\"sam\",\"bustle\",\"grind\",\"peruse\",\"retro\",\"tom\",\"glance\",\"dressed\",\"hefty\",\"mais\",\"near_future\",\"belong\",\"occasional\",\"vast\",\"stuffing\",\"hustle\",\"loose\",\"inventive\",\"packet\",\"extreme\",\"caprese_salad\",\"guinness\",\"downtown_phoenix\",\"rye\",\"thailand\",\"television\",\"wood_fire\",\"nur\",\"village\",\"speak_english\",\"remarkable\",\"temp\",\"sauerkraut\",\"r\",\"carpaccio\",\"x\",\"fryer\",\"hmm\",\"gym\",\"viet\",\"versus\",\"0_star\",\"lesson\",\"jazz\",\"organize\",\"collard_green\",\"overhear\",\"compensate\",\"sparse\",\"moderately\",\"fucking\",\"wagyu\",\"yam\",\"sophisticated\",\"ease\",\"nick\",\"wok\",\"fond\",\"vote\",\"dill\",\"heat_lamp\",\"shack\",\"4.5\",\"wedge_salad\",\"sever\",\"nightmare\",\"strongly_recommend\",\"ugly\",\"few_month_ago\",\"brazilian\",\"peruvian\",\"$_45\",\"palace\",\"15_20_minute\",\"bike\",\"yard\",\"margherita_pizza\",\"root_beer\",\"death\",\"bravo\",\"interrupt\",\"ownership\",\"coma\",\"24\",\"deny\",\"carnivore\",\"fall_short\",\"david\",\"friendliness\",\"snag\",\"prevent\",\"tail\",\"speaker\",\"private_room\",\"chickpea\",\"european\",\"district\",\"summerlicious\",\"interaction\",\"fairly_quickly\",\"alle\",\"dumb\",\"$_5.99\",\"nature\",\":p\",\"west_coast\",\"ethnic\",\"yup\",\"disgusted\",\"thinly_slice\",\"creme\",\"stroll\",\"passable\",\"internet\",\"frosting\",\"lotus\",\"bei\",\"poke_bowl\",\"towel\",\"primarily\",\"signage\",\"rival\",\"metro\",\"panang_curry\",\"france\",\"regular_basis\",\"cent\",\"painting\",\"sitting\",\"palette\",\"urban\",\"eggroll\",\"disorganized\",\"manger\",\"pico\",\"dem\",\"smoker\",\"lb\",\"competitor\",\"7:30\",\"observe\",\"dancing\",\"clue\",\"oddly\",\"foam\",\"piss\",\"monster\",\"carne_asada_burrito\",\"desk\",\"questionable\",\"bust\",\"most_recent_visit\",\"secondly\",\"soooooo\",\"apple_pie\",\"saturdays\",\"new_orleans\",\"unreal\",\"alcoholic\",\"sehr\",\"sea_salt\",\"portuguese\",\"er\",\"shredded\",\"takoyaki\",\"chutney\",\"pinch\",\"repeatedly\",\"dimly_light\",\"degree\",\"hash_house\",\"izakaya\",\"barbeque\",\"mochi\",\"hike\",\"mile_away\",\"horribly\",\"dear\",\"alley\",\"priority\",\"tilapia\",\"instant\",\"info\",\"debate\",\"pushy\",\"well_balanced\",\"stall\",\"yum_yum\",\"shall\",\"differently\",\"shelf\",\"equivalent\",\"tzatziki\",\"king_crab\",\"excitement\",\"bacchanal\",\"drinker\",\"specify\",\"communicate\",\"instance\",\"boast\",\"lola\",\"nach\",\"tartar_sauce\",\"underwhelmed\",\"peking_duck\",\"laptop\",\"scared\",\"vs.\",\"non_existent\",\"purple\",\"hospital\",\"naked\",\"chile_relleno\",\"diamond\",\"convert\",\"uh\",\"1/3\",\"outing\",\"long_story_short\",\"plane\",\"language\",\"red_velvet\",\"$_19\",\"fixing\",\"idk\",\"solo\",\"mondays\",\"barbacoa\",\"thoughtful\",\"$_9.99\",\"sugary\",\"intrigue\",\"alex\",\"bookmark\",\"2.5_star\",\"caesars\",\"maker\",\"habanero\",\"slimy\",\"cob\",\"incident\",\"constant\",\"planet\",\"visible\",\"forgive\",\"vibrant\",\"papaya_salad\",\"pita_jungle\",\"granola\",\"nightclub\",\"resident\",\"bat\",\"$_200\",\"$_6.99\",\"cleaning\",\"thankful\",\"justice\",\"esp\",\"asian_fusion\",\"pomegranate\",\"lee\",\"grateful\",\"quirky\",\"carefully\",\"butcher\",\"$_7.99\",\"carbonara\",\"huh\",\"drunken\",\"diet_coke\",\"oj\",\"thousand\",\"stranger\",\"outdoors\",\"significantly\",\"bleu_cheese\",\"verdict\",\"flash\",\"energetic\",\"euro\",\"marinade\",\"drunken_noodle\",\"spare\",\"influence\",\"ad\",\"applebee_'s\",\"mandarin\",\"don\",\"humor\",\"excite\",\"11:30\",\"t_shirt\",\"sober\",\"pate\",\"brews\",\"anchovy\",\"lentil_soup\",\"trivium\",\"neck\",\"surrounding\",\"pissed\",\"coating\",\"overwhelm\",\"breeze\",\"deluxe\",\"pump\",\"quit\",\"chicago_style\",\"rolls\",\"decently\",\"leek\",\"niece\",\"pleasing\",\"g\",\"$_24\",\"genius\",\"cooler\",\"scary\",\"artwork\",\"cantonese\",\"saltiness\",\"chai\",\"performance\",\"charcuterie\",\"paneer\",\"facebook\",\"patronize\",\"shady\",\"2/5\",\"brat\",\"stare\",\"2.5\",\"heater\",\"golf\",\"organized\",\"iceberg_lettuce\",\"teenager\",\"urge\",\"bahn_mi\",\"video\",\"faf\",\"hospitable\",\"flamingo\",\"strictly\",\"atm\",\"jean\",\"flair\",\"sammy\",\"bento\",\"unpretentious\",\"loss\",\"pas\",\"blood\",\"45\",\"criticism\",\"activity\",\"philly_cheesesteak\",\"sicilian\",\"hakka\",\"22\",\"lip\",\"adjacent\",\"apartment\",\"bus_boy\",\"11_p.m.\",\"thinking\",\"szechuan\",\"biased\",\"tartar\",\"stout\",\"splitting\",\"beauty\",\"kbbq\",\"winterlicious\",\"stunning\",\"mystery\",\"exact_same\",\"desperate\",\"moderate\",\"overcharge\",\"tripe\",\"nobu\",\"blonde\",\"5:30\",\"satisfaction\",\"palazzo\",\"personal_preference\",\"abundance\",\"k\",\"status\",\"sand\",\"suddenly\",\"unappetizing\",\"red_robin\",\"dann\",\"ie\",\"notify\",\"75\",\"pad\",\"uniform\",\"port\",\"appropriately\",\"terrace\",\"stiff\",\"highly_suggest\",\"hong_kong\",\"shin\",\"pad_see_ew\",\"ghetto\",\"parsley\",\"chart\",\"pupusa\",\"bore\",\"tartare\",\"marry\",\"margherita\",\"sneak\",\"dime\",\"lid\",\"general_tso_'s\",\"general_manager\",\"chocolate_mousse\",\"dort\",\"capacity\",\"uncle\",\"rigatoni\",\"live_band\",\"route\",\"brush\",\"irish_pub\",\"hamachi\",\"skirt_steak\",\"explosion\",\"swiss\",\"stuttgart\",\"bitch\",\"bizarre\",\"factory\",\"hover\",\"shave\",\"patiently\",\"chowder\",\"pot_roast\",\"brain\",\"pancetta\",\"region\",\"puff\",\"shove\",\"supper\",\"sharing\",\"food-\",\"countless\",\"seattle\",\"altogether\",\"substance\",\"fridays\",\"reference\",\"cutlery\",\"hungover\",\"gambling\",\"masala\",\"fashion\",\"bored\",\"officially\",\"mirage\",\"pant\",\"40_min\",\"richness\",\"boo\",\"oreo\",\"saut\\u00e9ed\",\"midwest\",\"speciality\",\"ocean\",\"lox\",\"deter\",\"generously\",\"pregnant\",\"$_28\",\"jamaican\",\"burro\",\"must_admit\",\"eve\",\"penny\",\"dingy\",\"intention\",\"grimaldi_'s\",\"buffalo_wing\",\"snow\",\"fennel\",\"pan_roast\",\"succeed\",\"neglect\",\"palm\",\"roberto_'s\",\"harsh\",\"collection\",\"construction\",\"looking\",\"yo\",\"frame\",\"brooklyn\",\"lacking\",\"wird\",\"mozzarella_stick\",\"gyros\",\"junk\",\"pierogie\",\"mmmmm\",\"occur\",\"tricky\",\"eastern\",\"high_ceiling\",\"shy\",\"plant\",\"resolve\",\"pleasantly\",\"shut_down\",\"halfway_through\",\"gas\",\"bacon_cheeseburger\",\"j\",\"ooze\",\"mass\",\"perform\",\"decently_price\",\"loudly\",\"asada\",\"overflow\",\"sonic\",\"unnecessary\",\"americanized\",\"impatient\",\"foie_gras\",\"alongside\",\"boneless_wing\",\"clueless\",\"george\",\"wurde\",\"atrocious\",\"ny_strip\",\"bellagio_fountain\",\"mound\",\"peppercorn\",\"umami\",\"affect\",\"ne\",\"poster\",\"raisin\",\"douse\",\"march\",\"surface\",\"pit\",\"hooter\",\"purse\",\"$_4.50\",\"mr\",\"courtesy\",\"bedienung\",\"hometown\",\"overload\",\"steer\",\"swallow\",\"develop\",\"lychee\",\"childhood\",\"human\",\"heap\",\"carolina\",\"puree\",\"mellow\",\"asia\",\"jumbo\",\"busboy\",\"mirror\",\"length\",\"au_jus\",\"haben\",\"8:30\",\"formal\",\"3.5/5\",\"unagi\",\"sidewalk\",\"reaction\",\"slot\",\"$_26\",\"cell_phone\",\"engaging\",\"arrange\",\"unhealthy\",\"perk\",\"comfortably\",\"plump\",\"fluke\",\"behavior\",\"prob\",\"garage\",\"renovate\",\"fulfil\",\"creepy\",\"bisque\",\"pork_tenderloin\",\"weigh\",\"dull\",\"karaage\",\"tenderloin\",\"sock_off\",\"tapas_style\",\"turkish\",\"pillow\",\"cowboy\",\"linguini\",\"honey_mustard\",\"sufficient\",\"vendor\",\"chick_fil\",\"tom_yum_soup\",\"river\",\"race\",\"latin\",\"pei_wei\",\"transport\",\"sin_city\",\"position\",\"bottomless_mimosa\",\"explode\",\"fab\",\"entr\\u00e9es\",\"grapefruit\",\"by_accident\",\"sahara\",\"pakora\",\"steve\",\"sf\",\"forgot\",\"collect\",\"roommate\",\"lakewood\",\"taquito\",\"jacket\",\"greatly\",\"excessive\",\"chalkboard\",\"shrug\",\"splash\",\"kiss\",\"gibt\",\"novelty\",\"loyal_customer\",\"doctor\",\"behold\",\"benny\",\"alive\",\"el\",\"potatoes\",\"disagree\",\"tamarind\",\"image\",\"plethora\",\"queue\",\"journey\",\"wilt\",\"sharp\",\"blind\",\"tokyo\",\"digress\",\"satisfactory\",\"complicated\",\"braise_beef\",\"seal\",\"colour\",\"east_valley\",\"stringy\",\"carpet\",\"peep\",\"dirt\",\"chicken_marsala\",\"beat_path\",\"trade\",\"sesame_seed\",\"yolk\",\"margaritas\",\"browse\",\"apparent\",\"beautifully_present\",\"deceive\",\"reception\",\"football_game\",\"mail\",\"glorious\",\"most_recent\",\"wheel\",\"forward\",\"bro\",\"gain\",\"pressure\",\"key_lime_pie\",\"include_tax\",\"overly_salty\",\"adobo\",\"americano\",\"partake\",\"tendon\",\"morsel\",\"halal\",\"romaine\",\"tuna_tartare\",\"panna_cotta\",\"lamb_shank\",\"phone_number\",\"buttermilk\",\"asu\",\"lebanese\",\"grumpy\",\"privacy\",\"tremendous\",\"thai_basil\",\"caliber\",\"humble\",\"suffice\",\"condition\",\"embarrassing\",\"b.\",\"c'mon\",\"mason_jar\",\"glendale\",\"slather\",\"2016\",\"p\",\"swap\",\"melon\",\"partially\",\"watch_sport\",\"nephew\",\"9:30\",\"bay_area\",\"toro\",\"peace\",\"towner\",\"dynamite\",\"chili_oil\",\"yard_house\",\"stain\",\"perspective\",\"$_7.50\",\"underwhelm\",\"rubber\",\"mask\",\"ashamed\",\"2015\",\"player\",\"$_4.99\",\"rotten\",\"e.g.\",\"balanced\",\"nestle\",\"tonkatsu\",\"refri_bean\",\"z\",\"bison\",\"une\",\"poached_egg\",\"link\",\"togo\",\"old_fashion\",\"communication\",\"soap\",\"statement\",\"mince\",\"$_8.99\",\"sampling\",\"locally\",\"extend\",\"tub\",\"einen\",\"expire\",\"caution\",\"salt_caramel\",\"cram\",\"twenty_minute\",\"live_closer\",\"fellow_yelper\",\"dimsum\",\"tempting\",\"duh\",\"august\",\"brian\",\"grill_octopus\",\"tri_tip\",\"spoiled\",\"drain\",\"rant\",\"firefly\",\"navigate\",\"pollo\",\"carafe\",\"gathering\",\"beef_wellington\",\"honesty\",\"rotisserie_chicken\",\"channel\",\"favs\",\"board_game\",\"moscow_mule\",\"thai_iced_tea\",\"champaign\",\"poach\",\"owe\",\"wild_mushroom\",\"within_walking_distance\",\"kann\",\"\\u00e9tait\",\"quest\",\"artist\",\"tropical\",\"magnificent\",\"spotless\",\"stamp\",\"pepsi\",\"unremarkable\",\"danforth\",\"carne\",\"yuzu\",\"title\",\"invest\",\"courtyard\",\"inhale\",\"burgers\",\"fettuccine\",\"king_crab_leg\",\"10:30\",\"mildly\",\"intimidate\",\"ryan\",\"convention\",\"cane\",\"pet_peeve\",\"swiss_cheese\",\"johnny\",\"solely\",\"shrimp_scampi\",\"immediate\",\"buttered\",\"porterhouse\",\"disclaimer\",\"plating\",\"cosy\",\"choke\",\"yikes\",\"ex\",\"sun_dry_tomato\",\"giada\",\"werden\",\"preserve\",\"panang\",\"spam\",\"estimate\",\"worthwhile\",\"function\",\"stylish\",\"centre\",\"bubbly\",\"immer\",\"preface\",\"kevin\",\"hotpot\",\"nibble\",\"determine\",\"pronounce\",\"3/4\",\"smashburger\",\"tahini\",\"limited_seating\",\"dangerous\",\"stromboli\",\"vom\",\"map\",\"april\",\"locally_own\",\"shine\",\"promote\",\"northern\",\"british\",\"rely\",\"target\",\"8_oz\",\"competent\",\"copy\",\"texas_toast\",\"pierogi\",\"crawl\",\"alert\",\"premise\",\"crab_puff\",\"stink\",\"fritter\",\"umbrella\",\"peppery\",\"chandelier\",\"einem\",\"couscous\",\"plum\",\"good-\",\"chalk\",\"town_square\",\"accessible\",\"waiting_area\",\"gave\",\"turnover\",\"brag_about\",\"disrespectful\",\"chilled\",\"tomato_basil\",\"swordfish\",\"frustration\",\"abundant\",\"balcony\",\"tapioca\",\"shredded_beef\",\"sorta\",\"jalepeno\",\"artichoke_dip\",\"cesar_salad\",\"carve\",\"postino\",\"s'more\",\"accordingly\",\"ultra\",\"firstly\",\"nc\",\"19\",\"$_23\",\"nerve\",\"dash\",\"escort\",\"artisan\",\"nod\",\"film\",\"eric\",\"$_6.50\",\"sliver\",\"boom\",\"cotton_candy\",\"encore\",\"lane\",\"dollop\",\"rob\",\"aesthetic\",\"petite\",\"add_bonus\",\"expansive\",\"modest\",\"monta\",\"30min\",\"merely\",\"restaurants\",\"ginormous\",\"angel\",\"southwestern\",\"gate\",\"refresh\",\"program\",\"interior_design\",\"cream_spinach\",\"bun_bo_hue\",\"spinach_dip\",\"whole_wheat\",\"25_min\",\"steak_frite\",\"black_cod\",\"salivate\",\"debit\",\"treasure\",\"croquette\",\"descent\",\"uninspired\",\"elevate\",\"cuban_sandwich\",\"best_tasting\",\"tout\",\"2014\",\"oregano\",\"professionalism\",\"steam_bun\",\"bum\",\"almond_milk\",\"sp\",\"short_staffed\",\"takeaway\",\"schon\",\"tortellini\",\"swanky\",\"shave_ice\",\"default\",\"rachel\",\"flawless\",\"confident\",\"tom_yum\",\"portobello\",\"paul\",\"bar_stool\",\"mary\",\"deduct\",\"grace\",\"sensitive\",\"anthony\",\"mgm_grand\",\"echo\",\"munchie\",\"spa\",\"someplace\",\"bon\",\"crostini\",\"flank_steak\",\"tang\",\"identify\",\"wrapper\",\"december\",\"new_york_strip\",\"costumer\",\"individually\",\"amuse_bouche\",\"pet\",\"role\",\"open_24/7\",\"shwarma\",\"housemade\",\"scotch\",\"moon\",\"critical\",\"russian\",\"fremont\",\"no_biggie\",\"rowdy\",\"chimichurri\",\"brief\",\"celebrity\",\"first_glance\",\"menudo\",\"walk_distance\",\"aged\",\"flavor_profile\",\"$_27\",\"accommodating\",\"goal\",\"offend\",\"delivery_driver\",\"qui\",\"june\",\"debit_card\",\"thickness\",\"wow_factor\",\"chaotic\",\"gift_certificate\",\"c'est\",\"passion_fruit\",\"wirklich\",\"experienced\",\"notable\",\"prepp\",\"dissapoint\",\"halfway\",\"2013\",\"bobby\",\"january\",\"blackberry\",\"bin\",\"dc\",\"verde\",\"episode\",\"acai_bowl\",\"soupy\",\"earthy\",\"sir\",\"oysters\",\"1.5\",\"solution\",\"james\",\"greasy_spoon\",\"ship\",\"thus_far\",\"lobster_ravioli\",\"warmth\",\"mate\",\"approve\",\"aromatic\",\"unsatisfied\",\"only_downfall\",\"senior\",\"headache\",\"pal\",\"po_boy\",\"oakland\",\"aforementioned\",\"shellfish\",\"$_5.50\",\"wide_range\",\"hero\",\"toy\",\"clever\",\"sublime\",\"accident\",\"chilean_sea_bass\",\"bs\",\"1.5_hour\",\"fragrant\",\"kiddo\",\"more_importantly\",\"esque\",\"snow_crab\",\"banana_pudding\",\"smoked\",\"$_5.00\",\"dock\",\"birthday_celebration\",\"15min\",\"cherry_tomato\",\"dim_lighting\",\"asian_cuisine\",\"hectic\",\"sens\",\"oregano_'s\",\"beef_tongue\",\"borderline\",\"intrusive\",\"strangely\",\"atleast\",\"downright\",\"focaccia\",\"stir\",\"magazine\",\"approx\",\"await\",\"recent_trip\",\"gristle\",\"siam\",\"panda\",\"loco_moco\",\"alike\",\"das_ambiente\",\"lap\",\"goodbye\",\"college_student\",\"6_pm\",\"sweeten\",\"reopen\",\"spare_rib\",\"$_150\",\"backyard\",\"charcoal\",\"cold_brew\",\"usa\",\"cafe_rio\",\"suite\",\"$_3.99\",\"only_drawback\",\"fremont_street\",\"theatre\",\"med\",\"mango_lassi\",\"unorganized\",\"bok_choy\",\"ou\",\"assemble\",\"i've\",\"touristy\",\"indifferent\",\"assign\",\"peaceful\",\"30_+\",\"perch\",\"$_75\",\"faux\",\"monthly\",\"remark\",\"de_la\",\"hip_hop\",\"beef_carpaccio\",\"sticky_toffee_pudding\",\"salads\",\"7_pm\",\"absorb\",\"iced_coffee\",\"definition\",\"parm\",\"rooftop\",\"dick\",\"bob\",\"proximity\",\"louisiana\",\"partial\",\"kids\",\"p.s\",\"passionate_about\",\"refrigerator\",\"sunny_side\",\"downtown_toronto\",\"air_conditioning\",\"enthusiasm\",\"parfait\",\"24/7\",\"quail\",\"unimpressive\",\"butternut_squash\",\"101\",\"incompetent\",\"souffle\",\"dunno\",\"hella\",\"horse\",\"affair\",\"chuck\",\"mop\",\"north_scottsdale\",\"wipe_down\",\"sapporo\",\"europe\",\"banana_cream\",\"whilst\",\"corn_dog\",\"infamous\",\"50_cent\",\"horrid\",\"rim\",\"experiment\",\"tourist_trap\",\"grey\",\"laden\",\"ikea\",\"umm\",\"fast_forward\",\"someday\",\"heartbeat\",\"pile_high\",\"dry_rub\",\"duck_breast\",\"bloor\",\"aloha\",\"acidic\",\"institution\",\"burgh\",\"florida\",\"technically\",\"wander_around\",\"happiness\",\"casserole\",\"nonsense\",\"ashley\",\"blue_moon\",\"ma\",\"haddock\",\"popularity\",\"afterward\",\"marble\",\"ra\",\"aim\",\"low_rating\",\"blaze\",\"converse\",\"scenery\",\"rainbow_roll\",\"caramelized\",\"lend\",\"cafeteria_style\",\"fifteen_minute\",\"competitive\",\"oasis\",\"maki_roll\",\"meatball_sub\",\"valet_parking\",\"ray\",\"nostalgic\",\"bind\",\"garlic_mash_potato\",\"destroy\",\"servers\",\"tzatziki_sauce\",\"brick_oven\",\"acoustic\",\"picnic_table\",\"international\",\"ness\",\"milk_shake\",\"dragon_roll\",\"dress_code\",\"lift\",\"gordon_ramsey\",\"china_town\",\"accomodating\",\"toasty\",\"clock\",\"brave\",\"ripe\",\"noticeable\",\"storm\",\"compromise\",\"bowling\",\"critique\",\"marg\",\"indian_cuisine\",\"october\",\"arrangement\",\"utterly\",\"beef_stew\",\"awesomeness\",\"brim\",\"artificial\",\"playing\",\"thursdays\",\"exaggerate\",\"simplicity\",\"raw_oyster\",\"95\",\"$_8.50\",\"bye\",\"clarify\",\"hunk\",\"lemon_pepper\",\"newbie\",\"nutty\",\"nowhere_near\",\"ben\",\"jeff\",\"5th\",\"avec\",\"dissatisfied\",\"plastic_cup\",\"soda_machine\",\"orient\",\"spring_rolls\",\"suitable\",\"overrate\",\"avacado\",\"black_olive\",\"pancakes\",\"chardonnay\",\"mon\",\"bleh\",\"n_juicy\",\"brown_sugar\",\"similarly\",\"scallops\",\"spoonful\",\"instagram\",\"evident\",\"2017\",\"slack\",\"robust\",\"lo\",\"filter\",\"arcade\",\"10min\",\"q\",\"prize\",\"pinot_noir\",\"pork_shoulder\",\"iron\",\"bachelorette_party\",\"unbeatable\",\"bath\",\"task\",\"houston\",\"string\",\"amy\",\"royal\",\"fox\",\"wth\",\"scott\",\"instruction\",\"fiancee\",\"apricot\",\"red_velvet_pancake\",\"newspaper\",\"tow\",\"november\",\"chow_down\",\"vomit\",\"jimmy\",\"anxious\",\"virtually\",\"responsive\",\"fanatic\",\"difficulty\",\"helping\",\"refried_bean\",\"imho\",\"powdered_sugar\",\"stumble_across\",\"pat\",\"hanger_steak\",\"seed\",\"awkwardly\",\"snobby\",\"heirloom_tomato\",\"incorrectly\",\"pastor\",\"antipasto\",\"singer\",\"chilaquile\",\"joey\",\"appetizers\",\"2012\",\"transaction\",\"path\",\"20min\",\"heated\",\"model\",\"paper_towel\",\"elbow\",\"saffron\",\"harvest\",\"marinated\",\"logo\",\"hill\",\"bien\",\"2x\",\"teen\",\"popeyes\",\"egg_benny\",\"socialize\",\"16_oz\",\"sweetheart\",\"90_minute\",\"terminal\",\"adorn\",\"wee\",\"appointment\",\"throat\",\"lord\",\"dripping\",\"west_valley\",\"bonus_point\",\"condense_milk\",\"yorkville\",\"habe\",\"entre\",\"diablo\",\"steer_clear\",\"mule\",\"delicacy\",\"remotely\",\"lengthy\",\"essence\",\"smh\",\"tolerate\",\"letter\",\"carving_station\",\"lure\",\"handy\",\"national\",\"muscle\",\"mural\",\"hr\",\"huevo_ranchero\",\"announce\",\"lime_juice\",\"amber\",\"method\",\"lifetime\",\"sweep\",\"ruben\",\"korea\",\"meaning\",\"lemony\",\"divey\",\"lamp\",\"kimchee\",\"establish\",\"arrogant\",\"mere\",\"99\",\"vanilla_bean\",\"verify\",\"soju\",\"respectful\",\"sardine\",\"friday_afternoon\",\"brio\",\"silver\",\"cracker_barrel\",\"miami\",\"pros\",\"oh_my_god\",\"surpass\",\"kim\",\"definetly\",\"starch\",\"dan\",\"bass\",\"commit\",\"roomy\",\"peach_cobbler\",\"sie\",\"hankering\",\"tucson\",\"pine_nut\",\"fuel\",\"height\",\"disgust\",\"cumin\",\"act_together\",\"enjoyment\",\"fire_pit\",\"curd\",\"iced\",\"udon_noodle\",\"vancouver\",\"$_7.95\",\"dietary_restriction\",\"fam\",\"salsa_verde\",\"flare\",\"$_8.95\",\"addicted\",\"expense\",\"gaming\",\"bark\",\"nevada\",\"socal\",\"lecker\",\"jukebox\",\"carnitas\",\"dining_partner\",\"amaze\",\"hug\",\"basmati_rice\",\"contribute\",\"whisky\",\"progress\",\"festive\",\"chow\",\"je\",\"braise_short_rib\",\"cigarette\",\"mock\",\"mackerel\",\"camelback\",\"$_32\",\"meantime\",\"wieder\",\"tabasco\",\"tank\",\"absurd\",\"bobby_flay\",\"doch\",\"crispy_skin\",\"chilis\",\"file\",\"kicker\",\"storefront\",\"ciabatta\",\"ontario\",\"overwhelmingly\",\"ummm\",\"nap\",\"pretzel_bun\",\"nostalgia\",\"premade\",\"$_6.95\",\"retail\",\"favour\",\"venison\",\"respectable\",\"mon_ami_gabi\",\"chaos\",\"steamed_rice\",\"attendant\",\"cordial\",\"spring_mountain\",\"hatte\",\"tire\",\"void\",\"rectify\",\"pro_tip\",\"furthermore\",\"malaysian\",\"ole\",\"talented\",\"anywhere_near\",\"walmart\",\"posh\",\"barley\",\"talent\",\"jessica\",\"coin\",\"blended\",\"leather\",\"sprite\",\"ny_style_pizza\",\"chatty\",\"melty\",\"field\",\"cigar\",\"new_mexico\",\"co\",\"several_occasion\",\"discussion\",\"crown\",\"ordering_process\",\"bamboo\",\"cocktails\",\"mein\",\"belgian\",\"sleek\",\"advertised\",\"bare\",\"delightfully\",\"priest\",\"whoa\",\"supervisor\",\"proof\",\"scatter\",\"dedicated\",\"private_party\",\"fellow_yelpers\",\"soft_opening\",\"hispanic\",\"josh\",\"zur\",\"23\",\"waterfall\",\"independent\",\"volcano\",\"outdated\",\"zesty\",\"sole\",\"leak\",\"cutlet\",\"organization\",\"devil\",\"crumbly\",\"efficiently\",\"luxor\",\"4.5/5\",\"balsamic_vinegar\",\"holy_cow\",\"conveniently\",\"lager\",\"burgr\",\"scare\",\"duo\",\"holy_crap\",\"pen\",\"arancini\",\"educate\",\"police\",\"americans\",\"taxi\",\"bachi_burger\",\"intriguing\",\"scar\",\"cop\",\"dancer\",\"fortune\",\"outta\",\"picnic\",\"beef_tenderloin\",\"moroccan\",\"portobello_mushroom\",\"v\",\"flaw\",\"lump\",\"aftertaste\",\"galore\",\"working\",\"guu\",\"graciously\",\"noda\",\"a.\",\"oh_my_goodness\",\"scottish\",\"kosher\",\"slop\",\"pecan_pie\",\"legendary\",\"upside\",\"9_pm\",\"tattoo\",\"flake\"],\"word\":[\"-PRON-\",\"good\",\"food\",\"place\",\"order\",\"great\",\"come\",\"like\",\"service\",\"time\",\"try\",\"restaurant\",\"eat\",\"love\",\"chicken\",\"menu\",\"nice\",\"wait\",\"delicious\",\"table\",\"want\",\"price\",\"taste\",\"drink\",\"think\",\"fry\",\"little\",\"'s\",\"look\",\"pizza\",\"definitely\",\"ask\",\"friendly\",\"meal\",\"sauce\",\"dish\",\"know\",\"pretty\",\"staff\",\"fresh\",\"amazing\",\"burger\",\"thing\",\"$\",\"people\",\"server\",\"bar\",\"lunch\",\"salad\",\"bad\",\"friend\",\"find\",\"experience\",\"dinner\",\"way\",\"serve\",\"cheese\",\"small\",\"sandwich\",\"bit\",\"feel\",\"right\",\"2\",\"enjoy\",\"tell\",\"meat\",\"flavor\",\"day\",\"lot\",\"sure\",\"sit\",\"visit\",\"location\",\"night\",\"need\",\"big\",\"3\",\"review\",\"leave\",\"sushi\",\"special\",\"tasty\",\"beer\",\"area\",\"excellent\",\"favorite\",\"work\",\"worth\",\"quality\",\"bring\",\"long\",\"recommend\",\"rice\",\"seat\",\"use\",\"atmosphere\",\"cook\",\"check\",\"awesome\",\"customer\",\"breakfast\",\"dessert\",\"hot\",\"star\",\"steak\",\"walk\",\"new\",\"super\",\"soup\",\"waitress\",\"portion\",\"plate\",\"large\",\"roll\",\"different\",\"expect\",\"taco\",\"start\",\"spot\",\"4\",\"bread\",\"option\",\"ok\",\"end\",\"overall\",\"open\",\"vegas\",\"sweet\",\"perfect\",\"pay\",\"spicy\",\"decide\",\"stop\",\"fish\",\"busy\",\"item\",\"probably\",\"5\",\"home\",\"selection\",\"offer\",\"shrimp\",\"waiter\",\"huge\",\"clean\",\"close\",\"year\",\"kind\",\"beef\",\"appetizer\",\"family\",\"half\",\"maybe\",\"fast\",\"actually\",\"inside\",\"hour\",\"coffee\",\"husband\",\"decent\",\"egg\",\"return\",\"let\",\"add\",\"buffet\",\"choice\",\"wine\",\"away\",\"water\",\"line\",\"1\",\"usually\",\"owner\",\"quick\",\"manager\",\"high\",\"arrive\",\"outside\",\"couple\",\"house\",\"cold\",\"noodle\",\"point\",\"hard\",\"town\",\"old\",\"happy\",\"fantastic\",\"chip\",\"guy\",\"group\",\"grill\",\"far\",\"10\",\"especially\",\"wing\",\"piece\",\"attentive\",\"bite\",\"share\",\"wife\",\"pork\",\"finally\",\"fun\",\"bacon\",\"cool\",\"extra\",\"party\",\"second\",\"absolutely\",\"cheap\",\"include\",\"choose\",\"wrong\",\"bowl\",\"kid\",\"decor\",\"fill\",\"dry\",\"week\",\"wonderful\",\"fan\",\"stuff\",\"okay\",\"live\",\"pick\",\"free\",\"change\",\"wish\",\"run\",\"instead\",\"finish\",\"bbq\",\"potato\",\"disappoint\",\"hear\",\"slow\",\"chef\",\"veggie\",\"entree\",\"reservation\",\"crispy\",\"pasta\",\"mexican\",\"care\",\"stay\",\"mean\",\"regular\",\"room\",\"money\",\"minute\",\"chinese\",\"reason\",\"yummy\",\"course\",\"warm\",\"business\",\"deal\",\"happy_hour\",\"highly_recommend\",\"kitchen\",\"today\",\"local\",\"help\",\"size\",\"thank\",\"light\",\"yelp\",\"miss\",\"glass\",\"extremely\",\"italian\",\"salsa\",\"bill\",\"yes\",\"thai\",\"slice\",\"style\",\"patio\",\"strip\",\"real\",\"charge\",\"brunch\",\"burrito\",\"oh\",\"tender\",\"ingredient\",\"plus\",\"bartender\",\"type\",\"talk\",\"cut\",\"person\",\"watch\",\"variety\",\"white\",\"forget\",\"tip\",\"bland\",\"6\",\"guess\",\"die\",\"seafood\",\"drive\",\"onion\",\"stand\",\"average\",\"hand\",\"remember\",\"street\",\"expensive\",\"red\",\"reasonable\",\"fine\",\"tomato\",\"chocolate\",\"quickly\",\"able\",\"later\",\"flavorful\",\"disappointed\",\"salmon\",\"lack\",\"green\",\"hit\",\"garlic\",\"cocktail\",\"authentic\",\"ambiance\",\"turn\",\"mention\",\"girl\",\"better\",\"spend\",\"fact\",\"pho\",\"weekend\",\"tea\",\"curry\",\"receive\",\"soon\",\"read\",\"happen\",\"door\",\"notice\",\"topping\",\"helpful\",\"cake\",\"problem\",\"music\",\"counter\",\"employee\",\"boyfriend\",\"5_star\",\"hungry\",\"list\",\"terrible\",\"twice\",\"perfectly\",\"impressed\",\"trip\",\"base\",\"date\",\"simple\",\"mind\",\"lobster\",\"believe\",\"salty\",\"consider\",\"horrible\",\"mushroom\",\"mix\",\"sausage\",\"plenty\",\"joint\",\"ready\",\"evening\",\"treat\",\"vegetarian\",\"bean\",\"head\",\"late\",\"wow\",\"20\",\"man\",\"birthday\",\"glad\",\"ice_cream\",\"easy\",\"main\",\"hostess\",\"past\",\"rude\",\"crowd\",\"beautiful\",\"set\",\"butter\",\"etc\",\"refill\",\"wrap\",\"grab\",\"las_vegas\",\"mouth\",\"soft\",\"pancake\",\"pricey\",\"rest\",\"unique\",\"wall\",\"spice\",\"pack\",\"hotel\",\"buy\",\"hope\",\"stick\",\"early\",\"entire\",\"space\",\"lady\",\"combo\",\"greet\",\"unfortunately\",\"crust\",\"cup\",\"job\",\"vegetable\",\"totally\",\"loud\",\"bottle\",\"8\",\"standard\",\"play\",\"deliver\",\"waffle\",\"game\",\"seriously\",\"vegan\",\"complaint\",\"seating\",\"available\",\"cost\",\"write\",\"bun\",\"issue\",\"view\",\"near\",\"compare\",\"rib\",\"salt\",\"literally\",\"parking\",\"meet\",\"7\",\"flavour\",\"month\",\"pass\",\"life\",\"dining\",\"broth\",\"delivery\",\"cute\",\"healthy\",\"shop\",\"interesting\",\"sign\",\"honestly\",\"prepare\",\"pepper\",\"locate\",\"suggest\",\"completely\",\"note\",\"value\",\"mediocre\",\"speak\",\"mac\",\"thick\",\"establishment\",\"outstanding\",\"dip\",\"greasy\",\"sunday\",\"+\",\"store\",\"understand\",\"juicy\",\"chance\",\"pleasant\",\"excited\",\"corn\",\"poor\",\"raman\",\"disappointing\",\"vibe\",\"margarita\",\"texture\",\"immediately\",\"melt\",\"rush\",\"solid\",\"explain\",\"homemade\",\"smell\",\"french\",\"cream\",\"request\",\"plan\",\"world\",\"city\",\"prefer\",\"chain\",\"medium\",\"sorry\",\"provide\",\"asian\",\"cafe\",\"slightly\",\"crave\",\"sound\",\"typical\",\"idea\",\"japanese\",\"complain\",\"tiny\",\"mom\",\"smile\",\"15\",\"lol\",\"avocado\",\"phoenix\",\"short\",\"simply\",\"creamy\",\"tonight\",\"indian\",\"dressing\",\"word\",\"morning\",\"incredible\",\"split\",\"diner\",\"welcome\",\"traditional\",\"cover\",\"toast\",\"exactly\",\"10_minute\",\"season\",\"lamb\",\"hang\",\"sort\",\"throw\",\"pie\",\"suppose\",\"lovely\",\"recently\",\"smoke\",\"accommodate\",\"basically\",\"guest\",\"casual\",\"touch\",\"recommendation\",\"truly\",\"korean\",\"brisket\",\"ton\",\"burn\",\"best\",\"crepe\",\"low\",\"toronto\",\"surprise\",\"chili\",\"dollar\",\"number\",\"appreciate\",\"12\",\"fruit\",\"send\",\"thin\",\"crab\",\"dirty\",\"box\",\"certainly\",\"realize\",\"picture\",\"phone\",\"15_minute\",\"window\",\"remind\",\"face\",\"level\",\"oyster\",\"comfortable\",\"club\",\"opinion\",\"break\",\"fancy\",\"drop\",\"tofu\",\"neighborhood\",\"yum\",\"calamari\",\"weird\",\"fairly\",\"hold\",\"downtown\",\"figure\",\"booth\",\"rich\",\"usual\",\"crazy\",\"und\",\"presentation\",\"perfection\",\"combination\",\"look_forward\",\"question\",\"gravy\",\"total\",\"save\",\"hop\",\"dog\",\"fair\",\"soggy\",\"dark\",\"app\",\"kinda\",\"case\",\"buck\",\"rock\",\"tuna\",\"surprised\",\"waste\",\"son\",\"sample\",\"desert\",\"turkey\",\"daughter\",\"sad\",\"sweet_potato\",\"normally\",\"whatev\",\"rating\",\"management\",\"n\",\"generous\",\"despite\",\"pop\",\"easily\",\"20_minute\",\"classic\",\"sashimi\",\"floor\",\"awful\",\"tv\",\"din\",\"ice\",\"dine\",\"beat\",\"sell\",\"middle\",\"avoid\",\"state\",\"mess\",\"crisp\",\"scallop\",\"heat\",\"shot\",\"meatball\",\"fall\",\"corner\",\"attitude\",\"platter\",\"greek\",\"lose\",\"lettuce\",\"fix\",\"pickle\",\"guacamole\",\"pad_thai\",\"bathroom\",\"barely\",\"sour\",\"eye\",\"saturday\",\"matter\",\"duck\",\"attention\",\"girlfriend\",\"cozy\",\"tasting\",\"original\",\"dumpling\",\"strong\",\"bone\",\"kick\",\"agree\",\"plain\",\"true\",\"continue\",\"spinach\",\"similar\",\"dining_experience\",\"9\",\"longer\",\"gyro\",\"heavy\",\"addition\",\"book\",\"conversation\",\"30\",\"suck\",\"environment\",\"catch\",\"bother\",\"hate\",\"mistake\",\"cookie\",\"casino\",\"tap\",\"opt\",\"allow\",\"follow\",\"lemon\",\"incredibly\",\"round\",\"ambience\",\"obviously\",\"clearly\",\"quiet\",\"summer\",\"car\",\"favourite\",\"prepared\",\"clear\",\"crunchy\",\"50\",\"chewy\",\"interior\",\"fabulous\",\"bag\",\"30_minute\",\"friday\",\"shake\",\"cashier\",\"pastry\",\"raw\",\"poutine\",\"overpriced\",\"apparently\",\"cash\",\"patron\",\"woman\",\"satisfied\",\"portion_size\",\"modern\",\"host\",\"american\",\"hummus\",\"pull\",\"fat\",\"double\",\"basic\",\"non\",\"section\",\"bagel\",\"forever\",\"seasoning\",\"update\",\"tough\",\"chipotle\",\"expectation\",\"normal\",\"nicely\",\"biscuit\",\"pull_pork\",\"tortilla\",\"la\",\"moist\",\"filling\",\"sub\",\"popular\",\"disappointment\",\"charlotte\",\"friday_night\",\"bunch\",\"boy\",\"polite\",\"top_notch\",\"soda\",\"pittsburgh\",\"answer\",\"chair\",\"montreal\",\"hand_down\",\"scottsdale\",\"saturday_night\",\"comment\",\"pour\",\"begin\",\"black\",\"year_ago\",\"hubby\",\"personally\",\"oil\",\"s\",\"coupon\",\"appear\",\"apologize\",\"juice\",\"gluten_free\",\"event\",\"french_toast\",\"sister\",\"gross\",\"mood\",\"dim_sum\",\"post\",\"strawberry\",\"affordable\",\"meh\",\"multiple\",\"damn\",\"park\",\"overcook\",\"step\",\"cuisine\",\"gem\",\"card\",\"concept\",\"describe\",\"version\",\"prime_rib\",\"patty\",\"delish\",\"100\",\"alright\",\"skip\",\"mango\",\"spring_roll\",\"suggestion\",\"efficient\",\"surprisingly\",\"limited\",\"reasonably_price\",\"pork_belly\",\"bake\",\"refreshing\",\"somewhat\",\"pleased\",\"overly\",\"young\",\"snack\",\"negative\",\"station\",\"exceptional\",\"imagine\",\"omg\",\"nearby\",\"odd\",\"coconut\",\"tuesday\",\"deserve\",\"pita\",\"wonder\",\"rare\",\"folk\",\"ball\",\"orange\",\"online\",\"prompt\",\"vietnamese\",\"onion_ring\",\"handle\",\"phenomenal\",\"donut\",\"difficult\",\"building\",\"frozen\",\"moment\",\"hot_dog\",\"takeout\",\"late_night\",\"leftover\",\"professional\",\"consistent\",\"present\",\"sized\",\"valley\",\"mash_potato\",\"enchilada\",\"actual\",\"honey\",\"hype\",\"knowledgeable\",\"cucumber\",\"ham\",\"baby\",\"mayo\",\"consistently\",\"cheesecake\",\"single\",\"batter\",\"u\",\"specialty\",\"25\",\"roast\",\"possible\",\"correct\",\"heart\",\"anymore\",\"child\",\"ayce\",\"create\",\"apple\",\"positive\",\"11\",\"ridiculous\",\"future\",\"assume\",\"grow\",\"filet\",\"cook_perfectly\",\"yeah\",\"load\",\"pub\",\"1/2\",\"nearly\",\"yesterday\",\"crowded\",\"pair\",\"promptly\",\"particular\",\"frequent\",\"enter\",\"complimentary\",\"mixed\",\"groupon\",\"chunk\",\"dining_room\",\"honest\",\"range\",\"slider\",\"country\",\"lover\",\"impressive\",\"funny\",\"parking_lot\",\"chop\",\"chill\",\"pepperoni\",\"celebrate\",\"craving\",\"hole\",\"disgusting\",\"complete\",\"starter\",\"generally\",\"tend\",\"heaven\",\"convenient\",\"bomb\",\"next_door\",\"enjoyable\",\"sugar\",\"worker\",\"separate\",\"deep_fry\",\"joke\",\"manage\",\"company\",\"w\",\"afternoon\",\"quesadilla\",\"doubt\",\"alcohol\",\"cleveland\",\"nachos\",\"medium_rare\",\"pineapple\",\"omelet\",\"bf\",\"tasteless\",\"particularly\",\"straight\",\"sick\",\"pool\",\"fire\",\"p.m.\",\"steam\",\"rave_about\",\"travel\",\"arizona\",\"sadly\",\"omelette\",\"mother\",\"hell\",\"carry\",\"broccoli\",\"sense\",\"teriyaki\",\"truffle\",\"learn\",\"mini\",\"highlight\",\"banana\",\"ahead\",\"40\",\"smoothie\",\"tempura\",\"chat\",\"pricing\",\"w/\",\"main_course\",\"mild\",\"ignore\",\"savory\",\"superb\",\"regret\",\"feeling\",\"fit\",\"inform\",\"win\",\"five_star\",\"offering\",\"upscale\",\"willing\",\"pleasantly_surprised\",\"drive_thru\",\"hey\",\"carne_asada\",\"build\",\"detail\",\"eggplant\",\"discount\",\"cooking\",\"deli\",\"gelato\",\"basil\",\"=\",\"purchase\",\"satisfy\",\"steakhouse\",\"rate\",\"california\",\"impress\",\"ginger\",\"fail\",\"nacho\",\"awhile\",\"stomach\",\"mussel\",\"dress\",\"pre\",\"market\",\"balance\",\"blow\",\"feature\",\"anyways\",\"packed\",\"bright\",\"spectacular\",\"additional\",\"airport\",\"fare\",\"45_minute\",\"creative\",\"dough\",\"improve\",\"typically\",\"shell\",\"general\",\"product\",\"signature\",\"feed\",\"fluffy\",\"beverage\",\"strange\",\"finger\",\"buffalo\",\"term\",\"compliment\",\"spaghetti\",\"bakery\",\"certain\",\"personal\",\"short_rib\",\"hat\",\"dozen\",\"ruin\",\"freeze\",\"search\",\"lucky\",\"aside\",\"lay\",\"chorizo\",\"ranch\",\"giant\",\"hopefully\",\"carrot\",\"goat_cheese\",\"extensive\",\"relax\",\"discover\",\"parent\",\"chicago\",\"mozzarella\",\"mac_n_cheese\",\"olive\",\"skin\",\"napkin\",\"coleslaw\",\"possibly\",\"madison\",\"photo\",\"depend\",\"serving\",\"der\",\"par\",\"roasted\",\"dad\",\"memorable\",\"asparagus\",\"tad\",\"admit\",\"accompany\",\"fatty\",\"shame\",\"pesto\",\"website\",\"lounge\",\"oily\",\"ketchup\",\"cheesy\",\"brother\",\"monday\",\"luckily\",\"comfort\",\"unlike\",\"important\",\"mark\",\"movie\",\"trust\",\"attempt\",\"anything_else\",\"difference\",\"wise\",\"match\",\"naan\",\"consist\",\"scoop\",\"wear\",\"weather\",\"south\",\"setting\",\"weekday\",\"blend\",\"peanut\",\"famous\",\"fault\",\"de\",\"trendy\",\"mustard\",\"delightful\",\"repeat\",\"brown\",\"excuse\",\"venue\",\"picky\",\"hair\",\"paper\",\"center\",\"fork\",\"freshly\",\"hamburger\",\"quantity\",\"listen\",\"gourmet\",\"needless\",\"consistency\",\"crunch\",\"welcoming\",\"jalapeno\",\"entrance\",\"starve\",\"register\",\"wine_list\",\"falafel\",\"situation\",\"likely\",\"das\",\"az\",\"protein\",\"earlier\",\"occasion\",\"milk\",\"flight\",\"cilantro\",\"sake\",\"king\",\"green_tea\",\"hint\",\"courteous\",\"upstairs\",\"container\",\"previous\",\"somewhere_else\",\"drunk\",\"goodness\",\"cheddar\",\"design\",\"martini\",\"process\",\"parmesan\",\"coworker\",\"jerk\",\"crab_leg\",\"prior\",\"classy\",\"pretzel\",\"luck\",\"caesar_salad\",\"replace\",\"syrup\",\"story\",\"stale\",\"baked\",\"romantic\",\"west\",\"annoying\",\"cabbage\",\"office\",\"flavourful\",\"grit\",\"2nd\",\"spread\",\"oven\",\"act\",\"fly\",\"warn\",\"desire\",\"adult\",\"flat\",\"relatively\",\"overprice\",\"ribeye\",\"limit\",\"live_music\",\"effort\",\"pricy\",\"theme\",\"new_york\",\"hash_brown\",\"risotto\",\"laugh\",\"daily\",\"team\",\"bed\",\"support\",\"skewer\",\"road\",\"strip_mall\",\"latte\",\"def\",\"remove\",\"count\",\"acknowledge\",\"hawaiian\",\"shawarma\",\"board\",\"pot\",\"mall\",\"crap\",\"secret\",\"thought\",\"every_single\",\"reviewer\",\"dance\",\"bloody_mary\",\"properly\",\"lime\",\"art\",\"tax\",\"fajita\",\"truck\",\"favor\",\"ice_tea\",\"smooth\",\"settle\",\"subway\",\"rat\",\"black_bean\",\"crab_cake\",\"wash\",\"restroom\",\"guac\",\"yell\",\"pan\",\"nasty\",\"terrific\",\"scene\",\"intimate\",\"sour_cream\",\"blue\",\"spacious\",\"hide\",\"foot\",\"color\",\"ravioli\",\"lead\",\"worry\",\"brew\",\"mediterranean\",\"till\",\"croissant\",\"massive\",\"upset\",\"age\",\"pound\",\"y\",\"proceed\",\"patient\",\"promise\",\"haha\",\"le\",\"machine\",\"refuse\",\"constantly\",\"inexpensive\",\"sangria\",\"ticket\",\"cajun\",\"select\",\"blue_cheese\",\"comp\",\"kimchi\",\"gnocchi\",\"block\",\"hide_gem\",\"lie\",\"mushy\",\"flavorless\",\"appetite\",\"grease\",\"form\",\"thin_crust\",\"sooo\",\"layer\",\"judge\",\"staple\",\"buttery\",\"invite\",\"knock\",\"recipe\",\"bruschetta\",\"kill\",\"court\",\"soooo\",\"equally\",\"apology\",\"example\",\"partner\",\"slaw\",\"clam\",\"claim\",\"eater\",\"cooked\",\"relaxed\",\"hearty\",\"marinate\",\"cater\",\"north\",\"liking\",\"tray\",\"lasagna\",\"gentleman\",\"hurry\",\"dream\",\"hip\",\"pink\",\"boring\",\"decision\",\"fried\",\"condiment\",\"espresso\",\"push\",\"coffee_shop\",\"miso_soup\",\"uncomfortable\",\"east\",\"result\",\"receipt\",\"sweetness\",\"herb\",\"class\",\"co_worker\",\"eventually\",\"ago\",\"english\",\"anniversary\",\"tart\",\"waitstaff\",\"introduce\",\"milkshake\",\"gf\",\"tired\",\"frequently\",\"boba\",\"ny\",\"approach\",\"toss\",\"dipping_sauce\",\"philly\",\"pro\",\"outdoor_seating\",\"green_bean\",\"pile\",\"per_person\",\"opportunity\",\"basket\",\"everyday\",\"filet_mignon\",\"et\",\"taste_bud\",\"rarely\",\"cheeseburger\",\"personable\",\"poke\",\"plaza\",\"soak\",\"major\",\"nigiri\",\"regularly\",\"ring\",\"tiramisu\",\"bellagio\",\"ist\",\"attend\",\"air\",\"a.m.\",\"foodie\",\"response\",\"awkward\",\"octopus\",\"mile\",\"random\",\"highly\",\"tempe\",\"char\",\"law\",\"mimosa\",\"regardless\",\"twist\",\"interested\",\"quaint\",\"organic\",\"focus\",\"gorgeous\",\"edible\",\"egg_benedict\",\"noisy\",\"lighting\",\"watery\",\"fine_dining\",\"mint\",\"steal\",\"specifically\",\"feta\",\"dead\",\"un\",\"fries\",\"nyc\",\"lemonade\",\"raise\",\"overwhelming\",\"reserve\",\"ceviche\",\"eatery\",\"plentiful\",\"someone_else\",\"display\",\"remain\",\"impeccable\",\"generous_portion\",\"refund\",\"pork_chop\",\"flatbread\",\"pitcher\",\"ass\",\"credit\",\"1st\",\"blow_away\",\"absolute\",\"microwave\",\"edge\",\"hash\",\"train\",\"screw\",\"anywhere_else\",\"venture\",\"description\",\"olive_oil\",\"winter\",\"safe\",\"satisfying\",\"sip\",\"cinnamon\",\"buddy\",\"fusion\",\"switch\",\"messy\",\"zucchini\",\"substitute\",\"thursday\",\"sampler\",\"ground\",\"write_home\",\"spoon\",\"potential\",\"panini\",\"overpower\",\"hardly\",\"bonus\",\"ein\",\"wednesday\",\"hipster\",\"credit_card\",\"concern\",\"pastrami\",\"recent\",\"sport\",\"opening\",\"mainly\",\"b\",\"brownie\",\"mcdonald_'s\",\"sport_bar\",\"exception\",\"special_occasion\",\"stack\",\"dig\",\"alternative\",\"vacation\",\"system\",\"surround\",\"macaroni\",\"stellar\",\"advice\",\"delight\",\"force\",\"wonton\",\"overlook\",\"fountain\",\"soy_sauce\",\"con\",\"combine\",\"shit\",\"draw\",\"trouble\",\"neat\",\"amazingly\",\"tacos\",\"familiar\",\"bitter\",\"barbecue\",\"boil\",\"winner\",\"chicken_breast\",\"advance\",\"spicy_tuna\",\"zero\",\"draft\",\"15_min\",\"contain\",\"btw\",\"call_ahead\",\"fav\",\"ramen\",\"old_school\",\"reach\",\"originally\",\"veal\",\"tourist\",\"above_average\",\"advertise\",\"tapa\",\"80\",\"10_min\",\"foie_gra\",\"minute_later\",\"require\",\"vinegar\",\"regard\",\"divine\",\"individual\",\"confused\",\"30_min\",\"swear\",\"hello\",\"4/5\",\"aware\",\"arugula\",\"dude\",\"tangy\",\"mit\",\"band\",\"5/5\",\"coke\",\"reply\",\"craft_beer\",\"scratch\",\"pint\",\"appeal\",\"holiday\",\"garden\",\"ridiculously\",\"temperature\",\"numerous\",\"god\",\"charming\",\"crappy\",\"whip_cream\",\"weak\",\"caramel\",\"prosciutto\",\"vodka\",\"obvious\",\"peanut_butter\",\"pleasure\",\"grocery_store\",\"southern\",\"self\",\"square\",\"pm\",\"stock\",\"left\",\"crack\",\"wedding\",\"squid\",\"freshness\",\"vanilla\",\"ordering\",\"chew\",\"cornbread\",\"upgrade\",\"champagne\",\"starbucks\",\"hire\",\"bistro\",\"3.5_star\",\"confirm\",\"tequila\",\"minus\",\"20_min\",\"bet\",\"40_minute\",\"rib_eye\",\"seasonal\",\"wasabi\",\"ya\",\"stir_fry\",\"cart\",\"comparison\",\"fool\",\"war\",\"ratio\",\"legit\",\"meaty\",\"sub_par\",\"spanish\",\"blt\",\"college\",\"italy\",\"blueberry\",\"heck\",\"package\",\"nicht\",\"score\",\"carnita\",\"alot\",\"raspberry\",\"got\",\"dj\",\"inviting\",\"memory\",\"drive_through\",\"jam\",\"caesar\",\"sesame\",\"inedible\",\"outdoor\",\"tab\",\"muffin\",\"shred\",\"everytime\",\"layout\",\"argue\",\"sticky\",\"plastic\",\"downstairs\",\"beware\",\"undercook\",\"beginning\",\"decorate\",\"proper\",\"hibachi\",\"wet\",\"careful\",\"leg\",\"thankfully\",\"pic\",\"benedict\",\"scream\",\"devour\",\"sun\",\"accept\",\"wood\",\"father\",\"lastly\",\"personality\",\"fully\",\"exciting\",\"killer\",\"acceptable\",\"tho\",\"pig\",\"belly\",\"farm\",\"25_minute\",\"handful\",\"veg\",\"disappear\",\"nope\",\"comparable\",\"$_14\",\"auch\",\"knife\",\"industry\",\"cleanliness\",\"bread_pudding\",\"heavenly\",\"noon\",\"fall_apart\",\"soul\",\"fave\",\"edamame\",\"katsu\",\"specific\",\"beet\",\"tamale\",\"insist\",\"initially\",\"lazy\",\"chinatown\",\"calzone\",\"nonetheless\",\"kabob\",\"dive\",\"prime\",\"drizzle\",\"annoyed\",\"address\",\"decoration\",\"sunday_brunch\",\"bottom_line\",\"cupcake\",\"song\",\"bc\",\"bulgogi\",\"high_expectation\",\"allergy\",\"fight\",\"cousin\",\"deep\",\"daily_special\",\"cherry\",\"site\",\"improvement\",\"wanna\",\"period\",\"accord\",\"tapas\",\"challenge\",\"slight\",\"silverware\",\"trash\",\"pip_hot\",\"meeting\",\"assortment\",\"berry\",\"apart\",\"es\",\"garnish\",\"encounter\",\"thumb_up\",\"only_downside\",\"stew\",\"sliced\",\"eh\",\"pudding\",\"jalape\\u00f1o\",\"nut\",\"cole_slaw\",\"ensure\",\"neighbourhood\",\"fake\",\"shopping\",\"advise\",\"row\",\"queso\",\"grant\",\"filipino\",\"soy\",\"texas\",\"island\",\"german\",\"popcorn\",\"eating\",\"cauliflower\",\"exist\",\"school\",\"sprinkle\",\"recall\",\"udon\",\"week_ago\",\"authentic_mexican\",\"blame\",\"steep\",\"sing\",\"18\",\"coat\",\"wynn\",\"min\",\"brussel_sprout\",\"rubbery\",\"diet\",\"almond\",\"preparation\",\"join\",\"yogurt\",\"everybody\",\"korean_bbq\",\"rule\",\"hot_pot\",\"express\",\"taco_bell\",\"miso\",\"o\",\"ordinary\",\"fianc\\u00e9\",\"chocolate_cake\",\"calorie\",\"mad\",\"impression\",\"sea_bass\",\"ricotta\",\"email\",\"indoor\",\"roast_beef\",\"smoky\",\"pace\",\"unbelievable\",\"shout\",\"creme_brulee\",\"corned_beef\",\"artichoke\",\"cuz\",\"fiance\",\"christmas\",\"$_13\",\"jump\",\"ich\",\"nutella\",\"meatloaf\",\"confusing\",\"yellow\",\"rack\",\"colleague\",\"blast\",\"custard\",\"da\",\"lv\",\"scramble_egg\",\"henderson\",\"member\",\"well_seasoned\",\"afraid\",\"strike\",\"aber\",\"lively\",\"al\",\"craft\",\"smother\",\"noise\",\"expand\",\"respond\",\"premium\",\"wtf\",\"month_ago\",\"jack\",\"understand_why\",\"catfish\",\"brand\",\"budget\",\"underwhelming\",\"um\",\"3rd\",\"wide_variety\",\"respect\",\"cheese_curd\",\"pea\",\"driver\",\"16\",\"trio\",\"first_impression\",\"roti\",\"cramped\",\"halibut\",\"skillet\",\"palate\",\"tight\",\"worthy\",\"14\",\"earn\",\"anytime\",\"control\",\"earth\",\"bang\",\"peach\",\"consume\",\"cancel\",\"energy\",\"90\",\"pride\",\"companion\",\"common\",\"denny_'s\",\"complement\",\"student\",\"outdoor_patio\",\"empanada\",\"unprofessional\",\"stupid\",\"drinks\",\"breading\",\"previously\",\"most_likely\",\"charm\",\"downhill\",\"cod\",\"elegant\",\"drinking\",\"brown_rice\",\"brie\",\"sirloin\",\"community\",\"entertainment\",\"happily\",\"land\",\"french_onion\",\"wallet\",\"bear\",\"grilled\",\"mixture\",\"yelper\",\"garbage\",\"spill\",\"crew\",\"entirely\",\"walnut\",\"kale\",\"scramble\",\"client\",\"skeptical\",\"ceiling\",\"hurt\",\"contact\",\"smoke_salmon\",\"key\",\"lukewarm\",\"d\\u00e9cor\",\"smokey\",\"la_carte\",\"and/or\",\"overwhelmed\",\"directly\",\"sunday_morning\",\"oxtail\",\"mill\",\"appropriate\",\"$_16\",\"relaxing\",\"training\",\"mojito\",\"staff_member\",\"appetizing\",\"alfredo\",\"shock\",\"candy\",\"weekly\",\"preference\",\"dump\",\"baguette\",\"take_advantage\",\"blah\",\"lean\",\"pain\",\"mcdonalds\",\"surprising\",\"assure\",\"runny\",\"yay\",\"flaky\",\"lobster_bisque\",\"japan\",\"fishy\",\"inspire\",\"oz\",\"explore\",\"cappuccino\",\"traffic\",\"produce\",\"sooooo\",\"utensil\",\"shape\",\"brewery\",\"caf\\u00e9\",\"edinburgh\",\"3.5\",\"reheat\",\"ill\",\"lightly\",\"unusual\",\"bubble_tea\",\"unlimited\",\"correctly\",\"essentially\",\"$_18\",\"poisoning\",\"speed\",\"pay_attention\",\"gyoza\",\"ish\",\"background\",\"squeeze\",\"mash\",\"majority\",\"ugh\",\"pretentious\",\"crawfish\",\"70\",\"adequate\",\"shocked\",\"hook\",\"thursday_night\",\"franchise\",\"delectable\",\"rosemary\",\"sear\",\"pumpkin\",\"competition\",\"karaoke\",\"female\",\"impossible\",\"uni\",\"21\",\"subpar\",\"snob\",\"seasoned\",\"baked_potato\",\"quarter\",\"semi\",\"bourbon\",\"quinoa\",\"poorly\",\"funky\",\"convince\",\"buzz\",\"deliciousness\",\"tongue\",\"skimp\",\"banh_mi\",\"macaron\",\"ten_minute\",\"page\",\"study\",\"drench\",\"corporate\",\"practically\",\"resort\",\"60\",\"lately\",\"flag\",\"cause\",\"warning\",\"tour\",\"monday_night\",\"punch\",\"recognize\",\"indulge\",\"shift\",\"plantain\",\"valet\",\"tuck_away\",\"bank\",\"irish\",\"c\",\"direction\",\"adventurous\",\"tomorrow\",\"scale\",\"diverse\",\"hawaii\",\"complex\",\"test\",\"golden\",\"adorable\",\"13\",\"occupy\",\"press\",\"customize\",\"soo\",\"entr\\u00e9e\",\"ideal\",\"thoroughly_enjoy\",\"reuben\",\"old_fashioned\",\"sea\",\"apologetic\",\"terribly\",\"beautifully\",\"washroom\",\"rustic\",\"minimal\",\"delicate\",\"ayce_sushi\",\"pita_bread\",\"ps\",\"justify\",\"power\",\"prove\",\"chandler\",\"fridge\",\"decadent\",\"aspect\",\"guarantee\",\"whiskey\",\"sale\",\"china\",\"grandma\",\"below_average\",\"kudo\",\"necessary\",\"fyi\",\"scrumptious\",\"exceed\",\"bento_box\",\"spice_level\",\"tot\",\"hh\",\"minimum\",\"liquor\",\"3/5\",\"private\",\"paris\",\"five_minute\",\"benefit\",\"pure\",\"wild\",\"hi\",\"wave\",\"factor\",\"baklava\",\"yuck\",\"wheat\",\"suit\",\"tear\",\"stone\",\"venetian\",\"screen\",\"currently\",\"lobby\",\"sight\",\"lil\",\"honor\",\"struggle\",\"chilli\",\"smash\",\"carb\",\"ride\",\"aioli\",\"cheer\",\"rip_off\",\"7_p.m.\",\"mgm\",\"deep_dish\",\"inconsistent\",\"bummer\",\"dense\",\"watermelon\",\"resto\",\"knowledge\",\"history\",\"ipa\",\"6_p.m.\",\"middle_eastern\",\"pear\",\"report\",\"body\",\"delay\",\"final\",\"spring\",\"thanksgiving\",\"character\",\"gooey\",\"custom\",\"succulent\",\"marinara\",\"hospitality\",\"skill\",\"volume\",\"boss\",\"maintain\",\"amazed\",\"clientele\",\"couch\",\"angry\",\"msg\",\"comfy\",\"m\",\"aka\",\"text\",\"cannoli\",\"chris\",\"spoil\",\"destination\",\"iced_tea\",\"slide\",\"news\",\"generic\",\"concerned\",\"entertaining\",\"mesa\",\"eel\",\"spiciness\",\"fried_rice\",\"wipe\",\"grub\",\"surely\",\"sundays\",\"decline\",\"insane\",\"knowledgable\",\"feast\",\"confuse\",\"wonderfully\",\"hangover\",\"milk_tea\",\"pistachio\",\"east_coast\",\"stumble_upon\",\"gift_card\",\"samosa\",\"natural\",\"appearance\",\"curious\",\"cheesesteak\",\"policy\",\"slam\",\"gal\",\"enormous\",\"fondue\",\"jar\",\"straw\",\"garlic_knot\",\"8_p.m.\",\"california_roll\",\"rough\",\"execute\",\"culinary\",\"voice\",\"worried\",\"hotdog\",\"pasty\",\"genuine\",\"manner\",\"eclectic\",\"lettuce_wrap\",\"canada\",\"stage\",\"indicate\",\"midnight\",\"filthy\",\"freak\",\"zu\",\"seven\",\"current\",\"perfectly_cooked\",\"flow\",\"occasionally\",\"slowly\",\"splurge\",\"bone_marrow\",\"increase\",\"necessarily\",\"5_min\",\"satay\",\"drown\",\"sunday_afternoon\",\"culture\",\"barista\",\"hesitant\",\"candle\",\"oh_yeah\",\"ample\",\"fee\",\"unfortunate\",\"aroma\",\"imo\",\"operate\",\"print\",\"cons\",\"canadian\",\"closer\",\"horchata\",\"inch\",\"homey\",\"horseradish\",\"sum\",\"visitor\",\"concert\",\"chic\",\"eine\",\"citrus\",\"whatsoever\",\"aria\",\"olive_garden\",\"seaweed\",\"refer\",\"shopping_center\",\"leaf\",\"tone\",\"infuse\",\"thi\",\"cranberry\",\"lunchtime\",\"sucker\",\"male\",\"quote\",\"reflect\",\"skinny\",\"arm\",\"setup\",\"instantly\",\"draft_beer\",\"9_p.m.\",\"church\",\"shrimp_tempura\",\"chow_mein\",\"corn_tortilla\",\"price_tag\",\"flour\",\"unacceptable\",\"understaffed\",\"anticipate\",\"southwest\",\"tandoori\",\"yelpers\",\"clam_chowder\",\"tall\",\"loaf\",\"demand\",\"ground_beef\",\"45_min\",\"albeit\",\"subtle\",\"spit\",\"cure\",\"quiche\",\"attach\",\"a+\",\"encourage\",\"noodles\",\"congee\",\"dislike\",\"lake\",\"booze\",\"ahi_tuna\",\"trick\",\"convenience\",\"eager\",\"shortly_after\",\"creation\",\"informative\",\"content\",\"green_chili\",\"worth_every_penny\",\"vary\",\"essen\",\"gut\",\"i.e.\",\"hesitate\",\"vinaigrette\",\"scone\",\"ppl\",\"redeem\",\"wednesday_night\",\"oppose\",\"exceptionally\",\"batch\",\"downside\",\"paint\",\"shoot\",\"les\",\"10_p.m.\",\"wings\",\"mike\",\"\\u00e0\",\"bus\",\"des\",\"float\",\"gladly\",\"pocket\",\"fortunately\",\"paella\",\"polenta\",\"sooner\",\"pretty_darn\",\"lamb_chop\",\"action\",\"faster\",\"anytime_soon\",\"cracker\",\"involve\",\"sleep\",\"front_desk\",\"glaze\",\"flag_down\",\"bug\",\"nothing_spectacular\",\"bean_sprout\",\"smart\",\"seek\",\"genuinely\",\"jalape\\u00f1os\",\"doughy\",\"overdone\",\"personal_favorite\",\"~\",\"exterior\",\"red_pepper\",\"ribs\",\"yellowtail\",\"frustrating\",\"resist\",\"concoction\",\"24_hour\",\"saturday_morning\",\"waiting\",\"tummy\",\"lackluster\",\"health\",\"byob\",\"joe\",\"mid\",\"boot\",\"d\",\"purpose\",\"john\",\"uptown\",\"unpleasant\",\"mexico\",\"neighbor\",\"expert\",\"$_60\",\"insanely\",\"lame\",\"lick\",\"cry\",\"prawn\",\"cuban\",\"explanation\",\"den\",\"success\",\"bench\",\"central\",\"wie\",\"timing\",\"gumbo\",\"$_35\",\"shirt\",\"torta\",\"green_chile\",\"inconvenience\",\"$_17\",\"orange_juice\",\"joe_'s\",\"suspect\",\"exact\",\"politely\",\"elevator\",\"suffer\",\"jelly\",\"magic\",\"unfriendly\",\"attractive\",\"bump\",\"freaking\",\"goody\",\"ihop\",\"gilbert\",\"undercooked\",\"definately\",\"pecan\",\"liquid\",\"sich\",\"furniture\",\"label\",\"mountain\",\"thanks\",\"wifi\",\"grand\",\"lo_mein\",\"flan\",\"polish\",\"saturday_afternoon\",\"pickup\",\"day_ago\",\"initial\",\"spin\",\"rum\",\"nugget\",\"burst\",\"kalbi\",\"timely_manner\",\"whip\",\"previous_review\",\"greeting\",\"catering\",\"frankly\",\"cross\",\"deliciously\",\"endless\",\"unhappy\",\"churro\",\"standout\",\"hub\",\"young_lady\",\"gigantic\",\"closed\",\"en\",\"hangout\",\"t\",\"squash\",\"whim\",\"stuffed\",\"lobster_tail\",\"pizzeria\",\"markham\",\"maple\",\"pizza_hut\",\"cali\",\"rid\",\"alas\",\"information\",\"inquire\",\"skimpy\",\"wide\",\"max\",\"tree\",\"calm\",\"stair\",\"direct\",\"security\",\"varied\",\"hassle\",\"vanilla_ice_cream\",\"tower\",\"entertain\",\"prep\",\"dare\",\"gripe\",\"boat\",\"crumble\",\"vermicelli\",\"e\",\"doughnut\",\"chicken_parm\",\"san_diego\",\"crouton\",\"dance_floor\",\"afford\",\"nail\",\"unable\",\"million\",\"macaroon\",\"accurate\",\"wander\",\"category\",\"message\",\"san\",\"sriracha\",\"five_guy\",\"firm\",\"discuss\",\"schedule\",\"sweat\",\"cheesecake_factory\",\"closing\",\"tater_tot\",\"america\",\"exquisite\",\"reputation\",\"flat_bread\",\"marinara_sauce\",\"tempt\",\"stretch\",\"exotic\",\"tortilla_chip\",\"most_importantly\",\"plat\",\"resemble\",\"interest\",\"al_dente\",\"chips\",\"hunger\",\"opposite\",\"kung_pao\",\"toilet\",\"panera\",\"bargain\",\"rub\",\"bucket\",\"beet_salad\",\"separately\",\"sticky_rice\",\"pot_pie\",\"kebab\",\"few_week_ago\",\"rose\",\"clothe\",\"caramelized_onion\",\"dive_bar\",\"array\",\"save_room\",\"flower\",\"silly\",\"upbeat\",\"specialize\",\"mole\",\"zero_star\",\"understandable\",\"hooked\",\"al_pastor\",\"sandwhich\",\"accent\",\"escargot\",\"unexpected\",\"resturant\",\"error\",\"ale\",\"wedge\",\"kfc\",\"sizzling\",\"uber\",\"rise\",\"tradition\",\"grocery\",\"stingy\",\"bold\",\"gold\",\"gracious\",\"airy\",\"frite\",\"adventure\",\"fear\",\"chunky\",\"pleasant_surprise\",\"sorbet\",\"panda_express\",\"cheerful\",\"thoroughly\",\"passion\",\"dim\",\"hunt\",\"element\",\"risk\",\"kink\",\"contrast\",\"flip\",\"waren\",\"theater\",\"4th\",\"duty\",\"vip\",\"intend\",\"conclusion\",\"don't\",\"vs\",\"yep\",\"eye_contact\",\"grain\",\"apply\",\"sexy\",\"definite\",\"hookah\",\"okra\",\"mug\",\"matt\",\"4.5_star\",\"rain\",\"schnitzel\",\"animal\",\"equal\",\"facility\",\"lemongrass\",\"darn\",\"b_c\",\"wide_selection\",\"slip\",\"bibimbap\",\"sloppy\",\"cashew\",\"track\",\"kobe\",\"forth\",\"trek\",\"drag\",\"mississauga\",\"grade\",\"-the\",\"execution\",\"authenticity\",\"badly\",\"wake_up\",\"fig\",\"tooth\",\"gamble\",\"saucy\",\"colorful\",\"mind_blow\",\"kindly\",\"tune\",\"seaweed_salad\",\"balsamic\",\"summerlin\",\"free_wifi\",\"earl\",\"cat\",\"oder\",\"noch\",\"western\",\"17\",\"sink\",\"mongolian_beef\",\"thank_goodness\",\"joy\",\"defiantly\",\"cafeteria\",\"matcha\",\"cider\",\"outrageous\",\"beach\",\"tie\",\"butt\",\"sigh\",\"cone\",\"mr.\",\"swing\",\"rotate\",\"taiwanese\",\"unbelievably\",\"ahi\",\"rank\",\"celebration\",\"mmm\",\"border\",\"11_a.m.\",\"upon_enter\",\"gorgonzola\",\"mocha\",\"=)\",\"wonton_soup\",\"maple_syrup\",\"remodel\",\"arrival\",\"replacement\",\"keg\",\"chimichanga\",\"garlic_naan\",\"thrill\",\"biryani\",\"toddler\",\"anybody\",\"$_2.50\",\"gta\",\"maki\",\"rudely\",\"bay\",\"san_francisco\",\"paste\",\"norm\",\"variation\",\"eggs_benedict\",\"noise_level\",\"luke_warm\",\"lentil\",\"wicked_spoon\",\"high_school\",\"pairing\",\"sketchy\",\"carrot_cake\",\"inattentive\",\"appealing\",\"witness\",\"approximately\",\"wonder_why\",\"low_key\",\"soft_shell_crab\",\"cab\",\"superior\",\"runner\",\"additionally\",\"dust\",\"truth\",\"hush_puppy\",\"patience\",\"speedy\",\"i'm\",\"ultimate\",\"fuck\",\"sunset\",\"drip\",\"chile\",\"lousy\",\"swim\",\"rave_review\",\"duck_confit\",\"i.\",\"football\",\"exit\",\"ultimately\",\"adjust\",\"lock\",\"shade\",\"bread_basket\",\"supposedly\",\"young_man\",\"rip\",\"cube\",\"gratuity\",\"proud\",\"auf\",\"native\",\"kobe_beef\",\"first_timer\",\"celery\",\":d\",\"paradise\",\"ipad\",\"absolute_favorite\",\"kale_salad\",\"incorrect\",\"access\",\"bao\",\"no_frill\",\"lineup\",\"los_angeles\",\"til\",\"social\",\"embarrassed\",\"upon_arrival\",\"prix_fixe\",\"mmmm\",\"operation\",\"grape\",\"reasonably\",\"peak\",\"p.s.\",\"picky_eater\",\"nose\",\"etwas\",\"gift\",\"breadstick\",\"somebody\",\"sind\",\"attract\",\"branch\",\"pico_de_gallo\",\"import\",\"lower\",\"hoagie\",\"underneath\",\"drool\",\"conference\",\"outlet\",\"open_24_hour\",\"que\",\"eggs\",\"wooden\",\"busser\",\"difference_between\",\"holy\",\"sunny\",\"f\\u00fcr\",\"chopstick\",\"hardly_any\",\"rio\",\"pretend\",\"fruity\",\"fourth\",\"sundae\",\"crush\",\"depth\",\"tostada\",\"cinnamon_roll\",\"queen\",\"sat\",\"self_serve\",\"record\",\"fellow\",\"scallion\",\"yellow_curry\",\"assorted\",\"fuss\",\"sage\",\"bird\",\"cosmo\",\"dang\",\"guide\",\"spirit\",\"blacken\",\"enthusiastic\",\"sheet\",\"wendy_'s\",\"naturally\",\"trout\",\"limp\",\"industrial\",\"praise\",\"planet_hollywood\",\"cash_register\",\"escape\",\"corned_beef_hash\",\"voucher\",\"breath\",\"metal\",\"stool\",\"saturday_evening\",\"sprout\",\"distance\",\"warrant\",\"ounce\",\"prop\",\"5-star\",\"relative\",\"down_hill\",\"lettuce_tomato\",\"mission\",\"disaster\",\"tuesdays\",\"connoisseur\",\"reminiscent\",\"beg\",\"nervous\",\"lucky_enough\",\"$_22\",\"flour_tortilla\",\"measure\",\"account\",\"stress\",\"property\",\"dipping\",\"creme_br\\u00fbl\\u00e9e\",\"dragon\",\"ethiopian\",\"tex_mex\",\"store_buy\",\"10/10\",\"smoking\",\"sweet_tooth\",\"shoe\",\"weight\",\"confusion\",\"pathetic\",\"ha\",\"tuck\",\"successful\",\"campus\",\"canned\",\"cardboard\",\"persian\",\"crab_rangoon\",\"allergic\",\"public\",\"chicken_tikka_masala\",\"savoury\",\"thrilled\",\"hood\",\"room_temperature\",\"ability\",\"$_1.50\",\"bake_bean\",\"basement\",\"freakin\",\"decade\",\"tavern\",\"engage\",\"annoy\",\"following\",\"connect\",\"teach\",\"payment\",\"glove\",\"weeknight\",\"aunt\",\"effect\",\"compete\",\"cosmopolitan\",\"dosa\",\"ur\",\"research\",\"obnoxious\",\"mayonnaise\",\"ear\",\"chilly\",\"souvlaki\",\"overrated\",\"brick\",\"salami\",\"dice\",\"supply\",\"english_muffin\",\"assist\",\"addictive\",\"boston\",\"revisit\",\"goat\",\"family_member\",\"\\u00a3\",\"interact\",\"enhance\",\"gin\",\"potsticker\",\"wind\",\"tony\",\"survive\",\"oatmeal\",\"f\",\"savor\",\"penne\",\"hashbrown\",\"mashed_potato\",\"extraordinary\",\"feedback\",\"seemingly\",\"entry\",\"bday\",\"mahi_mahi\",\"chick\",\"wir\",\"french_dip\",\"hall\",\"snap\",\"gesture\",\"mister\",\"surf\",\"reliable\",\"habit\",\"circle\",\"bouncer\",\"michael\",\"university\",\"fold\",\"narrow\",\"perfectly_seasoned\",\"phx\",\"caviar\",\"vintage\",\"timely\",\"slab\",\"arepa\",\"poach_egg\",\"boneless\",\"wisconsin\",\"id\",\"thank_god\",\"source\",\"comforting\",\"zum\",\"cow\",\"summary\",\"brilliant\",\"hollandaise_sauce\",\"computer\",\"braise\",\"burrata\",\"dining_companion\",\"mal\",\"peel\",\"edit\",\"fillet\",\"renovation\",\"von\",\"tasteful\",\"shoulder\",\"promotion\",\"spell\",\"accidentally\",\"addict\",\"provolone\",\"roughly\",\"oh_my\",\"ranch_dressing\",\"award\",\"radish\",\"hier\",\"idiot\",\"delighted\",\"relate\",\"enchiladas\",\"overbearing\",\"substitution\",\"teppanyaki\",\"filler\",\"deck\",\"bottomless\",\"brand_new\",\"proportion\",\"india\",\"contemporary\",\"brioche\",\"frustrated\",\"frank\",\"35\",\"sauteed\",\"shut\",\"rainbow\",\"portions\",\"grand_opening\",\"tao\",\"reality\",\"department\",\"cobb_salad\",\"rave\",\"linger\",\"crusty\",\"valentine_'s_day\",\"significant\",\"mandalay_bay\",\"black_pepper\",\"bell_pepper\",\"shower\",\"button\",\"waffles\",\"bloody\",\"ah\",\"sommelier\",\"nicely_decorate\",\"crumb\",\"innovative\",\"freezer\",\"garlicky\",\"bouchon\",\"substantial\",\"relish\",\"hilarious\",\"breast\",\"omakase\",\"component\",\"insult\",\"truffle_oil\",\"hazelnut\",\"automatically\",\"unassuming\",\"commercial\",\"supreme\",\"horrendous\",\"gluten\",\"est\",\"minor\",\"distinct\",\"35_minute\",\"costco\",\"$_3.50\",\"asap\",\"spiced\",\"fireplace\",\"cheat\",\"du\",\"ac\",\"tacky\",\"shitty\",\"caper\",\"rent\",\"dave\",\"shake_shack\",\"caprese\",\"pot_sticker\",\"associate\",\"0\",\"stumble\",\"grandmother\",\"supermarket\",\"gather\",\"specially\",\"july\",\"unsure\",\"google\",\"scrap\",\"coconut_milk\",\"mousse\",\"manhattan\",\"devil_egg\",\"gas_station\",\"intense\",\"admittedly\",\"au\",\"network\",\"flavoring\",\"festival\",\"obsess\",\"rabbit\",\"friday_evening\",\"cap\",\"mama\",\"understanding\",\"liver\",\"remake\",\"miserable\",\"triple\",\"dairy\",\"steamed\",\"addicting\",\"tastebud\",\"chase\",\"situate\",\"roof\",\"jambalaya\",\"sourdough\",\"jason\",\"irritated\",\"block_away\",\"bummed\",\"adore\",\"bell\",\"thirsty\",\"master\",\"aus\",\"represent\",\"practice\",\"turf\",\"stuffy\",\"heavily\",\"thumb\",\"atop\",\"das_essen\",\"brussels_sprout\",\"rotation\",\"chive\",\"magical\",\"icing\",\"randomly\",\"mixed_green\",\"flame\",\"hallway\",\"gordon_ramsay\",\"yonge\",\"marshmallow\",\"caribbean\",\"complementary\",\"exchange\",\"creativity\",\"1/4\",\"reduce\",\"no_clue\",\"banchan\",\"taro\",\"hollandaise\",\"notch\",\"tvs\",\"conveniently_locate\",\"slap\",\"beignet\",\"shortly\",\"linguine\",\"l\",\"epic\",\"thigh\",\"ohio\",\"unimpressed\",\"accompaniment\",\"bubble\",\"distract\",\"6:30\",\"hmmm\",\"bolognese\",\"presence\",\"gm\",\"forgettable\",\"mush\",\"yea\",\"outback\",\"scarborough\",\"reward\",\"handmade\",\"save_grace\",\"hidden\",\"munch\",\"trend\",\"root\",\"treatment\",\"st\",\"spotty\",\"wine_pairing\",\"powder\",\"baja\",\"new_york_style\",\"sam\",\"bustle\",\"grind\",\"peruse\",\"retro\",\"tom\",\"glance\",\"dressed\",\"hefty\",\"mais\",\"near_future\",\"belong\",\"occasional\",\"vast\",\"stuffing\",\"hustle\",\"loose\",\"inventive\",\"packet\",\"extreme\",\"caprese_salad\",\"guinness\",\"downtown_phoenix\",\"rye\",\"thailand\",\"television\",\"wood_fire\",\"nur\",\"village\",\"speak_english\",\"remarkable\",\"temp\",\"sauerkraut\",\"r\",\"carpaccio\",\"x\",\"fryer\",\"hmm\",\"gym\",\"viet\",\"versus\",\"0_star\",\"lesson\",\"jazz\",\"organize\",\"collard_green\",\"overhear\",\"compensate\",\"sparse\",\"moderately\",\"fucking\",\"wagyu\",\"yam\",\"sophisticated\",\"ease\",\"nick\",\"wok\",\"fond\",\"vote\",\"dill\",\"heat_lamp\",\"shack\",\"4.5\",\"wedge_salad\",\"sever\",\"nightmare\",\"strongly_recommend\",\"ugly\",\"few_month_ago\",\"brazilian\",\"peruvian\",\"$_45\",\"palace\",\"15_20_minute\",\"bike\",\"yard\",\"margherita_pizza\",\"root_beer\",\"death\",\"bravo\",\"interrupt\",\"ownership\",\"coma\",\"24\",\"deny\",\"carnivore\",\"fall_short\",\"david\",\"friendliness\",\"snag\",\"prevent\",\"tail\",\"speaker\",\"private_room\",\"chickpea\",\"european\",\"district\",\"summerlicious\",\"interaction\",\"fairly_quickly\",\"alle\",\"dumb\",\"$_5.99\",\"nature\",\":p\",\"west_coast\",\"ethnic\",\"yup\",\"disgusted\",\"thinly_slice\",\"creme\",\"stroll\",\"passable\",\"internet\",\"frosting\",\"lotus\",\"bei\",\"poke_bowl\",\"towel\",\"primarily\",\"signage\",\"rival\",\"metro\",\"panang_curry\",\"france\",\"regular_basis\",\"cent\",\"painting\",\"sitting\",\"palette\",\"urban\",\"eggroll\",\"disorganized\",\"manger\",\"pico\",\"dem\",\"smoker\",\"lb\",\"competitor\",\"7:30\",\"observe\",\"dancing\",\"clue\",\"oddly\",\"foam\",\"piss\",\"monster\",\"carne_asada_burrito\",\"desk\",\"questionable\",\"bust\",\"most_recent_visit\",\"secondly\",\"soooooo\",\"apple_pie\",\"saturdays\",\"new_orleans\",\"unreal\",\"alcoholic\",\"sehr\",\"sea_salt\",\"portuguese\",\"er\",\"shredded\",\"takoyaki\",\"chutney\",\"pinch\",\"repeatedly\",\"dimly_light\",\"degree\",\"hash_house\",\"izakaya\",\"barbeque\",\"mochi\",\"hike\",\"mile_away\",\"horribly\",\"dear\",\"alley\",\"priority\",\"tilapia\",\"instant\",\"info\",\"debate\",\"pushy\",\"well_balanced\",\"stall\",\"yum_yum\",\"shall\",\"differently\",\"shelf\",\"equivalent\",\"tzatziki\",\"king_crab\",\"excitement\",\"bacchanal\",\"drinker\",\"specify\",\"communicate\",\"instance\",\"boast\",\"lola\",\"nach\",\"tartar_sauce\",\"underwhelmed\",\"peking_duck\",\"laptop\",\"scared\",\"vs.\",\"non_existent\",\"purple\",\"hospital\",\"naked\",\"chile_relleno\",\"diamond\",\"convert\",\"uh\",\"1/3\",\"outing\",\"long_story_short\",\"plane\",\"language\",\"red_velvet\",\"$_19\",\"fixing\",\"idk\",\"solo\",\"mondays\",\"barbacoa\",\"thoughtful\",\"$_9.99\",\"sugary\",\"intrigue\",\"alex\",\"bookmark\",\"2.5_star\",\"caesars\",\"maker\",\"habanero\",\"slimy\",\"cob\",\"incident\",\"constant\",\"planet\",\"visible\",\"forgive\",\"vibrant\",\"papaya_salad\",\"pita_jungle\",\"granola\",\"nightclub\",\"resident\",\"bat\",\"$_200\",\"$_6.99\",\"cleaning\",\"thankful\",\"justice\",\"esp\",\"asian_fusion\",\"pomegranate\",\"lee\",\"grateful\",\"quirky\",\"carefully\",\"butcher\",\"$_7.99\",\"carbonara\",\"huh\",\"drunken\",\"diet_coke\",\"oj\",\"thousand\",\"stranger\",\"outdoors\",\"significantly\",\"bleu_cheese\",\"verdict\",\"flash\",\"energetic\",\"euro\",\"marinade\",\"drunken_noodle\",\"spare\",\"influence\",\"ad\",\"applebee_'s\",\"mandarin\",\"don\",\"humor\",\"excite\",\"11:30\",\"t_shirt\",\"sober\",\"pate\",\"brews\",\"anchovy\",\"lentil_soup\",\"trivium\",\"neck\",\"surrounding\",\"pissed\",\"coating\",\"overwhelm\",\"breeze\",\"deluxe\",\"pump\",\"quit\",\"chicago_style\",\"rolls\",\"decently\",\"leek\",\"niece\",\"pleasing\",\"g\",\"$_24\",\"genius\",\"cooler\",\"scary\",\"artwork\",\"cantonese\",\"saltiness\",\"chai\",\"performance\",\"charcuterie\",\"paneer\",\"facebook\",\"patronize\",\"shady\",\"2/5\",\"brat\",\"stare\",\"2.5\",\"heater\",\"golf\",\"organized\",\"iceberg_lettuce\",\"teenager\",\"urge\",\"bahn_mi\",\"video\",\"faf\",\"hospitable\",\"flamingo\",\"strictly\",\"atm\",\"jean\",\"flair\",\"sammy\",\"bento\",\"unpretentious\",\"loss\",\"pas\",\"blood\",\"45\",\"criticism\",\"activity\",\"philly_cheesesteak\",\"sicilian\",\"hakka\",\"22\",\"lip\",\"adjacent\",\"apartment\",\"bus_boy\",\"11_p.m.\",\"thinking\",\"szechuan\",\"biased\",\"tartar\",\"stout\",\"splitting\",\"beauty\",\"kbbq\",\"winterlicious\",\"stunning\",\"mystery\",\"exact_same\",\"desperate\",\"moderate\",\"overcharge\",\"tripe\",\"nobu\",\"blonde\",\"5:30\",\"satisfaction\",\"palazzo\",\"personal_preference\",\"abundance\",\"k\",\"status\",\"sand\",\"suddenly\",\"unappetizing\",\"red_robin\",\"dann\",\"ie\",\"notify\",\"75\",\"pad\",\"uniform\",\"port\",\"appropriately\",\"terrace\",\"stiff\",\"highly_suggest\",\"hong_kong\",\"shin\",\"pad_see_ew\",\"ghetto\",\"parsley\",\"chart\",\"pupusa\",\"bore\",\"tartare\",\"marry\",\"margherita\",\"sneak\",\"dime\",\"lid\",\"general_tso_'s\",\"general_manager\",\"chocolate_mousse\",\"dort\",\"capacity\",\"uncle\",\"rigatoni\",\"live_band\",\"route\",\"brush\",\"irish_pub\",\"hamachi\",\"skirt_steak\",\"explosion\",\"swiss\",\"stuttgart\",\"bitch\",\"bizarre\",\"factory\",\"hover\",\"shave\",\"patiently\",\"chowder\",\"pot_roast\",\"brain\",\"pancetta\",\"region\",\"puff\",\"shove\",\"supper\",\"sharing\",\"food-\",\"countless\",\"seattle\",\"altogether\",\"substance\",\"fridays\",\"reference\",\"cutlery\",\"hungover\",\"gambling\",\"masala\",\"fashion\",\"bored\",\"officially\",\"mirage\",\"pant\",\"40_min\",\"richness\",\"boo\",\"oreo\",\"saut\\u00e9ed\",\"midwest\",\"speciality\",\"ocean\",\"lox\",\"deter\",\"generously\",\"pregnant\",\"$_28\",\"jamaican\",\"burro\",\"must_admit\",\"eve\",\"penny\",\"dingy\",\"intention\",\"grimaldi_'s\",\"buffalo_wing\",\"snow\",\"fennel\",\"pan_roast\",\"succeed\",\"neglect\",\"palm\",\"roberto_'s\",\"harsh\",\"collection\",\"construction\",\"looking\",\"yo\",\"frame\",\"brooklyn\",\"lacking\",\"wird\",\"mozzarella_stick\",\"gyros\",\"junk\",\"pierogie\",\"mmmmm\",\"occur\",\"tricky\",\"eastern\",\"high_ceiling\",\"shy\",\"plant\",\"resolve\",\"pleasantly\",\"shut_down\",\"halfway_through\",\"gas\",\"bacon_cheeseburger\",\"j\",\"ooze\",\"mass\",\"perform\",\"decently_price\",\"loudly\",\"asada\",\"overflow\",\"sonic\",\"unnecessary\",\"americanized\",\"impatient\",\"foie_gras\",\"alongside\",\"boneless_wing\",\"clueless\",\"george\",\"wurde\",\"atrocious\",\"ny_strip\",\"bellagio_fountain\",\"mound\",\"peppercorn\",\"umami\",\"affect\",\"ne\",\"poster\",\"raisin\",\"douse\",\"march\",\"surface\",\"pit\",\"hooter\",\"purse\",\"$_4.50\",\"mr\",\"courtesy\",\"bedienung\",\"hometown\",\"overload\",\"steer\",\"swallow\",\"develop\",\"lychee\",\"childhood\",\"human\",\"heap\",\"carolina\",\"puree\",\"mellow\",\"asia\",\"jumbo\",\"busboy\",\"mirror\",\"length\",\"au_jus\",\"haben\",\"8:30\",\"formal\",\"3.5/5\",\"unagi\",\"sidewalk\",\"reaction\",\"slot\",\"$_26\",\"cell_phone\",\"engaging\",\"arrange\",\"unhealthy\",\"perk\",\"comfortably\",\"plump\",\"fluke\",\"behavior\",\"prob\",\"garage\",\"renovate\",\"fulfil\",\"creepy\",\"bisque\",\"pork_tenderloin\",\"weigh\",\"dull\",\"karaage\",\"tenderloin\",\"sock_off\",\"tapas_style\",\"turkish\",\"pillow\",\"cowboy\",\"linguini\",\"honey_mustard\",\"sufficient\",\"vendor\",\"chick_fil\",\"tom_yum_soup\",\"river\",\"race\",\"latin\",\"pei_wei\",\"transport\",\"sin_city\",\"position\",\"bottomless_mimosa\",\"explode\",\"fab\",\"entr\\u00e9es\",\"grapefruit\",\"by_accident\",\"sahara\",\"pakora\",\"steve\",\"sf\",\"forgot\",\"collect\",\"roommate\",\"lakewood\",\"taquito\",\"jacket\",\"greatly\",\"excessive\",\"chalkboard\",\"shrug\",\"splash\",\"kiss\",\"gibt\",\"novelty\",\"loyal_customer\",\"doctor\",\"behold\",\"benny\",\"alive\",\"el\",\"potatoes\",\"disagree\",\"tamarind\",\"image\",\"plethora\",\"queue\",\"journey\",\"wilt\",\"sharp\",\"blind\",\"tokyo\",\"digress\",\"satisfactory\",\"complicated\",\"braise_beef\",\"seal\",\"colour\",\"east_valley\",\"stringy\",\"carpet\",\"peep\",\"dirt\",\"chicken_marsala\",\"beat_path\",\"trade\",\"sesame_seed\",\"yolk\",\"margaritas\",\"browse\",\"apparent\",\"beautifully_present\",\"deceive\",\"reception\",\"football_game\",\"mail\",\"glorious\",\"most_recent\",\"wheel\",\"forward\",\"bro\",\"gain\",\"pressure\",\"key_lime_pie\",\"include_tax\",\"overly_salty\",\"adobo\",\"americano\",\"partake\",\"tendon\",\"morsel\",\"halal\",\"romaine\",\"tuna_tartare\",\"panna_cotta\",\"lamb_shank\",\"phone_number\",\"buttermilk\",\"asu\",\"lebanese\",\"grumpy\",\"privacy\",\"tremendous\",\"thai_basil\",\"caliber\",\"humble\",\"suffice\",\"condition\",\"embarrassing\",\"b.\",\"c'mon\",\"mason_jar\",\"glendale\",\"slather\",\"2016\",\"p\",\"swap\",\"melon\",\"partially\",\"watch_sport\",\"nephew\",\"9:30\",\"bay_area\",\"toro\",\"peace\",\"towner\",\"dynamite\",\"chili_oil\",\"yard_house\",\"stain\",\"perspective\",\"$_7.50\",\"underwhelm\",\"rubber\",\"mask\",\"ashamed\",\"2015\",\"player\",\"$_4.99\",\"rotten\",\"e.g.\",\"balanced\",\"nestle\",\"tonkatsu\",\"refri_bean\",\"z\",\"bison\",\"une\",\"poached_egg\",\"link\",\"togo\",\"old_fashion\",\"communication\",\"soap\",\"statement\",\"mince\",\"$_8.99\",\"sampling\",\"locally\",\"extend\",\"tub\",\"einen\",\"expire\",\"caution\",\"salt_caramel\",\"cram\",\"twenty_minute\",\"live_closer\",\"fellow_yelper\",\"dimsum\",\"tempting\",\"duh\",\"august\",\"brian\",\"grill_octopus\",\"tri_tip\",\"spoiled\",\"drain\",\"rant\",\"firefly\",\"navigate\",\"pollo\",\"carafe\",\"gathering\",\"beef_wellington\",\"honesty\",\"rotisserie_chicken\",\"channel\",\"favs\",\"board_game\",\"moscow_mule\",\"thai_iced_tea\",\"champaign\",\"poach\",\"owe\",\"wild_mushroom\",\"within_walking_distance\",\"kann\",\"\\u00e9tait\",\"quest\",\"artist\",\"tropical\",\"magnificent\",\"spotless\",\"stamp\",\"pepsi\",\"unremarkable\",\"danforth\",\"carne\",\"yuzu\",\"title\",\"invest\",\"courtyard\",\"inhale\",\"burgers\",\"fettuccine\",\"king_crab_leg\",\"10:30\",\"mildly\",\"intimidate\",\"ryan\",\"convention\",\"cane\",\"pet_peeve\",\"swiss_cheese\",\"johnny\",\"solely\",\"shrimp_scampi\",\"immediate\",\"buttered\",\"porterhouse\",\"disclaimer\",\"plating\",\"cosy\",\"choke\",\"yikes\",\"ex\",\"sun_dry_tomato\",\"giada\",\"werden\",\"preserve\",\"panang\",\"spam\",\"estimate\",\"worthwhile\",\"function\",\"stylish\",\"centre\",\"bubbly\",\"immer\",\"preface\",\"kevin\",\"hotpot\",\"nibble\",\"determine\",\"pronounce\",\"3/4\",\"smashburger\",\"tahini\",\"limited_seating\",\"dangerous\",\"stromboli\",\"vom\",\"map\",\"april\",\"locally_own\",\"shine\",\"promote\",\"northern\",\"british\",\"rely\",\"target\",\"8_oz\",\"competent\",\"copy\",\"texas_toast\",\"pierogi\",\"crawl\",\"alert\",\"premise\",\"crab_puff\",\"stink\",\"fritter\",\"umbrella\",\"peppery\",\"chandelier\",\"einem\",\"couscous\",\"plum\",\"good-\",\"chalk\",\"town_square\",\"accessible\",\"waiting_area\",\"gave\",\"turnover\",\"brag_about\",\"disrespectful\",\"chilled\",\"tomato_basil\",\"swordfish\",\"frustration\",\"abundant\",\"balcony\",\"tapioca\",\"shredded_beef\",\"sorta\",\"jalepeno\",\"artichoke_dip\",\"cesar_salad\",\"carve\",\"postino\",\"s'more\",\"accordingly\",\"ultra\",\"firstly\",\"nc\",\"19\",\"$_23\",\"nerve\",\"dash\",\"escort\",\"artisan\",\"nod\",\"film\",\"eric\",\"$_6.50\",\"sliver\",\"boom\",\"cotton_candy\",\"encore\",\"lane\",\"dollop\",\"rob\",\"aesthetic\",\"petite\",\"add_bonus\",\"expansive\",\"modest\",\"monta\",\"30min\",\"merely\",\"restaurants\",\"ginormous\",\"angel\",\"southwestern\",\"gate\",\"refresh\",\"program\",\"interior_design\",\"cream_spinach\",\"bun_bo_hue\",\"spinach_dip\",\"whole_wheat\",\"25_min\",\"steak_frite\",\"black_cod\",\"salivate\",\"debit\",\"treasure\",\"croquette\",\"descent\",\"uninspired\",\"elevate\",\"cuban_sandwich\",\"best_tasting\",\"tout\",\"2014\",\"oregano\",\"professionalism\",\"steam_bun\",\"bum\",\"almond_milk\",\"sp\",\"short_staffed\",\"takeaway\",\"schon\",\"tortellini\",\"swanky\",\"shave_ice\",\"default\",\"rachel\",\"flawless\",\"confident\",\"tom_yum\",\"portobello\",\"paul\",\"bar_stool\",\"mary\",\"deduct\",\"grace\",\"sensitive\",\"anthony\",\"mgm_grand\",\"echo\",\"munchie\",\"spa\",\"someplace\",\"bon\",\"crostini\",\"flank_steak\",\"tang\",\"identify\",\"wrapper\",\"december\",\"new_york_strip\",\"costumer\",\"individually\",\"amuse_bouche\",\"pet\",\"role\",\"open_24/7\",\"shwarma\",\"housemade\",\"scotch\",\"moon\",\"critical\",\"russian\",\"fremont\",\"no_biggie\",\"rowdy\",\"chimichurri\",\"brief\",\"celebrity\",\"first_glance\",\"menudo\",\"walk_distance\",\"aged\",\"flavor_profile\",\"$_27\",\"accommodating\",\"goal\",\"offend\",\"delivery_driver\",\"qui\",\"june\",\"debit_card\",\"thickness\",\"wow_factor\",\"chaotic\",\"gift_certificate\",\"c'est\",\"passion_fruit\",\"wirklich\",\"experienced\",\"notable\",\"prepp\",\"dissapoint\",\"halfway\",\"2013\",\"bobby\",\"january\",\"blackberry\",\"bin\",\"dc\",\"verde\",\"episode\",\"acai_bowl\",\"soupy\",\"earthy\",\"sir\",\"oysters\",\"1.5\",\"solution\",\"james\",\"greasy_spoon\",\"ship\",\"thus_far\",\"lobster_ravioli\",\"warmth\",\"mate\",\"approve\",\"aromatic\",\"unsatisfied\",\"only_downfall\",\"senior\",\"headache\",\"pal\",\"po_boy\",\"oakland\",\"aforementioned\",\"shellfish\",\"$_5.50\",\"wide_range\",\"hero\",\"toy\",\"clever\",\"sublime\",\"accident\",\"chilean_sea_bass\",\"bs\",\"1.5_hour\",\"fragrant\",\"kiddo\",\"more_importantly\",\"esque\",\"snow_crab\",\"banana_pudding\",\"smoked\",\"$_5.00\",\"dock\",\"birthday_celebration\",\"15min\",\"cherry_tomato\",\"dim_lighting\",\"asian_cuisine\",\"hectic\",\"sens\",\"oregano_'s\",\"beef_tongue\",\"borderline\",\"intrusive\",\"strangely\",\"atleast\",\"downright\",\"focaccia\",\"stir\",\"magazine\",\"approx\",\"await\",\"recent_trip\",\"gristle\",\"siam\",\"panda\",\"loco_moco\",\"alike\",\"das_ambiente\",\"lap\",\"goodbye\",\"college_student\",\"6_pm\",\"sweeten\",\"reopen\",\"spare_rib\",\"$_150\",\"backyard\",\"charcoal\",\"cold_brew\",\"usa\",\"cafe_rio\",\"suite\",\"$_3.99\",\"only_drawback\",\"fremont_street\",\"theatre\",\"med\",\"mango_lassi\",\"unorganized\",\"bok_choy\",\"ou\",\"assemble\",\"i've\",\"touristy\",\"indifferent\",\"assign\",\"peaceful\",\"30_+\",\"perch\",\"$_75\",\"faux\",\"monthly\",\"remark\",\"de_la\",\"hip_hop\",\"beef_carpaccio\",\"sticky_toffee_pudding\",\"salads\",\"7_pm\",\"absorb\",\"iced_coffee\",\"definition\",\"parm\",\"rooftop\",\"dick\",\"bob\",\"proximity\",\"louisiana\",\"partial\",\"kids\",\"p.s\",\"passionate_about\",\"refrigerator\",\"sunny_side\",\"downtown_toronto\",\"air_conditioning\",\"enthusiasm\",\"parfait\",\"24/7\",\"quail\",\"unimpressive\",\"butternut_squash\",\"101\",\"incompetent\",\"souffle\",\"dunno\",\"hella\",\"horse\",\"affair\",\"chuck\",\"mop\",\"north_scottsdale\",\"wipe_down\",\"sapporo\",\"europe\",\"banana_cream\",\"whilst\",\"corn_dog\",\"infamous\",\"50_cent\",\"horrid\",\"rim\",\"experiment\",\"tourist_trap\",\"grey\",\"laden\",\"ikea\",\"umm\",\"fast_forward\",\"someday\",\"heartbeat\",\"pile_high\",\"dry_rub\",\"duck_breast\",\"bloor\",\"aloha\",\"acidic\",\"institution\",\"burgh\",\"florida\",\"technically\",\"wander_around\",\"happiness\",\"casserole\",\"nonsense\",\"ashley\",\"blue_moon\",\"ma\",\"haddock\",\"popularity\",\"afterward\",\"marble\",\"ra\",\"aim\",\"low_rating\",\"blaze\",\"converse\",\"scenery\",\"rainbow_roll\",\"caramelized\",\"lend\",\"cafeteria_style\",\"fifteen_minute\",\"competitive\",\"oasis\",\"maki_roll\",\"meatball_sub\",\"valet_parking\",\"ray\",\"nostalgic\",\"bind\",\"garlic_mash_potato\",\"destroy\",\"servers\",\"tzatziki_sauce\",\"brick_oven\",\"acoustic\",\"picnic_table\",\"international\",\"ness\",\"milk_shake\",\"dragon_roll\",\"dress_code\",\"lift\",\"gordon_ramsey\",\"china_town\",\"accomodating\",\"toasty\",\"clock\",\"brave\",\"ripe\",\"noticeable\",\"storm\",\"compromise\",\"bowling\",\"critique\",\"marg\",\"indian_cuisine\",\"october\",\"arrangement\",\"utterly\",\"beef_stew\",\"awesomeness\",\"brim\",\"artificial\",\"playing\",\"thursdays\",\"exaggerate\",\"simplicity\",\"raw_oyster\",\"95\",\"$_8.50\",\"bye\",\"clarify\",\"hunk\",\"lemon_pepper\",\"newbie\",\"nutty\",\"nowhere_near\",\"ben\",\"jeff\",\"5th\",\"avec\",\"dissatisfied\",\"plastic_cup\",\"soda_machine\",\"orient\",\"spring_rolls\",\"suitable\",\"overrate\",\"avacado\",\"black_olive\",\"pancakes\",\"chardonnay\",\"mon\",\"bleh\",\"n_juicy\",\"brown_sugar\",\"similarly\",\"scallops\",\"spoonful\",\"instagram\",\"evident\",\"2017\",\"slack\",\"robust\",\"lo\",\"filter\",\"arcade\",\"10min\",\"q\",\"prize\",\"pinot_noir\",\"pork_shoulder\",\"iron\",\"bachelorette_party\",\"unbeatable\",\"bath\",\"task\",\"houston\",\"string\",\"amy\",\"royal\",\"fox\",\"wth\",\"scott\",\"instruction\",\"fiancee\",\"apricot\",\"red_velvet_pancake\",\"newspaper\",\"tow\",\"november\",\"chow_down\",\"vomit\",\"jimmy\",\"anxious\",\"virtually\",\"responsive\",\"fanatic\",\"difficulty\",\"helping\",\"refried_bean\",\"imho\",\"powdered_sugar\",\"stumble_across\",\"pat\",\"hanger_steak\",\"seed\",\"awkwardly\",\"snobby\",\"heirloom_tomato\",\"incorrectly\",\"pastor\",\"antipasto\",\"singer\",\"chilaquile\",\"joey\",\"appetizers\",\"2012\",\"transaction\",\"path\",\"20min\",\"heated\",\"model\",\"paper_towel\",\"elbow\",\"saffron\",\"harvest\",\"marinated\",\"logo\",\"hill\",\"bien\",\"2x\",\"teen\",\"popeyes\",\"egg_benny\",\"socialize\",\"16_oz\",\"sweetheart\",\"90_minute\",\"terminal\",\"adorn\",\"wee\",\"appointment\",\"throat\",\"lord\",\"dripping\",\"west_valley\",\"bonus_point\",\"condense_milk\",\"yorkville\",\"habe\",\"entre\",\"diablo\",\"steer_clear\",\"mule\",\"delicacy\",\"remotely\",\"lengthy\",\"essence\",\"smh\",\"tolerate\",\"letter\",\"carving_station\",\"lure\",\"handy\",\"national\",\"muscle\",\"mural\",\"hr\",\"huevo_ranchero\",\"announce\",\"lime_juice\",\"amber\",\"method\",\"lifetime\",\"sweep\",\"ruben\",\"korea\",\"meaning\",\"lemony\",\"divey\",\"lamp\",\"kimchee\",\"establish\",\"arrogant\",\"mere\",\"99\",\"vanilla_bean\",\"verify\",\"soju\",\"respectful\",\"sardine\",\"friday_afternoon\",\"brio\",\"silver\",\"cracker_barrel\",\"miami\",\"pros\",\"oh_my_god\",\"surpass\",\"kim\",\"definetly\",\"starch\",\"dan\",\"bass\",\"commit\",\"roomy\",\"peach_cobbler\",\"sie\",\"hankering\",\"tucson\",\"pine_nut\",\"fuel\",\"height\",\"disgust\",\"cumin\",\"act_together\",\"enjoyment\",\"fire_pit\",\"curd\",\"iced\",\"udon_noodle\",\"vancouver\",\"$_7.95\",\"dietary_restriction\",\"fam\",\"salsa_verde\",\"flare\",\"$_8.95\",\"addicted\",\"expense\",\"gaming\",\"bark\",\"nevada\",\"socal\",\"lecker\",\"jukebox\",\"carnitas\",\"dining_partner\",\"amaze\",\"hug\",\"basmati_rice\",\"contribute\",\"whisky\",\"progress\",\"festive\",\"chow\",\"je\",\"braise_short_rib\",\"cigarette\",\"mock\",\"mackerel\",\"camelback\",\"$_32\",\"meantime\",\"wieder\",\"tabasco\",\"tank\",\"absurd\",\"bobby_flay\",\"doch\",\"crispy_skin\",\"chilis\",\"file\",\"kicker\",\"storefront\",\"ciabatta\",\"ontario\",\"overwhelmingly\",\"ummm\",\"nap\",\"pretzel_bun\",\"nostalgia\",\"premade\",\"$_6.95\",\"retail\",\"favour\",\"venison\",\"respectable\",\"mon_ami_gabi\",\"chaos\",\"steamed_rice\",\"attendant\",\"cordial\",\"spring_mountain\",\"hatte\",\"tire\",\"void\",\"rectify\",\"pro_tip\",\"furthermore\",\"malaysian\",\"ole\",\"talented\",\"anywhere_near\",\"walmart\",\"posh\",\"barley\",\"talent\",\"jessica\",\"coin\",\"blended\",\"leather\",\"sprite\",\"ny_style_pizza\",\"chatty\",\"melty\",\"field\",\"cigar\",\"new_mexico\",\"co\",\"several_occasion\",\"discussion\",\"crown\",\"ordering_process\",\"bamboo\",\"cocktails\",\"mein\",\"belgian\",\"sleek\",\"advertised\",\"bare\",\"delightfully\",\"priest\",\"whoa\",\"supervisor\",\"proof\",\"scatter\",\"dedicated\",\"private_party\",\"fellow_yelpers\",\"soft_opening\",\"hispanic\",\"josh\",\"zur\",\"23\",\"waterfall\",\"independent\",\"volcano\",\"outdated\",\"zesty\",\"sole\",\"leak\",\"cutlet\",\"organization\",\"devil\",\"crumbly\",\"efficiently\",\"luxor\",\"4.5/5\",\"balsamic_vinegar\",\"holy_cow\",\"conveniently\",\"lager\",\"burgr\",\"scare\",\"duo\",\"holy_crap\",\"pen\",\"arancini\",\"educate\",\"police\",\"americans\",\"taxi\",\"bachi_burger\",\"intriguing\",\"scar\",\"cop\",\"dancer\",\"fortune\",\"outta\",\"picnic\",\"beef_tenderloin\",\"moroccan\",\"portobello_mushroom\",\"v\",\"flaw\",\"lump\",\"aftertaste\",\"galore\",\"working\",\"guu\",\"graciously\",\"noda\",\"a.\",\"oh_my_goodness\",\"scottish\",\"kosher\",\"slop\",\"pecan_pie\",\"legendary\",\"upside\",\"9_pm\",\"tattoo\",\"flake\"],\"x_coord\":{\"__ndarray__\":\"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\",\"dtype\":\"float32\",\"shape\":[5000]},\"y_coord\":{\"__ndarray__\":\"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\",\"dtype\":\"float32\",\"shape\":[5000]}}},\"id\":\"b09be1b4-03ed-4da2-9b33-85f9cdd0c875\",\"type\":\"ColumnDataSource\"},{\"attributes\":{},\"id\":\"c1a47086-fc33-4ba6-9544-aedbcbfd55e4\",\"type\":\"BasicTickFormatter\"},{\"attributes\":{\"dimension\":1,\"grid_line_color\":{\"value\":null},\"plot\":{\"id\":\"032dc53e-c75e-483d-87db-9809f6d7763f\",\"subtype\":\"Figure\",\"type\":\"Plot\"},\"ticker\":{\"id\":\"bb3439c3-df0c-457b-a377-a33363e1dd40\",\"type\":\"BasicTicker\"}},\"id\":\"1c35081e-de57-4046-9681-ef0589d53022\",\"type\":\"Grid\"},{\"attributes\":{\"bottom_units\":\"screen\",\"fill_alpha\":{\"value\":0.5},\"fill_color\":{\"value\":\"lightgrey\"},\"left_units\":\"screen\",\"level\":\"overlay\",\"line_alpha\":{\"value\":1.0},\"line_color\":{\"value\":\"black\"},\"line_dash\":[4,4],\"line_width\":{\"value\":2},\"plot\":null,\"render_mode\":\"css\",\"right_units\":\"screen\",\"top_units\":\"screen\"},\"id\":\"886590b7-4dbf-4355-9b4c-3c754d476308\",\"type\":\"BoxAnnotation\"},{\"attributes\":{\"callback\":null,\"tooltips\":\"@word\"},\"id\":\"755853d0-cbe1-45ff-a560-332ad40f3d77\",\"type\":\"HoverTool\"},{\"attributes\":{},\"id\":\"72dde4f0-8801-4b77-bab4-17d9fe449bcb\",\"type\":\"PanTool\"},{\"attributes\":{},\"id\":\"bb3439c3-df0c-457b-a377-a33363e1dd40\",\"type\":\"BasicTicker\"}],\"root_ids\":[\"032dc53e-c75e-483d-87db-9809f6d7763f\"]},\"title\":\"Bokeh Application\",\"version\":\"0.12.14\"}};\n",
       "  var render_items = [{\"docid\":\"957df177-1425-4b27-9a9d-cf33a56d3c99\",\"elementid\":\"ca7fcc51-7ba3-43f6-82c6-cc916b86b493\",\"modelid\":\"032dc53e-c75e-483d-87db-9809f6d7763f\"}];\n",
       "  root.Bokeh.embed.embed_items_notebook(docs_json, render_items);\n",
       "\n",
       "  }\n",
       "  if (root.Bokeh !== undefined) {\n",
       "    embed_document(root);\n",
       "  } else {\n",
       "    var attempts = 0;\n",
       "    var timer = setInterval(function(root) {\n",
       "      if (root.Bokeh !== undefined) {\n",
       "        embed_document(root);\n",
       "        clearInterval(timer);\n",
       "      }\n",
       "      attempts++;\n",
       "      if (attempts > 100) {\n",
       "        console.log(\"Bokeh: ERROR: Unable to run BokehJS code because BokehJS library is missing\")\n",
       "        clearInterval(timer);\n",
       "      }\n",
       "    }, 10, root)\n",
       "  }\n",
       "})(window);"
      ],
      "application/vnd.bokehjs_exec.v0+json": ""
     },
     "metadata": {
      "application/vnd.bokehjs_exec.v0+json": {
       "id": "032dc53e-c75e-483d-87db-9809f6d7763f"
      }
     },
     "output_type": "display_data"
    }
   ],
   "source": [
    "# add our DataFrame as a ColumnDataSource for Bokeh\n",
    "plot_data = ColumnDataSource(tsne_vectors)\n",
    "\n",
    "# create the plot and configure the\n",
    "# title, dimensions, and tools\n",
    "tsne_plot = figure(title=u't-SNE Word Embeddings',\n",
    "                   plot_width = 800,\n",
    "                   plot_height = 800,\n",
    "                   tools= (u'pan, wheel_zoom, box_zoom,'\n",
    "                           u'box_select, reset'),\n",
    "                   active_scroll=u'wheel_zoom')\n",
    "\n",
    "# add a hover tool to display words on roll-over\n",
    "tsne_plot.add_tools( HoverTool(tooltips = u'@word') )\n",
    "\n",
    "# draw the words as circles on the plot\n",
    "tsne_plot.circle(u'x_coord', u'y_coord', source=plot_data,\n",
    "                 color=u'blue', line_alpha=0.2, fill_alpha=0.1,\n",
    "                 size=10, hover_line_color=u'black')\n",
    "\n",
    "# configure visual elements of the plot\n",
    "tsne_plot.title.text_font_size = value(u'16pt')\n",
    "tsne_plot.xaxis.visible = False\n",
    "tsne_plot.yaxis.visible = False\n",
    "tsne_plot.grid.grid_line_color = None\n",
    "tsne_plot.outline_line_color = None\n",
    "\n",
    "# engage!\n",
    "show(tsne_plot);"
   ]
  }
 ],
 "metadata": {
  "kernelspec": {
   "display_name": "Python 3",
   "language": "python",
   "name": "python3"
  },
  "language_info": {
   "codemirror_mode": {
    "name": "ipython",
    "version": 3
   },
   "file_extension": ".py",
   "mimetype": "text/x-python",
   "name": "python",
   "nbconvert_exporter": "python",
   "pygments_lexer": "ipython3",
   "version": "3.6.4"
  }
 },
 "nbformat": 4,
 "nbformat_minor": 2
}
